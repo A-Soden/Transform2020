{
  "nbformat": 4,
  "nbformat_minor": 0,
  "metadata": {
    "colab": {
      "name": "1_Pandas_Cleaning_Example_Geothermal.ipynb",
      "provenance": [],
      "collapsed_sections": [],
      "toc_visible": true
    },
    "kernelspec": {
      "name": "python3",
      "display_name": "Python 3"
    }
  },
  "cells": [
    {
      "cell_type": "markdown",
      "metadata": {
        "id": "Yf-TEZnaxXS6",
        "colab_type": "text"
      },
      "source": [
        "# Making a map and some plots with data from Wikipedia!"
      ]
    },
    {
      "cell_type": "markdown",
      "metadata": {
        "id": "zCjHA_Z0a8Bj",
        "colab_type": "text"
      },
      "source": [
        "### Loading in some packages"
      ]
    },
    {
      "cell_type": "code",
      "metadata": {
        "id": "AreR9mC6ZGUt",
        "colab_type": "code",
        "colab": {}
      },
      "source": [
        "import numpy as np # Math \n",
        "import pandas as pd # Data storage\n",
        "import matplotlib.pyplot as plt # Plotting\n",
        "import seaborn as sns # More plotting\n",
        "import re # Data slice and dice\n"
      ],
      "execution_count": 0,
      "outputs": []
    },
    {
      "cell_type": "code",
      "metadata": {
        "id": "MDFE_7Oc0Mj_",
        "colab_type": "code",
        "colab": {
          "base_uri": "https://localhost:8080/",
          "height": 275
        },
        "outputId": "36ae43db-e989-4653-e2e2-ae3539d406ba"
      },
      "source": [
        "!pip install geopandas"
      ],
      "execution_count": 27,
      "outputs": [
        {
          "output_type": "stream",
          "text": [
            "Requirement already satisfied: geopandas in /usr/local/lib/python3.6/dist-packages (0.7.0)\n",
            "Requirement already satisfied: pyproj>=2.2.0 in /usr/local/lib/python3.6/dist-packages (from geopandas) (2.6.0)\n",
            "Requirement already satisfied: pandas>=0.23.0 in /usr/local/lib/python3.6/dist-packages (from geopandas) (1.0.3)\n",
            "Requirement already satisfied: fiona in /usr/local/lib/python3.6/dist-packages (from geopandas) (1.8.13.post1)\n",
            "Requirement already satisfied: shapely in /usr/local/lib/python3.6/dist-packages (from geopandas) (1.7.0)\n",
            "Requirement already satisfied: numpy>=1.13.3 in /usr/local/lib/python3.6/dist-packages (from pandas>=0.23.0->geopandas) (1.18.3)\n",
            "Requirement already satisfied: python-dateutil>=2.6.1 in /usr/local/lib/python3.6/dist-packages (from pandas>=0.23.0->geopandas) (2.8.1)\n",
            "Requirement already satisfied: pytz>=2017.2 in /usr/local/lib/python3.6/dist-packages (from pandas>=0.23.0->geopandas) (2018.9)\n",
            "Requirement already satisfied: click<8,>=4.0 in /usr/local/lib/python3.6/dist-packages (from fiona->geopandas) (7.1.2)\n",
            "Requirement already satisfied: six>=1.7 in /usr/local/lib/python3.6/dist-packages (from fiona->geopandas) (1.12.0)\n",
            "Requirement already satisfied: cligj>=0.5 in /usr/local/lib/python3.6/dist-packages (from fiona->geopandas) (0.5.0)\n",
            "Requirement already satisfied: munch in /usr/local/lib/python3.6/dist-packages (from fiona->geopandas) (2.5.0)\n",
            "Requirement already satisfied: click-plugins>=1.0 in /usr/local/lib/python3.6/dist-packages (from fiona->geopandas) (1.1.1)\n",
            "Requirement already satisfied: attrs>=17 in /usr/local/lib/python3.6/dist-packages (from fiona->geopandas) (19.3.0)\n"
          ],
          "name": "stdout"
        }
      ]
    },
    {
      "cell_type": "code",
      "metadata": {
        "id": "Ip6DwwnqWewb",
        "colab_type": "code",
        "colab": {}
      },
      "source": [
        "import geopandas as gpd"
      ],
      "execution_count": 0,
      "outputs": []
    },
    {
      "cell_type": "markdown",
      "metadata": {
        "id": "hAbH7z30a3tr",
        "colab_type": "text"
      },
      "source": [
        "# Geothermal Power Plant (from the US) Data from Wikipedia"
      ]
    },
    {
      "cell_type": "markdown",
      "metadata": {
        "id": "KGTTml4Na_c8",
        "colab_type": "text"
      },
      "source": [
        "This table is from Wikipedia, from [here](https://en.wikipedia.org/wiki/List_of_geothermal_power_stations_in_the_United_States). I used https://wikitable2csv.ggor.de/ to make a csv from the table! Pretty nifty. No guarnatees on accuracy, yadda yadda. "
      ]
    },
    {
      "cell_type": "code",
      "metadata": {
        "id": "oYEWhLM4a6ge",
        "colab_type": "code",
        "outputId": "04206b89-3e32-469e-d2c7-38bec61cc419",
        "colab": {
          "base_uri": "https://localhost:8080/",
          "height": 34
        }
      },
      "source": [
        "cd /content/drive/My Drive/geothermal"
      ],
      "execution_count": 29,
      "outputs": [
        {
          "output_type": "stream",
          "text": [
            "/content/drive/My Drive/geothermal\n"
          ],
          "name": "stdout"
        }
      ]
    },
    {
      "cell_type": "markdown",
      "metadata": {
        "id": "QPbbI--kcLuy",
        "colab_type": "text"
      },
      "source": [
        "Note! If using Colab or whatever, will have to navigate to where your folder is. "
      ]
    },
    {
      "cell_type": "code",
      "metadata": {
        "id": "fqkzpl4obuhJ",
        "colab_type": "code",
        "outputId": "ff70cc05-dbee-4f6d-e500-d7b1b95c1abe",
        "colab": {
          "base_uri": "https://localhost:8080/",
          "height": 68
        }
      },
      "source": [
        "ls"
      ],
      "execution_count": 30,
      "outputs": [
        {
          "output_type": "stream",
          "text": [
            "GeothermalPowerPlants_wikipedia.csv\n",
            "\u001b[0m\u001b[01;34mstates_21basic\u001b[0m/\n",
            "Wikipedia_Data_Exploration_Geothermal.ipynb\n"
          ],
          "name": "stdout"
        }
      ]
    },
    {
      "cell_type": "code",
      "metadata": {
        "id": "_lVJA-Crbxwf",
        "colab_type": "code",
        "outputId": "b0ee3640-b658-4ce0-caac-22bc88052cd6",
        "colab": {
          "base_uri": "https://localhost:8080/",
          "height": 332
        }
      },
      "source": [
        "df = pd.read_csv('GeothermalPowerPlants_wikipedia.csv')\n",
        "df.head(3)"
      ],
      "execution_count": 31,
      "outputs": [
        {
          "output_type": "execute_result",
          "data": {
            "text/html": [
              "<div>\n",
              "<style scoped>\n",
              "    .dataframe tbody tr th:only-of-type {\n",
              "        vertical-align: middle;\n",
              "    }\n",
              "\n",
              "    .dataframe tbody tr th {\n",
              "        vertical-align: top;\n",
              "    }\n",
              "\n",
              "    .dataframe thead th {\n",
              "        text-align: right;\n",
              "    }\n",
              "</style>\n",
              "<table border=\"1\" class=\"dataframe\">\n",
              "  <thead>\n",
              "    <tr style=\"text-align: right;\">\n",
              "      <th></th>\n",
              "      <th>Name</th>\n",
              "      <th>State</th>\n",
              "      <th>Location</th>\n",
              "      <th>Capacity(MW)</th>\n",
              "      <th>Annual Generation(GWh)</th>\n",
              "      <th>Owner</th>\n",
              "      <th>Type</th>\n",
              "      <th>Year</th>\n",
              "      <th>Ref</th>\n",
              "    </tr>\n",
              "  </thead>\n",
              "  <tbody>\n",
              "    <tr>\n",
              "      <th>0</th>\n",
              "      <td>Beowawe</td>\n",
              "      <td>Nevada</td>\n",
              "      <td>40°33′17″N 116°37′03″W﻿ / ﻿40.55472°N 116.61750°W</td>\n",
              "      <td>19.2</td>\n",
              "      <td>99 (2018)</td>\n",
              "      <td>Terra-Gen Power</td>\n",
              "      <td>Flash steam (87%)Binary cycle (13%)</td>\n",
              "      <td>1985</td>\n",
              "      <td>[4][5]</td>\n",
              "    </tr>\n",
              "    <tr>\n",
              "      <th>1</th>\n",
              "      <td>Blue Mountain</td>\n",
              "      <td>Nevada</td>\n",
              "      <td>40°59′42″N 118°08′35″W﻿ / ﻿40.99500°N 118.14306°W</td>\n",
              "      <td>50</td>\n",
              "      <td>229 (2018)</td>\n",
              "      <td>Nevada Geothermal Power</td>\n",
              "      <td>Binary cycle</td>\n",
              "      <td>2009</td>\n",
              "      <td>[6][7][8]</td>\n",
              "    </tr>\n",
              "    <tr>\n",
              "      <th>2</th>\n",
              "      <td>Blundell</td>\n",
              "      <td>Utah</td>\n",
              "      <td>38°29′21″N 112°51′11″W﻿ / ﻿38.48917°N 112.85306°W</td>\n",
              "      <td>11</td>\n",
              "      <td>223 (2018)</td>\n",
              "      <td>PacifiCorp</td>\n",
              "      <td>NaN</td>\n",
              "      <td>2007</td>\n",
              "      <td>[6][9]</td>\n",
              "    </tr>\n",
              "  </tbody>\n",
              "</table>\n",
              "</div>"
            ],
            "text/plain": [
              "            Name   State  ...  Year        Ref\n",
              "0        Beowawe  Nevada  ...  1985     [4][5]\n",
              "1  Blue Mountain  Nevada  ...  2009  [6][7][8]\n",
              "2       Blundell    Utah  ...  2007     [6][9]\n",
              "\n",
              "[3 rows x 9 columns]"
            ]
          },
          "metadata": {
            "tags": []
          },
          "execution_count": 31
        }
      ]
    },
    {
      "cell_type": "markdown",
      "metadata": {
        "id": "-RLakmS1xigf",
        "colab_type": "text"
      },
      "source": [
        "Congrats! We just made a pandas data frame. For this size dataset, probably easier to plot in excel <gasp!/>. But! If this was 5x-100x larger which is possible, much easier to clean up using some python tools. Let's dig in."
      ]
    },
    {
      "cell_type": "markdown",
      "metadata": {
        "id": "rm5Nheg1zSQD",
        "colab_type": "text"
      },
      "source": [
        "Let's drop the Ref column, and change the names of two of the columns so they are easier to call. We will also remove the commas from the dataframe."
      ]
    },
    {
      "cell_type": "code",
      "metadata": {
        "id": "0TEXncBWeqE1",
        "colab_type": "code",
        "outputId": "30b480b1-0dd6-4bcf-d849-433a9e1451ea",
        "colab": {
          "base_uri": "https://localhost:8080/",
          "height": 213
        }
      },
      "source": [
        "df = df.rename(columns={\"Capacity(MW)\": \"Capacity_MW\", \"Annual Generation(GWh)\": \"AG_GWh\"})\n",
        "df = df.drop(columns=['Ref'])\n",
        "df.replace(',','', regex=True, inplace=True)\n",
        "df.head(2)"
      ],
      "execution_count": 32,
      "outputs": [
        {
          "output_type": "execute_result",
          "data": {
            "text/html": [
              "<div>\n",
              "<style scoped>\n",
              "    .dataframe tbody tr th:only-of-type {\n",
              "        vertical-align: middle;\n",
              "    }\n",
              "\n",
              "    .dataframe tbody tr th {\n",
              "        vertical-align: top;\n",
              "    }\n",
              "\n",
              "    .dataframe thead th {\n",
              "        text-align: right;\n",
              "    }\n",
              "</style>\n",
              "<table border=\"1\" class=\"dataframe\">\n",
              "  <thead>\n",
              "    <tr style=\"text-align: right;\">\n",
              "      <th></th>\n",
              "      <th>Name</th>\n",
              "      <th>State</th>\n",
              "      <th>Location</th>\n",
              "      <th>Capacity_MW</th>\n",
              "      <th>AG_GWh</th>\n",
              "      <th>Owner</th>\n",
              "      <th>Type</th>\n",
              "      <th>Year</th>\n",
              "    </tr>\n",
              "  </thead>\n",
              "  <tbody>\n",
              "    <tr>\n",
              "      <th>0</th>\n",
              "      <td>Beowawe</td>\n",
              "      <td>Nevada</td>\n",
              "      <td>40°33′17″N 116°37′03″W﻿ / ﻿40.55472°N 116.61750°W</td>\n",
              "      <td>19.2</td>\n",
              "      <td>99 (2018)</td>\n",
              "      <td>Terra-Gen Power</td>\n",
              "      <td>Flash steam (87%)Binary cycle (13%)</td>\n",
              "      <td>1985</td>\n",
              "    </tr>\n",
              "    <tr>\n",
              "      <th>1</th>\n",
              "      <td>Blue Mountain</td>\n",
              "      <td>Nevada</td>\n",
              "      <td>40°59′42″N 118°08′35″W﻿ / ﻿40.99500°N 118.14306°W</td>\n",
              "      <td>50</td>\n",
              "      <td>229 (2018)</td>\n",
              "      <td>Nevada Geothermal Power</td>\n",
              "      <td>Binary cycle</td>\n",
              "      <td>2009</td>\n",
              "    </tr>\n",
              "  </tbody>\n",
              "</table>\n",
              "</div>"
            ],
            "text/plain": [
              "            Name   State  ...                                 Type  Year\n",
              "0        Beowawe  Nevada  ...  Flash steam (87%)Binary cycle (13%)  1985\n",
              "1  Blue Mountain  Nevada  ...                         Binary cycle  2009\n",
              "\n",
              "[2 rows x 8 columns]"
            ]
          },
          "metadata": {
            "tags": []
          },
          "execution_count": 32
        }
      ]
    },
    {
      "cell_type": "markdown",
      "metadata": {
        "id": "JtAkkUUAdG30",
        "colab_type": "text"
      },
      "source": [
        "## Let's clean up this data frame"
      ]
    },
    {
      "cell_type": "code",
      "metadata": {
        "id": "XtkKU4J0fQvm",
        "colab_type": "code",
        "outputId": "1dd9f2d1-ad88-45da-f7ae-15285ea29839",
        "colab": {
          "base_uri": "https://localhost:8080/",
          "height": 85
        }
      },
      "source": [
        "df.Capacity_MW.values"
      ],
      "execution_count": 33,
      "outputs": [
        {
          "output_type": "execute_result",
          "data": {
            "text/plain": [
              "array(['19.2', '50', '11', '26', '272.3', '27', '92', '61', '39', '1590',\n",
              "       '161.5', '432.3', '10', '4', '40', '138', '22', '64', '101.6',\n",
              "       '70', '38', '11', '13.4', '11', '37', '73 [note 2]', '75', '13',\n",
              "       '27', '18', '4 [note 3]'], dtype=object)"
            ]
          },
          "metadata": {
            "tags": []
          },
          "execution_count": 33
        }
      ]
    },
    {
      "cell_type": "markdown",
      "metadata": {
        "id": "T2Z4qKxx_Bng",
        "colab_type": "text"
      },
      "source": [
        "Two of these are problems, with [note 2,3] after the numbers, and we just want the numbers! A hint about this is dtype=object, and not int64"
      ]
    },
    {
      "cell_type": "code",
      "metadata": {
        "id": "NLJ1jrpp9FoV",
        "colab_type": "code",
        "outputId": "4c12dd80-69f2-4587-82d3-ba00ac68cb3a",
        "colab": {
          "base_uri": "https://localhost:8080/",
          "height": 361
        }
      },
      "source": [
        "# Split on the space, taking the values before the space\n",
        "df.Capacity_MW = df.Capacity_MW.str.split(r\" *\", expand=True)[0] \n",
        "df.Capacity_MW = pd.to_numeric(df.Capacity_MW) # Changing the type to numeric\n",
        "df.Capacity_MW.values"
      ],
      "execution_count": 35,
      "outputs": [
        {
          "output_type": "error",
          "ename": "AttributeError",
          "evalue": "ignored",
          "traceback": [
            "\u001b[0;31m---------------------------------------------------------------------------\u001b[0m",
            "\u001b[0;31mAttributeError\u001b[0m                            Traceback (most recent call last)",
            "\u001b[0;32m<ipython-input-35-9e8b931448b7>\u001b[0m in \u001b[0;36m<module>\u001b[0;34m()\u001b[0m\n\u001b[0;32m----> 1\u001b[0;31m \u001b[0mdf\u001b[0m\u001b[0;34m.\u001b[0m\u001b[0mCapacity_MW\u001b[0m \u001b[0;34m=\u001b[0m \u001b[0mdf\u001b[0m\u001b[0;34m.\u001b[0m\u001b[0mCapacity_MW\u001b[0m\u001b[0;34m.\u001b[0m\u001b[0mstr\u001b[0m\u001b[0;34m.\u001b[0m\u001b[0msplit\u001b[0m\u001b[0;34m(\u001b[0m\u001b[0;34mr\" *\"\u001b[0m\u001b[0;34m,\u001b[0m \u001b[0mexpand\u001b[0m\u001b[0;34m=\u001b[0m\u001b[0;32mTrue\u001b[0m\u001b[0;34m)\u001b[0m\u001b[0;34m[\u001b[0m\u001b[0;36m0\u001b[0m\u001b[0;34m]\u001b[0m\u001b[0;34m\u001b[0m\u001b[0;34m\u001b[0m\u001b[0m\n\u001b[0m\u001b[1;32m      2\u001b[0m \u001b[0mdf\u001b[0m\u001b[0;34m.\u001b[0m\u001b[0mCapacity_MW\u001b[0m \u001b[0;34m=\u001b[0m \u001b[0mpd\u001b[0m\u001b[0;34m.\u001b[0m\u001b[0mto_numeric\u001b[0m\u001b[0;34m(\u001b[0m\u001b[0mdf\u001b[0m\u001b[0;34m.\u001b[0m\u001b[0mCapacity_MW\u001b[0m\u001b[0;34m)\u001b[0m \u001b[0;31m# Changing the type to numeric\u001b[0m\u001b[0;34m\u001b[0m\u001b[0;34m\u001b[0m\u001b[0m\n\u001b[1;32m      3\u001b[0m \u001b[0mdf\u001b[0m\u001b[0;34m.\u001b[0m\u001b[0mCapacity_MW\u001b[0m\u001b[0;34m.\u001b[0m\u001b[0mvalues\u001b[0m\u001b[0;34m\u001b[0m\u001b[0;34m\u001b[0m\u001b[0m\n",
            "\u001b[0;32m/usr/local/lib/python3.6/dist-packages/pandas/core/generic.py\u001b[0m in \u001b[0;36m__getattr__\u001b[0;34m(self, name)\u001b[0m\n\u001b[1;32m   5268\u001b[0m             \u001b[0;32mor\u001b[0m \u001b[0mname\u001b[0m \u001b[0;32min\u001b[0m \u001b[0mself\u001b[0m\u001b[0;34m.\u001b[0m\u001b[0m_accessors\u001b[0m\u001b[0;34m\u001b[0m\u001b[0;34m\u001b[0m\u001b[0m\n\u001b[1;32m   5269\u001b[0m         ):\n\u001b[0;32m-> 5270\u001b[0;31m             \u001b[0;32mreturn\u001b[0m \u001b[0mobject\u001b[0m\u001b[0;34m.\u001b[0m\u001b[0m__getattribute__\u001b[0m\u001b[0;34m(\u001b[0m\u001b[0mself\u001b[0m\u001b[0;34m,\u001b[0m \u001b[0mname\u001b[0m\u001b[0;34m)\u001b[0m\u001b[0;34m\u001b[0m\u001b[0;34m\u001b[0m\u001b[0m\n\u001b[0m\u001b[1;32m   5271\u001b[0m         \u001b[0;32melse\u001b[0m\u001b[0;34m:\u001b[0m\u001b[0;34m\u001b[0m\u001b[0;34m\u001b[0m\u001b[0m\n\u001b[1;32m   5272\u001b[0m             \u001b[0;32mif\u001b[0m \u001b[0mself\u001b[0m\u001b[0;34m.\u001b[0m\u001b[0m_info_axis\u001b[0m\u001b[0;34m.\u001b[0m\u001b[0m_can_hold_identifiers_and_holds_name\u001b[0m\u001b[0;34m(\u001b[0m\u001b[0mname\u001b[0m\u001b[0;34m)\u001b[0m\u001b[0;34m:\u001b[0m\u001b[0;34m\u001b[0m\u001b[0;34m\u001b[0m\u001b[0m\n",
            "\u001b[0;32m/usr/local/lib/python3.6/dist-packages/pandas/core/accessor.py\u001b[0m in \u001b[0;36m__get__\u001b[0;34m(self, obj, cls)\u001b[0m\n\u001b[1;32m    185\u001b[0m             \u001b[0;31m# we're accessing the attribute of the class, i.e., Dataset.geo\u001b[0m\u001b[0;34m\u001b[0m\u001b[0;34m\u001b[0m\u001b[0;34m\u001b[0m\u001b[0m\n\u001b[1;32m    186\u001b[0m             \u001b[0;32mreturn\u001b[0m \u001b[0mself\u001b[0m\u001b[0;34m.\u001b[0m\u001b[0m_accessor\u001b[0m\u001b[0;34m\u001b[0m\u001b[0;34m\u001b[0m\u001b[0m\n\u001b[0;32m--> 187\u001b[0;31m         \u001b[0maccessor_obj\u001b[0m \u001b[0;34m=\u001b[0m \u001b[0mself\u001b[0m\u001b[0;34m.\u001b[0m\u001b[0m_accessor\u001b[0m\u001b[0;34m(\u001b[0m\u001b[0mobj\u001b[0m\u001b[0;34m)\u001b[0m\u001b[0;34m\u001b[0m\u001b[0;34m\u001b[0m\u001b[0m\n\u001b[0m\u001b[1;32m    188\u001b[0m         \u001b[0;31m# Replace the property with the accessor object. Inspired by:\u001b[0m\u001b[0;34m\u001b[0m\u001b[0;34m\u001b[0m\u001b[0;34m\u001b[0m\u001b[0m\n\u001b[1;32m    189\u001b[0m         \u001b[0;31m# http://www.pydanny.com/cached-property.html\u001b[0m\u001b[0;34m\u001b[0m\u001b[0;34m\u001b[0m\u001b[0;34m\u001b[0m\u001b[0m\n",
            "\u001b[0;32m/usr/local/lib/python3.6/dist-packages/pandas/core/strings.py\u001b[0m in \u001b[0;36m__init__\u001b[0;34m(self, data)\u001b[0m\n\u001b[1;32m   2039\u001b[0m \u001b[0;34m\u001b[0m\u001b[0m\n\u001b[1;32m   2040\u001b[0m     \u001b[0;32mdef\u001b[0m \u001b[0m__init__\u001b[0m\u001b[0;34m(\u001b[0m\u001b[0mself\u001b[0m\u001b[0;34m,\u001b[0m \u001b[0mdata\u001b[0m\u001b[0;34m)\u001b[0m\u001b[0;34m:\u001b[0m\u001b[0;34m\u001b[0m\u001b[0;34m\u001b[0m\u001b[0m\n\u001b[0;32m-> 2041\u001b[0;31m         \u001b[0mself\u001b[0m\u001b[0;34m.\u001b[0m\u001b[0m_inferred_dtype\u001b[0m \u001b[0;34m=\u001b[0m \u001b[0mself\u001b[0m\u001b[0;34m.\u001b[0m\u001b[0m_validate\u001b[0m\u001b[0;34m(\u001b[0m\u001b[0mdata\u001b[0m\u001b[0;34m)\u001b[0m\u001b[0;34m\u001b[0m\u001b[0;34m\u001b[0m\u001b[0m\n\u001b[0m\u001b[1;32m   2042\u001b[0m         \u001b[0mself\u001b[0m\u001b[0;34m.\u001b[0m\u001b[0m_is_categorical\u001b[0m \u001b[0;34m=\u001b[0m \u001b[0mis_categorical_dtype\u001b[0m\u001b[0;34m(\u001b[0m\u001b[0mdata\u001b[0m\u001b[0;34m)\u001b[0m\u001b[0;34m\u001b[0m\u001b[0;34m\u001b[0m\u001b[0m\n\u001b[1;32m   2043\u001b[0m         \u001b[0mself\u001b[0m\u001b[0;34m.\u001b[0m\u001b[0m_is_string\u001b[0m \u001b[0;34m=\u001b[0m \u001b[0mdata\u001b[0m\u001b[0;34m.\u001b[0m\u001b[0mdtype\u001b[0m\u001b[0;34m.\u001b[0m\u001b[0mname\u001b[0m \u001b[0;34m==\u001b[0m \u001b[0;34m\"string\"\u001b[0m\u001b[0;34m\u001b[0m\u001b[0;34m\u001b[0m\u001b[0m\n",
            "\u001b[0;32m/usr/local/lib/python3.6/dist-packages/pandas/core/strings.py\u001b[0m in \u001b[0;36m_validate\u001b[0;34m(data)\u001b[0m\n\u001b[1;32m   2096\u001b[0m \u001b[0;34m\u001b[0m\u001b[0m\n\u001b[1;32m   2097\u001b[0m         \u001b[0;32mif\u001b[0m \u001b[0minferred_dtype\u001b[0m \u001b[0;32mnot\u001b[0m \u001b[0;32min\u001b[0m \u001b[0mallowed_types\u001b[0m\u001b[0;34m:\u001b[0m\u001b[0;34m\u001b[0m\u001b[0;34m\u001b[0m\u001b[0m\n\u001b[0;32m-> 2098\u001b[0;31m             \u001b[0;32mraise\u001b[0m \u001b[0mAttributeError\u001b[0m\u001b[0;34m(\u001b[0m\u001b[0;34m\"Can only use .str accessor with string values!\"\u001b[0m\u001b[0;34m)\u001b[0m\u001b[0;34m\u001b[0m\u001b[0;34m\u001b[0m\u001b[0m\n\u001b[0m\u001b[1;32m   2099\u001b[0m         \u001b[0;32mreturn\u001b[0m \u001b[0minferred_dtype\u001b[0m\u001b[0;34m\u001b[0m\u001b[0;34m\u001b[0m\u001b[0m\n\u001b[1;32m   2100\u001b[0m \u001b[0;34m\u001b[0m\u001b[0m\n",
            "\u001b[0;31mAttributeError\u001b[0m: Can only use .str accessor with string values!"
          ]
        }
      ]
    },
    {
      "cell_type": "code",
      "metadata": {
        "id": "YRe8-MEa-Ni_",
        "colab_type": "code",
        "outputId": "2c30889b-8bf2-4a7b-8462-d2f7843d0549",
        "colab": {
          "base_uri": "https://localhost:8080/",
          "height": 68
        }
      },
      "source": [
        "df.AG_GWh.head(2) # the head(2) comment is just to show the first 2 "
      ],
      "execution_count": 36,
      "outputs": [
        {
          "output_type": "execute_result",
          "data": {
            "text/plain": [
              "0     99 (2018)\n",
              "1    229 (2018)\n",
              "Name: AG_GWh, dtype: object"
            ]
          },
          "metadata": {
            "tags": []
          },
          "execution_count": 36
        }
      ]
    },
    {
      "cell_type": "markdown",
      "metadata": {
        "id": "48M9GyMEFM5j",
        "colab_type": "text"
      },
      "source": [
        "Same problem! Let's remove the years from this."
      ]
    },
    {
      "cell_type": "code",
      "metadata": {
        "id": "FUwewfNb7Vaj",
        "colab_type": "code",
        "outputId": "6b5ee034-fe9a-4a2a-c6e0-974701488aaf",
        "colab": {
          "base_uri": "https://localhost:8080/",
          "height": 122
        }
      },
      "source": [
        "df.AG_GWh = df.AG_GWh.str.split(r\" *\", expand=True)[0]\n",
        "df.AG_GWh = pd.to_numeric(df.AG_GWh)\n",
        "df.AG_GWh.values"
      ],
      "execution_count": 37,
      "outputs": [
        {
          "output_type": "stream",
          "text": [
            "/usr/local/lib/python3.6/dist-packages/pandas/core/strings.py:1494: FutureWarning: split() requires a non-empty pattern match.\n",
            "  f = lambda x: regex.split(x, maxsplit=n)\n"
          ],
          "name": "stderr"
        },
        {
          "output_type": "execute_result",
          "data": {
            "text/plain": [
              "array([  99,  229,  223,   77, 1176,  158,   91,  496,  327, 6516,  539,\n",
              "       1741,   72,   13,  215,  771,  176,   56,  268,  138,  323,   83,\n",
              "         98,   64,   61,  507,  159,   65,  213,  125,    9])"
            ]
          },
          "metadata": {
            "tags": []
          },
          "execution_count": 37
        }
      ]
    },
    {
      "cell_type": "code",
      "metadata": {
        "id": "SIOtmJQqf2fg",
        "colab_type": "code",
        "outputId": "c277c8b3-ddf8-4ab8-ae34-1723c2a48e50",
        "colab": {
          "base_uri": "https://localhost:8080/",
          "height": 213
        }
      },
      "source": [
        "df.head(2)"
      ],
      "execution_count": 38,
      "outputs": [
        {
          "output_type": "execute_result",
          "data": {
            "text/html": [
              "<div>\n",
              "<style scoped>\n",
              "    .dataframe tbody tr th:only-of-type {\n",
              "        vertical-align: middle;\n",
              "    }\n",
              "\n",
              "    .dataframe tbody tr th {\n",
              "        vertical-align: top;\n",
              "    }\n",
              "\n",
              "    .dataframe thead th {\n",
              "        text-align: right;\n",
              "    }\n",
              "</style>\n",
              "<table border=\"1\" class=\"dataframe\">\n",
              "  <thead>\n",
              "    <tr style=\"text-align: right;\">\n",
              "      <th></th>\n",
              "      <th>Name</th>\n",
              "      <th>State</th>\n",
              "      <th>Location</th>\n",
              "      <th>Capacity_MW</th>\n",
              "      <th>AG_GWh</th>\n",
              "      <th>Owner</th>\n",
              "      <th>Type</th>\n",
              "      <th>Year</th>\n",
              "    </tr>\n",
              "  </thead>\n",
              "  <tbody>\n",
              "    <tr>\n",
              "      <th>0</th>\n",
              "      <td>Beowawe</td>\n",
              "      <td>Nevada</td>\n",
              "      <td>40°33′17″N 116°37′03″W﻿ / ﻿40.55472°N 116.61750°W</td>\n",
              "      <td>19.2</td>\n",
              "      <td>99</td>\n",
              "      <td>Terra-Gen Power</td>\n",
              "      <td>Flash steam (87%)Binary cycle (13%)</td>\n",
              "      <td>1985</td>\n",
              "    </tr>\n",
              "    <tr>\n",
              "      <th>1</th>\n",
              "      <td>Blue Mountain</td>\n",
              "      <td>Nevada</td>\n",
              "      <td>40°59′42″N 118°08′35″W﻿ / ﻿40.99500°N 118.14306°W</td>\n",
              "      <td>50.0</td>\n",
              "      <td>229</td>\n",
              "      <td>Nevada Geothermal Power</td>\n",
              "      <td>Binary cycle</td>\n",
              "      <td>2009</td>\n",
              "    </tr>\n",
              "  </tbody>\n",
              "</table>\n",
              "</div>"
            ],
            "text/plain": [
              "            Name   State  ...                                 Type  Year\n",
              "0        Beowawe  Nevada  ...  Flash steam (87%)Binary cycle (13%)  1985\n",
              "1  Blue Mountain  Nevada  ...                         Binary cycle  2009\n",
              "\n",
              "[2 rows x 8 columns]"
            ]
          },
          "metadata": {
            "tags": []
          },
          "execution_count": 38
        }
      ]
    },
    {
      "cell_type": "markdown",
      "metadata": {
        "id": "_A4901FRlvvU",
        "colab_type": "text"
      },
      "source": [
        "Let's break up that location column. First step is to split it out, to only get the decimal degrees."
      ]
    },
    {
      "cell_type": "code",
      "metadata": {
        "id": "duVlKXv-FgmY",
        "colab_type": "code",
        "outputId": "7909eb3d-a4fd-4129-d58c-64dea82853c1",
        "colab": {
          "base_uri": "https://localhost:8080/",
          "height": 122
        }
      },
      "source": [
        "df.LocationDD = df.Location.str.split(r\" / \", expand=True)[1]\n",
        "df.LocationDD.head(2) # showing just the first two entries"
      ],
      "execution_count": 39,
      "outputs": [
        {
          "output_type": "stream",
          "text": [
            "/usr/local/lib/python3.6/dist-packages/ipykernel_launcher.py:1: UserWarning: Pandas doesn't allow columns to be created via a new attribute name - see https://pandas.pydata.org/pandas-docs/stable/indexing.html#attribute-access\n",
            "  \"\"\"Entry point for launching an IPython kernel.\n"
          ],
          "name": "stderr"
        },
        {
          "output_type": "execute_result",
          "data": {
            "text/plain": [
              "0    ﻿40.55472°N 116.61750°W\n",
              "1    ﻿40.99500°N 118.14306°W\n",
              "Name: 1, dtype: object"
            ]
          },
          "metadata": {
            "tags": []
          },
          "execution_count": 39
        }
      ]
    },
    {
      "cell_type": "markdown",
      "metadata": {
        "id": "s7YYy5cfrDEu",
        "colab_type": "text"
      },
      "source": [
        "Let's seperate decimal degrees into lat and long"
      ]
    },
    {
      "cell_type": "code",
      "metadata": {
        "id": "OoEK5fMCmA_E",
        "colab_type": "code",
        "outputId": "a8256652-b886-436b-eae2-3f8b78711c3d",
        "colab": {
          "base_uri": "https://localhost:8080/",
          "height": 139
        }
      },
      "source": [
        "df.latDD_N  = df.LocationDD.str.split(r\" *\", expand=True)[0]\n",
        "df.longDD_W = df.LocationDD.str.split(r\" *\", expand=True)[1]"
      ],
      "execution_count": 40,
      "outputs": [
        {
          "output_type": "stream",
          "text": [
            "/usr/local/lib/python3.6/dist-packages/pandas/core/strings.py:1494: FutureWarning: split() requires a non-empty pattern match.\n",
            "  f = lambda x: regex.split(x, maxsplit=n)\n",
            "/usr/local/lib/python3.6/dist-packages/ipykernel_launcher.py:1: UserWarning: Pandas doesn't allow columns to be created via a new attribute name - see https://pandas.pydata.org/pandas-docs/stable/indexing.html#attribute-access\n",
            "  \"\"\"Entry point for launching an IPython kernel.\n",
            "/usr/local/lib/python3.6/dist-packages/ipykernel_launcher.py:2: UserWarning: Pandas doesn't allow columns to be created via a new attribute name - see https://pandas.pydata.org/pandas-docs/stable/indexing.html#attribute-access\n",
            "  \n"
          ],
          "name": "stderr"
        }
      ]
    },
    {
      "cell_type": "markdown",
      "metadata": {
        "id": "yhQmzl0x04Ue",
        "colab_type": "text"
      },
      "source": [
        "And now lets drop the degrees symbol, and N and W. Also convert it to a number from an object. "
      ]
    },
    {
      "cell_type": "code",
      "metadata": {
        "id": "OR9wgTCJq-Lo",
        "colab_type": "code",
        "colab": {}
      },
      "source": [
        "df.latDD_N.replace('°N','', regex=True, inplace=True)\n",
        "df.longDD_W.replace('°W','', regex=True, inplace=True)"
      ],
      "execution_count": 0,
      "outputs": []
    },
    {
      "cell_type": "code",
      "metadata": {
        "id": "EHwjQQ5l202L",
        "colab_type": "code",
        "outputId": "09b996a8-725c-405f-9514-0b499aeae70e",
        "colab": {
          "base_uri": "https://localhost:8080/",
          "height": 204
        }
      },
      "source": [
        "df.latDD_N.values\n"
      ],
      "execution_count": 42,
      "outputs": [
        {
          "output_type": "execute_result",
          "data": {
            "text/plain": [
              "array(['\\ufeff40.55472', '\\ufeff40.99500', '\\ufeff38.48917',\n",
              "       '\\ufeff39.79611', '\\ufeff36.01667', '\\ufeff38.56167',\n",
              "       '\\ufeff39.75389', '\\ufeff39.96639', '\\ufeff38.83611',\n",
              "       '\\ufeff38.79056', '\\ufeff32.71444', '\\ufeff33.16333',\n",
              "       '\\ufeff40.18111', '\\ufeff32.14472', '\\ufeff37.64556',\n",
              "       '\\ufeff39.58917', '\\ufeff44.02306', '\\ufeff33.01444',\n",
              "       '\\ufeff32.78306', '\\ufeff39.58278', '\\ufeff19.4785',\n",
              "       '\\ufeff42.09944', '\\ufeff39.29444', '\\ufeff40.38056',\n",
              "       '\\ufeff39.55611', '\\ufeff39.39444', '\\ufeff39.54583',\n",
              "       '\\ufeff38.16083', '\\ufeff39.66778', '\\ufeff41.46722',\n",
              "       '\\ufeff39.16333'], dtype=object)"
            ]
          },
          "metadata": {
            "tags": []
          },
          "execution_count": 42
        }
      ]
    },
    {
      "cell_type": "markdown",
      "metadata": {
        "id": "HUtMQXKpljOj",
        "colab_type": "text"
      },
      "source": [
        "Whoa! Got some unicode going on, lets drop that as well."
      ]
    },
    {
      "cell_type": "code",
      "metadata": {
        "id": "eDqCAgpwlou_",
        "colab_type": "code",
        "colab": {}
      },
      "source": [
        "df.latDD_N.replace('\\ufeff','', regex=True, inplace=True)\n",
        "df.longDD_W.replace('\\ufeff','', regex=True, inplace=True)"
      ],
      "execution_count": 0,
      "outputs": []
    },
    {
      "cell_type": "code",
      "metadata": {
        "id": "NhySOyRh0Wfc",
        "colab_type": "code",
        "outputId": "bedc29d9-8cbc-45b3-9053-1496ab0c2164",
        "colab": {
          "base_uri": "https://localhost:8080/",
          "height": 136
        }
      },
      "source": [
        "df.latDD_N.values"
      ],
      "execution_count": 44,
      "outputs": [
        {
          "output_type": "execute_result",
          "data": {
            "text/plain": [
              "array(['40.55472', '40.99500', '38.48917', '39.79611', '36.01667',\n",
              "       '38.56167', '39.75389', '39.96639', '38.83611', '38.79056',\n",
              "       '32.71444', '33.16333', '40.18111', '32.14472', '37.64556',\n",
              "       '39.58917', '44.02306', '33.01444', '32.78306', '39.58278',\n",
              "       '19.4785', '42.09944', '39.29444', '40.38056', '39.55611',\n",
              "       '39.39444', '39.54583', '38.16083', '39.66778', '41.46722',\n",
              "       '39.16333'], dtype=object)"
            ]
          },
          "metadata": {
            "tags": []
          },
          "execution_count": 44
        }
      ]
    },
    {
      "cell_type": "markdown",
      "metadata": {
        "id": "NgnBDUHHmKc7",
        "colab_type": "text"
      },
      "source": [
        "Converting it to a normal array from an object"
      ]
    },
    {
      "cell_type": "code",
      "metadata": {
        "id": "oqehoWwVl46V",
        "colab_type": "code",
        "colab": {}
      },
      "source": [
        "df['latDD_N'] = pd.to_numeric(df.latDD_N)\n",
        "df['longDD_W'] = pd.to_numeric(df.longDD_W)\n",
        "\n",
        "df.latDD_N = pd.to_numeric(df.latDD_N)\n",
        "df.longDD_W = pd.to_numeric(df.longDD_W)\n",
        "\n",
        "# Because it is in the west, easier to put a negative\n",
        "df.longDD_W = df.longDD_W*-1 "
      ],
      "execution_count": 0,
      "outputs": []
    },
    {
      "cell_type": "markdown",
      "metadata": {
        "id": "95x-xLkbheBD",
        "colab_type": "text"
      },
      "source": [
        ""
      ]
    },
    {
      "cell_type": "code",
      "metadata": {
        "id": "nLeD8a_yBG7E",
        "colab_type": "code",
        "outputId": "0a21c90a-a05b-4c3c-db6b-a3b6150ef214",
        "colab": {
          "base_uri": "https://localhost:8080/",
          "height": 136
        }
      },
      "source": [
        "df.longDD_W.values"
      ],
      "execution_count": 49,
      "outputs": [
        {
          "output_type": "execute_result",
          "data": {
            "text/plain": [
              "array([-116.6175 , -118.14306, -112.85306, -119.01   , -117.7975 ,\n",
              "       -112.58   , -118.95361, -117.85583, -118.32417, -122.75583,\n",
              "       -115.52694, -115.61667, -117.47583, -108.83861, -118.91167,\n",
              "       -116.91167, -117.46778, -115.54083, -115.25417, -119.07472,\n",
              "       -154.8888 , -113.3825 , -118.5725 , -119.39972, -118.84806,\n",
              "       -119.7475 , -118.55611, -113.195  , -117.69306, -116.15056,\n",
              "       -119.18056])"
            ]
          },
          "metadata": {
            "tags": []
          },
          "execution_count": 49
        }
      ]
    },
    {
      "cell_type": "code",
      "metadata": {
        "id": "lEuW_XWDAALZ",
        "colab_type": "code",
        "outputId": "240eb1f1-6e8e-4ba8-bd19-93fe5417bbe2",
        "colab": {
          "base_uri": "https://localhost:8080/",
          "height": 233
        }
      },
      "source": [
        "df.head(2)"
      ],
      "execution_count": 50,
      "outputs": [
        {
          "output_type": "execute_result",
          "data": {
            "text/html": [
              "<div>\n",
              "<style scoped>\n",
              "    .dataframe tbody tr th:only-of-type {\n",
              "        vertical-align: middle;\n",
              "    }\n",
              "\n",
              "    .dataframe tbody tr th {\n",
              "        vertical-align: top;\n",
              "    }\n",
              "\n",
              "    .dataframe thead th {\n",
              "        text-align: right;\n",
              "    }\n",
              "</style>\n",
              "<table border=\"1\" class=\"dataframe\">\n",
              "  <thead>\n",
              "    <tr style=\"text-align: right;\">\n",
              "      <th></th>\n",
              "      <th>Name</th>\n",
              "      <th>State</th>\n",
              "      <th>Location</th>\n",
              "      <th>Capacity_MW</th>\n",
              "      <th>AG_GWh</th>\n",
              "      <th>Owner</th>\n",
              "      <th>Type</th>\n",
              "      <th>Year</th>\n",
              "      <th>latDD_N</th>\n",
              "      <th>longDD_W</th>\n",
              "    </tr>\n",
              "  </thead>\n",
              "  <tbody>\n",
              "    <tr>\n",
              "      <th>0</th>\n",
              "      <td>Beowawe</td>\n",
              "      <td>Nevada</td>\n",
              "      <td>40°33′17″N 116°37′03″W﻿ / ﻿40.55472°N 116.61750°W</td>\n",
              "      <td>19.2</td>\n",
              "      <td>99</td>\n",
              "      <td>Terra-Gen Power</td>\n",
              "      <td>Flash steam (87%)Binary cycle (13%)</td>\n",
              "      <td>1985</td>\n",
              "      <td>40.55472</td>\n",
              "      <td>116.61750</td>\n",
              "    </tr>\n",
              "    <tr>\n",
              "      <th>1</th>\n",
              "      <td>Blue Mountain</td>\n",
              "      <td>Nevada</td>\n",
              "      <td>40°59′42″N 118°08′35″W﻿ / ﻿40.99500°N 118.14306°W</td>\n",
              "      <td>50.0</td>\n",
              "      <td>229</td>\n",
              "      <td>Nevada Geothermal Power</td>\n",
              "      <td>Binary cycle</td>\n",
              "      <td>2009</td>\n",
              "      <td>40.99500</td>\n",
              "      <td>118.14306</td>\n",
              "    </tr>\n",
              "  </tbody>\n",
              "</table>\n",
              "</div>"
            ],
            "text/plain": [
              "            Name   State  ...   latDD_N   longDD_W\n",
              "0        Beowawe  Nevada  ...  40.55472  116.61750\n",
              "1  Blue Mountain  Nevada  ...  40.99500  118.14306\n",
              "\n",
              "[2 rows x 10 columns]"
            ]
          },
          "metadata": {
            "tags": []
          },
          "execution_count": 50
        }
      ]
    },
    {
      "cell_type": "markdown",
      "metadata": {
        "id": "qPRDSUK_MTG9",
        "colab_type": "text"
      },
      "source": [
        "## Plotting some of data up using Matplotlib, Seaborne and Geopandas "
      ]
    },
    {
      "cell_type": "markdown",
      "metadata": {
        "id": "Z_-673T8mvVv",
        "colab_type": "text"
      },
      "source": [
        "Simple bar plot!"
      ]
    },
    {
      "cell_type": "code",
      "metadata": {
        "id": "aP6SRGGSG242",
        "colab_type": "code",
        "outputId": "48fdb65e-d7ed-4ff1-c699-82139c87d42c",
        "colab": {
          "base_uri": "https://localhost:8080/",
          "height": 393
        }
      },
      "source": [
        "plt.figure(figsize=(8,6)) #calling the figure size\n",
        "plt.bar(df.State, df.Capacity_MW) # State on the X axis, Capacity on the Y\n",
        "plt.xlabel('States', size=16)\n",
        "plt.ylabel('Capacity in MW', size = 16)\n",
        "plt.grid(True, axis='y') "
      ],
      "execution_count": 52,
      "outputs": [
        {
          "output_type": "display_data",
          "data": {
            "image/png": "[encoded data removed]",
            "text/plain": [
              "<Figure size 576x432 with 1 Axes>"
            ]
          },
          "metadata": {
            "tags": [],
            "needs_background": "light"
          }
        }
      ]
    },
    {
      "cell_type": "markdown",
      "metadata": {
        "id": "m_LyQQ-Pm69r",
        "colab_type": "text"
      },
      "source": [
        "Next up is a scatter plot"
      ]
    },
    {
      "cell_type": "code",
      "metadata": {
        "id": "I6Oa7pMeG8X4",
        "colab_type": "code",
        "outputId": "c502ef92-d953-469c-f185-bca1a18a185a",
        "colab": {
          "base_uri": "https://localhost:8080/",
          "height": 410
        }
      },
      "source": [
        "plt.figure(figsize=(8,6))\n",
        "plt.scatter(df.Year.values, df.Capacity_MW.values)\n",
        "plt.grid(True)\n",
        "\n",
        "plt.xlabel('Year', size=16)\n",
        "plt.ylabel('Capacity in MW', size = 16)"
      ],
      "execution_count": 53,
      "outputs": [
        {
          "output_type": "execute_result",
          "data": {
            "text/plain": [
              "Text(0, 0.5, 'Capacity in MW')"
            ]
          },
          "metadata": {
            "tags": []
          },
          "execution_count": 53
        },
        {
          "output_type": "display_data",
          "data": {
            "image/png": "[encoded data removed]",
            "text/plain": [
              "<Figure size 576x432 with 1 Axes>"
            ]
          },
          "metadata": {
            "tags": [],
            "needs_background": "light"
          }
        }
      ]
    },
    {
      "cell_type": "markdown",
      "metadata": {
        "id": "aexVcbXVQufd",
        "colab_type": "text"
      },
      "source": [
        "Adding some more information to this scatter plot, we are going to use Seaborn. "
      ]
    },
    {
      "cell_type": "code",
      "metadata": {
        "id": "g9VVhY8LNvHl",
        "colab_type": "code",
        "outputId": "c2d29f37-3006-4967-d1f4-803326faa570",
        "colab": {
          "base_uri": "https://localhost:8080/",
          "height": 458
        }
      },
      "source": [
        "sns.pairplot(x_vars=[\"Year\"], y_vars=[\"Capacity_MW\"], data=df, hue=\"State\", size=5)"
      ],
      "execution_count": 54,
      "outputs": [
        {
          "output_type": "stream",
          "text": [
            "/usr/local/lib/python3.6/dist-packages/seaborn/axisgrid.py:2071: UserWarning: The `size` parameter has been renamed to `height`; please update your code.\n",
            "  warnings.warn(msg, UserWarning)\n"
          ],
          "name": "stderr"
        },
        {
          "output_type": "execute_result",
          "data": {
            "text/plain": [
              "<seaborn.axisgrid.PairGrid at 0x7f0b6c7a5f28>"
            ]
          },
          "metadata": {
            "tags": []
          },
          "execution_count": 54
        },
        {
          "output_type": "display_data",
          "data": {
            "image/png": "[encoded data removed]",
            "text/plain": [
              "<Figure size 455.75x360 with 1 Axes>"
            ]
          },
          "metadata": {
            "tags": [],
            "needs_background": "light"
          }
        }
      ]
    },
    {
      "cell_type": "markdown",
      "metadata": {
        "id": "WDcanJ6HnYGn",
        "colab_type": "text"
      },
      "source": [
        "Doing the same in matplotlib requires a loop, and is a bit messier. "
      ]
    },
    {
      "cell_type": "markdown",
      "metadata": {
        "id": "wlTJjBCn9Mys",
        "colab_type": "text"
      },
      "source": [
        "# Geopandas"
      ]
    },
    {
      "cell_type": "code",
      "metadata": {
        "id": "TwQwU0LdDWzV",
        "colab_type": "code",
        "colab": {}
      },
      "source": [
        "gdf = gpd.GeoDataFrame(df, geometry=gpd.points_from_xy(df.longDD_W, df.latDD_N)) # our data\n",
        "\n",
        "usa = gpd.read_file(\"states_21basic/states.shp\") # Basemap"
      ],
      "execution_count": 0,
      "outputs": []
    },
    {
      "cell_type": "code",
      "metadata": {
        "id": "NkosoF3T9YOS",
        "colab_type": "code",
        "outputId": "50cb431e-7515-4754-d187-ab0ed5f7ea3f",
        "colab": {
          "base_uri": "https://localhost:8080/",
          "height": 489
        }
      },
      "source": [
        "f, ax = plt.subplots(1, figsize=(12, 12))\n",
        "usa.plot(axes=ax, facecolor='grey')\n",
        "ax = gdf.plot(axes=ax, markersize=0.5*df['Capacity_MW'])\n",
        "\n",
        "ax.set(xlim=(-170, -105), ylim=(15, 50))\n",
        "\n",
        "plt.show()"
      ],
      "execution_count": 58,
      "outputs": [
        {
          "output_type": "stream",
          "text": [
            "/usr/local/lib/python3.6/dist-packages/geopandas/plotting.py:504: FutureWarning: 'axes' is deprecated, please use 'ax' instead (for consistency with pandas)\n",
            "  FutureWarning,\n",
            "/usr/local/lib/python3.6/dist-packages/geopandas/plotting.py:504: FutureWarning: 'axes' is deprecated, please use 'ax' instead (for consistency with pandas)\n",
            "  FutureWarning,\n"
          ],
          "name": "stderr"
        },
        {
          "output_type": "display_data",
          "data": {
            "image/png": "[encoded data removed]",
            "text/plain": [
              "<Figure size 864x864 with 1 Axes>"
            ]
          },
          "metadata": {
            "tags": [],
            "needs_background": "light"
          }
        }
      ]
    },
    {
      "cell_type": "markdown",
      "metadata": {
        "id": "Pdu2Bke0h6Ln",
        "colab_type": "text"
      },
      "source": [
        "Fitting in Hawaii is hard, let's just do the western US"
      ]
    },
    {
      "cell_type": "code",
      "metadata": {
        "id": "jmd6-NJIxLcC",
        "colab_type": "code",
        "colab": {
          "base_uri": "https://localhost:8080/",
          "height": 692
        },
        "outputId": "d8309f11-2822-4a1b-fee1-740cf60e03e9"
      },
      "source": [
        "f, ax = plt.subplots(1, figsize=(12, 12))\n",
        "usa.plot(axes=ax, facecolor='grey')\n",
        "ax = gdf.plot(axes=ax, markersize=0.8*df['Capacity_MW'])\n",
        "\n",
        "ax.set(xlim=(-130, -105), ylim=(28, 50))\n",
        "\n",
        "plt.show()"
      ],
      "execution_count": 63,
      "outputs": [
        {
          "output_type": "stream",
          "text": [
            "/usr/local/lib/python3.6/dist-packages/geopandas/plotting.py:504: FutureWarning: 'axes' is deprecated, please use 'ax' instead (for consistency with pandas)\n",
            "  FutureWarning,\n",
            "/usr/local/lib/python3.6/dist-packages/geopandas/plotting.py:504: FutureWarning: 'axes' is deprecated, please use 'ax' instead (for consistency with pandas)\n",
            "  FutureWarning,\n"
          ],
          "name": "stderr"
        },
        {
          "output_type": "display_data",
          "data": {
            "image/png": "[encoded data removed]",
            "text/plain": [
              "<Figure size 864x864 with 1 Axes>"
            ]
          },
          "metadata": {
            "tags": [],
            "needs_background": "light"
          }
        }
      ]
    },
    {
      "cell_type": "markdown",
      "metadata": {
        "id": "PLorjBZOiYED",
        "colab_type": "text"
      },
      "source": [
        "Fin! This was not meant to be exhaustive, but merely show how a innocent looking dataset can take some work to get into shape."
      ]
    }
  ]
}