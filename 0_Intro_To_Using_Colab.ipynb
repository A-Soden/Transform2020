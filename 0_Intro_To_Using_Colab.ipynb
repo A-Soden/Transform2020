{
  "nbformat": 4,
  "nbformat_minor": 0,
  "metadata": {
    "colab": {
      "name": "0_Intro_To_Using_Colab.ipynb",
      "provenance": [],
      "collapsed_sections": [],
      "toc_visible": true
    },
    "kernelspec": {
      "name": "python3",
      "display_name": "Python 3"
    }
  },
  "cells": [
    {
      "cell_type": "markdown",
      "metadata": {
        "id": "1q3S1vi8OghN",
        "colab_type": "text"
      },
      "source": [
        "## Intro to Google Colab "
      ]
    },
    {
      "cell_type": "markdown",
      "metadata": {
        "id": "dbAVspslOeLM",
        "colab_type": "text"
      },
      "source": [
        "Google Colab is a online, free web-hosted Jupyter Notebook service. It is good for basic python code and analysis. It is not good for super complex packages. It also needs internet (won't be great on a ship, the wilderness, etc.). This notebook will be more about blasting though using Colab, than learning the tools. We will get to the tools soon!"
      ]
    },
    {
      "cell_type": "markdown",
      "metadata": {
        "id": "XCsJU4Y6Pta_",
        "colab_type": "text"
      },
      "source": [
        "### Let's try some python"
      ]
    },
    {
      "cell_type": "markdown",
      "metadata": {
        "id": "YUBU_TINS2xm",
        "colab_type": "text"
      },
      "source": [
        "(shift enter runs a cell on a mac, and probably windows as well)"
      ]
    },
    {
      "cell_type": "code",
      "metadata": {
        "id": "VgZ6j37PObMK",
        "colab_type": "code",
        "outputId": "31aaedb5-cc97-4ad3-d1d6-a4214e1ccbda",
        "colab": {
          "base_uri": "https://localhost:8080/",
          "height": 34
        }
      },
      "source": [
        "2+2"
      ],
      "execution_count": 5,
      "outputs": [
        {
          "output_type": "execute_result",
          "data": {
            "text/plain": [
              "4"
            ]
          },
          "metadata": {
            "tags": []
          },
          "execution_count": 5
        }
      ]
    },
    {
      "cell_type": "code",
      "metadata": {
        "id": "DYg3nn8ePnZe",
        "colab_type": "code",
        "outputId": "cb89f0e8-c65f-4ff1-f990-942e30d563e9",
        "colab": {
          "base_uri": "https://localhost:8080/",
          "height": 34
        }
      },
      "source": [
        "print('hello world')"
      ],
      "execution_count": 6,
      "outputs": [
        {
          "output_type": "stream",
          "text": [
            "hello world\n"
          ],
          "name": "stdout"
        }
      ]
    },
    {
      "cell_type": "markdown",
      "metadata": {
        "id": "wUYL1iwlPzfK",
        "colab_type": "text"
      },
      "source": [
        "Whoo! Just did some python without having to install anything! "
      ]
    },
    {
      "cell_type": "markdown",
      "metadata": {
        "id": "wKe-0BI9QQZO",
        "colab_type": "text"
      },
      "source": [
        "### Packages "
      ]
    },
    {
      "cell_type": "markdown",
      "metadata": {
        "id": "V9qgHqx_P143",
        "colab_type": "text"
      },
      "source": [
        "Packages are similar to Matlab toolboxes. You import them in a line of code in your notebook. "
      ]
    },
    {
      "cell_type": "code",
      "metadata": {
        "id": "Eud0gfi3PyxL",
        "colab_type": "code",
        "colab": {}
      },
      "source": [
        "import matplotlib.pyplot as plt"
      ],
      "execution_count": 0,
      "outputs": []
    },
    {
      "cell_type": "markdown",
      "metadata": {
        "id": "1cjE5MKsRE6D",
        "colab_type": "text"
      },
      "source": [
        "Ok, so we are telling the computer everytime we want to use the pyplot function from matplotlib, and we are going to call it plt as it's way shorter. Programmers are lazy. "
      ]
    },
    {
      "cell_type": "code",
      "metadata": {
        "id": "S3sAJN_wRCX2",
        "colab_type": "code",
        "colab": {}
      },
      "source": [
        "import pandas as pd\n",
        "import numpy as np"
      ],
      "execution_count": 0,
      "outputs": []
    },
    {
      "cell_type": "markdown",
      "metadata": {
        "id": "xXplUv3qRV7L",
        "colab_type": "text"
      },
      "source": [
        "Importing a few other that I use in (almost) every project. We can import them normally becuase Google pre-loaded them. Google does not pre-load everything that you need, sometimes you might need to install it. *warning* not every package can easily be imported in Colab. I have not figured out what makes some go and some not. But stats and plotting is usually pretty safe. Niche, one off, old, academic code, less so. "
      ]
    },
    {
      "cell_type": "code",
      "metadata": {
        "id": "AxN1lUjLRVWD",
        "colab_type": "code",
        "outputId": "3ea73d25-244e-4bc8-accd-7dd9dd698009",
        "colab": {
          "base_uri": "https://localhost:8080/",
          "height": 122
        }
      },
      "source": [
        "!pip install lasio"
      ],
      "execution_count": 9,
      "outputs": [
        {
          "output_type": "stream",
          "text": [
            "Collecting lasio\n",
            "  Downloading https://files.pythonhosted.org/packages/6c/d9/0a9c9e973538c2097d8fa75746512ef8f3dc535e093e9070e4086d339347/lasio-0.25.0-py2.py3-none-any.whl\n",
            "Requirement already satisfied: numpy in /usr/local/lib/python3.6/dist-packages (from lasio) (1.18.3)\n",
            "Installing collected packages: lasio\n",
            "Successfully installed lasio-0.25.0\n"
          ],
          "name": "stdout"
        }
      ]
    },
    {
      "cell_type": "markdown",
      "metadata": {
        "id": "13iV3i00TMe4",
        "colab_type": "text"
      },
      "source": [
        "Just installed the lasio package using pip. Lasio is a .las file imput and output reader. It's a great way to read in a .las file (well logs, not LiDAR) to use in python. After installing it, you still need to import it."
      ]
    },
    {
      "cell_type": "code",
      "metadata": {
        "id": "6w9J8nC9RSYU",
        "colab_type": "code",
        "colab": {}
      },
      "source": [
        "import lasio"
      ],
      "execution_count": 0,
      "outputs": []
    },
    {
      "cell_type": "markdown",
      "metadata": {
        "id": "oaVcx-P9UxGy",
        "colab_type": "text"
      },
      "source": [
        "## Importing Data"
      ]
    },
    {
      "cell_type": "markdown",
      "metadata": {
        "id": "YB7FxkbqU2Wo",
        "colab_type": "text"
      },
      "source": [
        "Being a google product, the best way to get data into a notebook is in google drive. "
      ]
    },
    {
      "cell_type": "code",
      "metadata": {
        "id": "LiZ77y54U1yM",
        "colab_type": "code",
        "outputId": "13bdb8d6-492d-46e8-efec-4159f8bec67e",
        "colab": {
          "base_uri": "https://localhost:8080/",
          "height": 34
        }
      },
      "source": [
        "ls"
      ],
      "execution_count": 11,
      "outputs": [
        {
          "output_type": "stream",
          "text": [
            "\u001b[0m\u001b[01;34msample_data\u001b[0m/\n"
          ],
          "name": "stdout"
        }
      ]
    },
    {
      "cell_type": "markdown",
      "metadata": {
        "id": "3eEx0xwgVGCV",
        "colab_type": "text"
      },
      "source": [
        "When you do the ls unix command, it lists all the files in the folder. At this point you might ask what is the sample_data/ folder. It's a grab bag of sample data that google has put out. But we want to work with our data! "
      ]
    },
    {
      "cell_type": "code",
      "metadata": {
        "id": "0IaXEYYmVDwE",
        "colab_type": "code",
        "outputId": "3bb7e263-e3e3-4a93-ff11-32347ba86697",
        "colab": {
          "base_uri": "https://localhost:8080/",
          "height": 122
        }
      },
      "source": [
        "from google.colab import drive\n",
        "drive.mount('/content/gdrive')"
      ],
      "execution_count": 12,
      "outputs": [
        {
          "output_type": "stream",
          "text": [
            "Go to this URL in a browser: https://accounts.google.com/o/oauth2/auth?client_id=947318989803-6bn6qk8qdgf4n4g3pfee6491hc0brc4i.apps.googleusercontent.com&redirect_uri=urn%3aietf%3awg%3aoauth%3a2.0%3aoob&response_type=code&scope=email%20https%3a%2f%2fwww.googleapis.com%2fauth%2fdocs.test%20https%3a%2f%2fwww.googleapis.com%2fauth%2fdrive%20https%3a%2f%2fwww.googleapis.com%2fauth%2fdrive.photos.readonly%20https%3a%2f%2fwww.googleapis.com%2fauth%2fpeopleapi.readonly\n",
            "\n",
            "Enter your authorization code:\n",
            "··········\n",
            "Mounted at /content/gdrive\n"
          ],
          "name": "stdout"
        }
      ]
    },
    {
      "cell_type": "code",
      "metadata": {
        "id": "xszwZizbVsvs",
        "colab_type": "code",
        "outputId": "ac2b0988-df3c-4466-e8ff-4ca47ad7d746",
        "colab": {
          "base_uri": "https://localhost:8080/",
          "height": 34
        }
      },
      "source": [
        "ls"
      ],
      "execution_count": 13,
      "outputs": [
        {
          "output_type": "stream",
          "text": [
            "\u001b[0m\u001b[01;34mgdrive\u001b[0m/  \u001b[01;34msample_data\u001b[0m/\n"
          ],
          "name": "stdout"
        }
      ]
    },
    {
      "cell_type": "markdown",
      "metadata": {
        "id": "aKuA9wgaYx8r",
        "colab_type": "text"
      },
      "source": [
        "cd is change directory in unix land, might have to change where this points"
      ]
    },
    {
      "cell_type": "code",
      "metadata": {
        "id": "RMcLerOAV3As",
        "colab_type": "code",
        "outputId": "cd059ec5-1059-45cb-9d4c-64f80ca04c96",
        "colab": {
          "base_uri": "https://localhost:8080/",
          "height": 34
        }
      },
      "source": [
        "cd /content/gdrive/My Drive/Colab Notebooks/"
      ],
      "execution_count": 14,
      "outputs": [
        {
          "output_type": "stream",
          "text": [
            "/content/gdrive/My Drive/Colab Notebooks\n"
          ],
          "name": "stdout"
        }
      ]
    },
    {
      "cell_type": "markdown",
      "metadata": {
        "id": "ZWmB4PloaCE7",
        "colab_type": "text"
      },
      "source": [
        "ls is list everything in a folder, hopefully you spot a .las file ..."
      ]
    },
    {
      "cell_type": "code",
      "metadata": {
        "id": "z4-Z8wK6XcZM",
        "colab_type": "code",
        "outputId": "ee3c51f5-3f47-46a3-d0ab-d934e606e077",
        "colab": {
          "base_uri": "https://localhost:8080/",
          "height": 68
        }
      },
      "source": [
        "ls"
      ],
      "execution_count": 15,
      "outputs": [
        {
          "output_type": "stream",
          "text": [
            " 0_Intro_To_Using_Colab.ipynb   clustering_TF2_GCP.ipynb\n",
            " 4900722147_722147B.las        'Copy of clustering_TEST_GCP_TF1.ipynb'\n",
            "'B Romans - Intro.ipynb'\n"
          ],
          "name": "stdout"
        }
      ]
    },
    {
      "cell_type": "code",
      "metadata": {
        "id": "cm7ZA0ciXvOV",
        "colab_type": "code",
        "colab": {}
      },
      "source": [
        "las = lasio.read('4900722147_722147B.las')"
      ],
      "execution_count": 0,
      "outputs": []
    },
    {
      "cell_type": "markdown",
      "metadata": {
        "id": "Q922o95ibTKW",
        "colab_type": "text"
      },
      "source": [
        "We just read in a las file! Let's do a quick quaility control, and make some plots."
      ]
    },
    {
      "cell_type": "code",
      "metadata": {
        "id": "NwbC3wwfa6l9",
        "colab_type": "code",
        "outputId": "de86811b-c12a-4138-ab69-71ffbcaea900",
        "colab": {
          "base_uri": "https://localhost:8080/",
          "height": 513
        }
      },
      "source": [
        "las.curves"
      ],
      "execution_count": 17,
      "outputs": [
        {
          "output_type": "execute_result",
          "data": {
            "text/plain": [
              "[CurveItem(mnemonic=DEPT, unit=F, value=, descr=DEPTH (BOREHOLE) {F13.5}, original_mnemonic=DEPT, data.shape=(20587,)),\n",
              " CurveItem(mnemonic=AHO10, unit=OHMM, value=, descr=Array Induction One Foot Resistivity A10 {F13.4}, original_mnemonic=AHO10, data.shape=(20587,)),\n",
              " CurveItem(mnemonic=AHO20, unit=OHMM, value=, descr=Array Induction One Foot Resistivity A20 {F13.4}, original_mnemonic=AHO20, data.shape=(20587,)),\n",
              " CurveItem(mnemonic=AHO30, unit=OHMM, value=, descr=Array Induction One Foot Resistivity A30 {F13.4}, original_mnemonic=AHO30, data.shape=(20587,)),\n",
              " CurveItem(mnemonic=AHO60, unit=OHMM, value=, descr=Array Induction One Foot Resistivity A60 {F13.4}, original_mnemonic=AHO60, data.shape=(20587,)),\n",
              " CurveItem(mnemonic=AHO90, unit=OHMM, value=, descr=Array Induction One Foot Resistivity A90 {F13.4}, original_mnemonic=AHO90, data.shape=(20587,)),\n",
              " CurveItem(mnemonic=BS, unit=IN, value=, descr=Bit Size {F13.4}, original_mnemonic=BS, data.shape=(20587,)),\n",
              " CurveItem(mnemonic=CDF, unit=LBF, value=, descr=Calibrated Downhole Force {F13.4}, original_mnemonic=CDF, data.shape=(20587,)),\n",
              " CurveItem(mnemonic=CTEM, unit=DEGF, value=, descr=Cartridge Temperature {F13.4}, original_mnemonic=CTEM, data.shape=(20587,)),\n",
              " CurveItem(mnemonic=DCAL, unit=IN, value=, descr=Differential Caliper {F13.4}, original_mnemonic=DCAL, data.shape=(20587,)),\n",
              " CurveItem(mnemonic=DPH8, unit=CFCF, value=, descr=HRGD High Resolution Density Porosity {F14.5}, original_mnemonic=DPH8, data.shape=(20587,)),\n",
              " CurveItem(mnemonic=DPHZ, unit=CFCF, value=, descr=HRDD Standard Resolution Density Porosity {F13.4}, original_mnemonic=DPHZ, data.shape=(20587,)),\n",
              " CurveItem(mnemonic=EHGR, unit=GAPI, value=, descr=HiRes Gamma-Ray {F13.4}, original_mnemonic=EHGR, data.shape=(20587,)),\n",
              " CurveItem(mnemonic=FCD, unit=IN, value=, descr=Future Casing Diameter {F13.4}, original_mnemonic=FCD, data.shape=(20587,)),\n",
              " CurveItem(mnemonic=GR, unit=GAPI, value=, descr=Gamma Ray {F13.4}, original_mnemonic=GR, data.shape=(20587,)),\n",
              " CurveItem(mnemonic=HCAL, unit=IN, value=, descr=HRCC Cal. Caliper {F13.4}, original_mnemonic=HCAL, data.shape=(20587,)),\n",
              " CurveItem(mnemonic=HDRA, unit=G/C3, value=, descr=HRDD Density Correction {F13.4}, original_mnemonic=HDRA, data.shape=(20587,)),\n",
              " CurveItem(mnemonic=HGR, unit=GAPI, value=, descr=HiRes Gamma-Ray {F13.4}, original_mnemonic=HGR, data.shape=(20587,)),\n",
              " CurveItem(mnemonic=HMIN, unit=OHMM, value=, descr=MCFL Micro Inverse Resistivity {F13.4}, original_mnemonic=HMIN, data.shape=(20587,)),\n",
              " CurveItem(mnemonic=HMNO, unit=OHMM, value=, descr=MCFL Micro Normal Resistivity {F13.4}, original_mnemonic=HMNO, data.shape=(20587,)),\n",
              " CurveItem(mnemonic=HNPO, unit=CFCF, value=, descr=High Resolution Enhanced Thermal Neutron Porosity {F14.5}, original_mnemonic=HNPO, data.shape=(20587,)),\n",
              " CurveItem(mnemonic=HTNP, unit=CFCF, value=, descr=High Resolution Thermal Neutron Ratio Method {F14.5}, original_mnemonic=HTNP, data.shape=(20587,)),\n",
              " CurveItem(mnemonic=PEF8, unit=, value=, descr=HRDD High Resolution Formation Photoelectric Factor {F14.5}, original_mnemonic=PEF8, data.shape=(20587,)),\n",
              " CurveItem(mnemonic=RHO8, unit=G/C3, value=, descr=HRDD High Resolution Formation Density {F14.5}, original_mnemonic=RHO8, data.shape=(20587,)),\n",
              " CurveItem(mnemonic=RXO8, unit=OHMM, value=, descr=MCFL Invaded Formation Resistivity filtered at 8 inches {F14.5}, original_mnemonic=RXO8, data.shape=(20587,)),\n",
              " CurveItem(mnemonic=RXOI, unit=OHMM, value=, descr=Invaded Formation Resistivity Very High Resolution {F14.5}, original_mnemonic=RXOI, data.shape=(20587,)),\n",
              " CurveItem(mnemonic=SP, unit=MV, value=, descr=Spontaneous Potential {F13.4}, original_mnemonic=SP, data.shape=(20587,)),\n",
              " CurveItem(mnemonic=TENS, unit=LBF, value=, descr=Cable Tension {F14.5}, original_mnemonic=TENS, data.shape=(20587,))]"
            ]
          },
          "metadata": {
            "tags": []
          },
          "execution_count": 17
        }
      ]
    },
    {
      "cell_type": "markdown",
      "metadata": {
        "id": "k1QvFJ5pb3Yf",
        "colab_type": "text"
      },
      "source": [
        "Wow, this well has a lot of curves! OK, we are going to make a data frame for the data in the .las file. Data frame's are a great way to store and mess with data in python. We can go over dataframe's for hours, but just trust me ..."
      ]
    },
    {
      "cell_type": "code",
      "metadata": {
        "id": "moHkLwobbGJK",
        "colab_type": "code",
        "colab": {}
      },
      "source": [
        "df = las.df()"
      ],
      "execution_count": 0,
      "outputs": []
    },
    {
      "cell_type": "markdown",
      "metadata": {
        "id": "tOUfesaydKCE",
        "colab_type": "text"
      },
      "source": [
        "Now I want to inspect the first few rows of the data frame"
      ]
    },
    {
      "cell_type": "code",
      "metadata": {
        "id": "6hIM5aaxbJlz",
        "colab_type": "code",
        "outputId": "0ef842ca-6efc-434b-adcb-7852c8444a5c",
        "colab": {
          "base_uri": "https://localhost:8080/",
          "height": 193
        }
      },
      "source": [
        "df.head(3)"
      ],
      "execution_count": 19,
      "outputs": [
        {
          "output_type": "execute_result",
          "data": {
            "text/html": [
              "<div>\n",
              "<style scoped>\n",
              "    .dataframe tbody tr th:only-of-type {\n",
              "        vertical-align: middle;\n",
              "    }\n",
              "\n",
              "    .dataframe tbody tr th {\n",
              "        vertical-align: top;\n",
              "    }\n",
              "\n",
              "    .dataframe thead th {\n",
              "        text-align: right;\n",
              "    }\n",
              "</style>\n",
              "<table border=\"1\" class=\"dataframe\">\n",
              "  <thead>\n",
              "    <tr style=\"text-align: right;\">\n",
              "      <th></th>\n",
              "      <th>AHO10</th>\n",
              "      <th>AHO20</th>\n",
              "      <th>AHO30</th>\n",
              "      <th>AHO60</th>\n",
              "      <th>AHO90</th>\n",
              "      <th>BS</th>\n",
              "      <th>CDF</th>\n",
              "      <th>CTEM</th>\n",
              "      <th>DCAL</th>\n",
              "      <th>DPH8</th>\n",
              "      <th>DPHZ</th>\n",
              "      <th>EHGR</th>\n",
              "      <th>FCD</th>\n",
              "      <th>GR</th>\n",
              "      <th>HCAL</th>\n",
              "      <th>HDRA</th>\n",
              "      <th>HGR</th>\n",
              "      <th>HMIN</th>\n",
              "      <th>HMNO</th>\n",
              "      <th>HNPO</th>\n",
              "      <th>HTNP</th>\n",
              "      <th>PEF8</th>\n",
              "      <th>RHO8</th>\n",
              "      <th>RXO8</th>\n",
              "      <th>RXOI</th>\n",
              "      <th>SP</th>\n",
              "      <th>TENS</th>\n",
              "    </tr>\n",
              "    <tr>\n",
              "      <th>DEPT</th>\n",
              "      <th></th>\n",
              "      <th></th>\n",
              "      <th></th>\n",
              "      <th></th>\n",
              "      <th></th>\n",
              "      <th></th>\n",
              "      <th></th>\n",
              "      <th></th>\n",
              "      <th></th>\n",
              "      <th></th>\n",
              "      <th></th>\n",
              "      <th></th>\n",
              "      <th></th>\n",
              "      <th></th>\n",
              "      <th></th>\n",
              "      <th></th>\n",
              "      <th></th>\n",
              "      <th></th>\n",
              "      <th></th>\n",
              "      <th></th>\n",
              "      <th></th>\n",
              "      <th></th>\n",
              "      <th></th>\n",
              "      <th></th>\n",
              "      <th></th>\n",
              "      <th></th>\n",
              "      <th></th>\n",
              "    </tr>\n",
              "  </thead>\n",
              "  <tbody>\n",
              "    <tr>\n",
              "      <th>264.57275</th>\n",
              "      <td>2.9255</td>\n",
              "      <td>3.2413</td>\n",
              "      <td>3.4473</td>\n",
              "      <td>3.7072</td>\n",
              "      <td>3.5825</td>\n",
              "      <td>8.75</td>\n",
              "      <td>714.3266</td>\n",
              "      <td>94.4001</td>\n",
              "      <td>0.0157</td>\n",
              "      <td>-0.51861</td>\n",
              "      <td>-0.5117</td>\n",
              "      <td>62.9528</td>\n",
              "      <td>7.0</td>\n",
              "      <td>57.5765</td>\n",
              "      <td>8.7657</td>\n",
              "      <td>0.8911</td>\n",
              "      <td>61.5717</td>\n",
              "      <td>0.1018</td>\n",
              "      <td>0.1102</td>\n",
              "      <td>0.4626</td>\n",
              "      <td>0.50474</td>\n",
              "      <td>9.98008</td>\n",
              "      <td>3.5057</td>\n",
              "      <td>0.09612</td>\n",
              "      <td>0.04418</td>\n",
              "      <td>-75.6761</td>\n",
              "      <td>903.50800</td>\n",
              "    </tr>\n",
              "    <tr>\n",
              "      <th>264.65608</th>\n",
              "      <td>2.9255</td>\n",
              "      <td>3.2413</td>\n",
              "      <td>3.4473</td>\n",
              "      <td>3.7072</td>\n",
              "      <td>3.5825</td>\n",
              "      <td>8.75</td>\n",
              "      <td>706.3282</td>\n",
              "      <td>94.4001</td>\n",
              "      <td>0.0157</td>\n",
              "      <td>-0.51861</td>\n",
              "      <td>-0.5117</td>\n",
              "      <td>62.9528</td>\n",
              "      <td>7.0</td>\n",
              "      <td>57.5765</td>\n",
              "      <td>8.7657</td>\n",
              "      <td>0.8911</td>\n",
              "      <td>61.5717</td>\n",
              "      <td>0.1018</td>\n",
              "      <td>0.1102</td>\n",
              "      <td>0.4626</td>\n",
              "      <td>0.50474</td>\n",
              "      <td>9.98008</td>\n",
              "      <td>3.5057</td>\n",
              "      <td>0.09612</td>\n",
              "      <td>0.04418</td>\n",
              "      <td>-75.5199</td>\n",
              "      <td>899.50816</td>\n",
              "    </tr>\n",
              "    <tr>\n",
              "      <th>264.73941</th>\n",
              "      <td>2.9255</td>\n",
              "      <td>3.2413</td>\n",
              "      <td>3.4473</td>\n",
              "      <td>3.7072</td>\n",
              "      <td>3.5825</td>\n",
              "      <td>8.75</td>\n",
              "      <td>698.3297</td>\n",
              "      <td>94.4001</td>\n",
              "      <td>0.0157</td>\n",
              "      <td>-0.51861</td>\n",
              "      <td>-0.5117</td>\n",
              "      <td>61.1155</td>\n",
              "      <td>7.0</td>\n",
              "      <td>57.5765</td>\n",
              "      <td>8.7657</td>\n",
              "      <td>0.8911</td>\n",
              "      <td>59.7747</td>\n",
              "      <td>0.1018</td>\n",
              "      <td>0.1102</td>\n",
              "      <td>0.4626</td>\n",
              "      <td>0.50474</td>\n",
              "      <td>9.98008</td>\n",
              "      <td>3.5057</td>\n",
              "      <td>0.09612</td>\n",
              "      <td>0.04418</td>\n",
              "      <td>-75.3636</td>\n",
              "      <td>895.50832</td>\n",
              "    </tr>\n",
              "  </tbody>\n",
              "</table>\n",
              "</div>"
            ],
            "text/plain": [
              "            AHO10   AHO20   AHO30   AHO60  ...     RXO8     RXOI       SP       TENS\n",
              "DEPT                                       ...                                      \n",
              "264.57275  2.9255  3.2413  3.4473  3.7072  ...  0.09612  0.04418 -75.6761  903.50800\n",
              "264.65608  2.9255  3.2413  3.4473  3.7072  ...  0.09612  0.04418 -75.5199  899.50816\n",
              "264.73941  2.9255  3.2413  3.4473  3.7072  ...  0.09612  0.04418 -75.3636  895.50832\n",
              "\n",
              "[3 rows x 27 columns]"
            ]
          },
          "metadata": {
            "tags": []
          },
          "execution_count": 19
        }
      ]
    },
    {
      "cell_type": "markdown",
      "metadata": {
        "id": "wcIbtmefdgEu",
        "colab_type": "text"
      },
      "source": [
        "### Plotting"
      ]
    },
    {
      "cell_type": "markdown",
      "metadata": {
        "id": "CjL2P-TMdjGT",
        "colab_type": "text"
      },
      "source": [
        "Ok, so we have loaded the data, and now I want to make some quick plots. Remember that we loaded in matplotlib? We are going to use that now."
      ]
    },
    {
      "cell_type": "code",
      "metadata": {
        "id": "qKQoCqthdhqM",
        "colab_type": "code",
        "outputId": "f4acf29c-0977-427b-cc77-163a89ef44e9",
        "colab": {
          "base_uri": "https://localhost:8080/",
          "height": 305
        }
      },
      "source": [
        "# lets make a histogram of the GR Curve, with 20 bins, in green\n",
        "plt.hist(df.GR.values, bins = 20, color='g')\n",
        "plt.xlabel('GR', size=16)\n",
        "plt.ylabel('Count', size=16)"
      ],
      "execution_count": 20,
      "outputs": [
        {
          "output_type": "execute_result",
          "data": {
            "text/plain": [
              "Text(0, 0.5, 'Count')"
            ]
          },
          "metadata": {
            "tags": []
          },
          "execution_count": 20
        },
        {
          "output_type": "display_data",
          "data": {
            "image/png": "[encoded data removed]",
            "text/plain": [
              "<Figure size 432x288 with 1 Axes>"
            ]
          },
          "metadata": {
            "tags": [],
            "needs_background": "light"
          }
        }
      ]
    },
    {
      "cell_type": "code",
      "metadata": {
        "id": "t94XeB6Qd35z",
        "colab_type": "code",
        "outputId": "d0892591-898c-4bac-bb5d-a4fb894fe412",
        "colab": {
          "base_uri": "https://localhost:8080/",
          "height": 405
        }
      },
      "source": [
        "# Scatter plot comparing GR to Deep Resistivity\n",
        "plt.figure(figsize=(5,4), dpi=100)\n",
        "plt.scatter(df.GR.values,df.AHO90.values,color='blue', marker='.')\n",
        "\n",
        "plt.grid(True)\n",
        "plt.xlabel('GR', size=16)\n",
        "plt.ylabel('Deep Resistivity', size=16)"
      ],
      "execution_count": 21,
      "outputs": [
        {
          "output_type": "execute_result",
          "data": {
            "text/plain": [
              "Text(0, 0.5, 'Deep Resistivity')"
            ]
          },
          "metadata": {
            "tags": []
          },
          "execution_count": 21
        },
        {
          "output_type": "display_data",
          "data": {
            "image/png": "[encoded data removed]",
            "text/plain": [
              "<Figure size 500x400 with 1 Axes>"
            ]
          },
          "metadata": {
            "tags": [],
            "needs_background": "light"
          }
        }
      ]
    },
    {
      "cell_type": "code",
      "metadata": {
        "id": "zL3qgjHoeZDm",
        "colab_type": "code",
        "outputId": "a0fa9089-2c0c-4b94-b8e8-d5aa22cf0a80",
        "colab": {
          "base_uri": "https://localhost:8080/",
          "height": 670
        }
      },
      "source": [
        "# line plot of the Gamma curve\n",
        "plt.figure(figsize=(4,8), dpi=100)\n",
        "plt.plot(df.GR.values, df.index, color='g')\n",
        "plt.ylabel('Depth', size=16)\n",
        "plt.ylim(2000,0)\n",
        "plt.grid(True)\n"
      ],
      "execution_count": 23,
      "outputs": [
        {
          "output_type": "display_data",
          "data": {
            "image/png": "[encoded data removed]",
            "text/plain": [
              "<Figure size 400x800 with 1 Axes>"
            ]
          },
          "metadata": {
            "tags": [],
            "needs_background": "light"
          }
        }
      ]
    },
    {
      "cell_type": "markdown",
      "metadata": {
        "id": "1EZ7p22CmvVF",
        "colab_type": "text"
      },
      "source": [
        "*Fin!*"
      ]
    }
  ]
}