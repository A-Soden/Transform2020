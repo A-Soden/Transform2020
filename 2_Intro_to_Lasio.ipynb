{
  "nbformat": 4,
  "nbformat_minor": 0,
  "metadata": {
    "colab": {
      "name": "2_Intro_to_Lasio.ipynb",
      "provenance": []
    },
    "kernelspec": {
      "name": "python3",
      "display_name": "Python 3"
    }
  },
  "cells": [
    {
      "cell_type": "markdown",
      "metadata": {
        "id": "9TnaFW9mmJ2B",
        "colab_type": "text"
      },
      "source": [
        "# Introduction to Lasio"
      ]
    },
    {
      "cell_type": "markdown",
      "metadata": {
        "id": "xCkOckvGmZQ5",
        "colab_type": "text"
      },
      "source": [
        "Lasio (las input/output) is a fantastic package for working with .las files. Note! .las files are also used for LiDAR data, but this is for well logs, and not that data type. The Github is [here](https://github.com/kinverarity1/lasio)."
      ]
    },
    {
      "cell_type": "code",
      "metadata": {
        "id": "OeX5gW1ZmB1a",
        "colab_type": "code",
        "colab": {
          "base_uri": "https://localhost:8080/",
          "height": 71
        },
        "outputId": "73cda892-9c66-4a1d-8227-31b45083e1dd"
      },
      "source": [
        "!pip install lasio # ! before the pip important for notebooks"
      ],
      "execution_count": 2,
      "outputs": [
        {
          "output_type": "stream",
          "text": [
            "Requirement already satisfied: lasio in /usr/local/lib/python3.6/dist-packages (0.25.1)\n",
            "Requirement already satisfied: numpy in /usr/local/lib/python3.6/dist-packages (from lasio) (1.18.3)\n"
          ],
          "name": "stdout"
        }
      ]
    },
    {
      "cell_type": "code",
      "metadata": {
        "id": "NpezMmHAmsfG",
        "colab_type": "code",
        "colab": {}
      },
      "source": [
        "import lasio\n",
        "import pandas as pd\n",
        "import matplotlib.pyplot as plt"
      ],
      "execution_count": 0,
      "outputs": []
    },
    {
      "cell_type": "markdown",
      "metadata": {
        "id": "AO8M5pbgmHxV",
        "colab_type": "text"
      },
      "source": [
        "Ok! Now we are ready to work"
      ]
    },
    {
      "cell_type": "markdown",
      "metadata": {
        "id": "Ux1fupwwm-4F",
        "colab_type": "text"
      },
      "source": [
        "## Importing a .las file"
      ]
    },
    {
      "cell_type": "code",
      "metadata": {
        "id": "ai5cQOTOnB4I",
        "colab_type": "code",
        "colab": {
          "base_uri": "https://localhost:8080/",
          "height": 34
        },
        "outputId": "762ef148-9000-4cec-bd48-f7826d7aae15"
      },
      "source": [
        "ls"
      ],
      "execution_count": 4,
      "outputs": [
        {
          "output_type": "stream",
          "text": [
            "\u001b[0m\u001b[01;34mdrive\u001b[0m/  \u001b[01;34msample_data\u001b[0m/\n"
          ],
          "name": "stdout"
        }
      ]
    },
    {
      "cell_type": "markdown",
      "metadata": {
        "id": "nUGKuJEMqkIv",
        "colab_type": "text"
      },
      "source": [
        "Navigate to where your folder/data is. If you are already there, don't run the next block of code."
      ]
    },
    {
      "cell_type": "code",
      "metadata": {
        "id": "wqe29s31nDDo",
        "colab_type": "code",
        "colab": {
          "base_uri": "https://localhost:8080/",
          "height": 34
        },
        "outputId": "e8c6c4b2-bb0c-4f76-b569-e4b9956eb9d2"
      },
      "source": [
        "cd drive/My\\ Drive/Colab Notebooks"
      ],
      "execution_count": 5,
      "outputs": [
        {
          "output_type": "stream",
          "text": [
            "/content/drive/My Drive/Colab Notebooks\n"
          ],
          "name": "stdout"
        }
      ]
    },
    {
      "cell_type": "code",
      "metadata": {
        "id": "wmg-0IXpnNZo",
        "colab_type": "code",
        "colab": {
          "base_uri": "https://localhost:8080/",
          "height": 204
        },
        "outputId": "d1595775-4e5f-4e3f-d585-a681580fd89e"
      },
      "source": [
        "ls"
      ],
      "execution_count": 6,
      "outputs": [
        {
          "output_type": "stream",
          "text": [
            " 0_Intro_To_Using_Colab.ipynb\n",
            " 1_Pandas_Cleaning_Example_Geothermal.ipynb\n",
            " 2_Intro_to_Lasio.ipynb\n",
            " 4900722147_722147B.las\n",
            " 490072236400.csv\n",
            " 4900722364_722364A.las\n",
            " 4900722364A.las\n",
            "'B Romans - Intro.ipynb'\n",
            " clustering_TF2_GCP.ipynb\n",
            "'Copy of clustering_TEST_GCP_TF1.ipynb'\n",
            " Transform2020_Rules.las\n"
          ],
          "name": "stdout"
        }
      ]
    },
    {
      "cell_type": "code",
      "metadata": {
        "id": "L7qEJJkCnOJ3",
        "colab_type": "code",
        "colab": {}
      },
      "source": [
        "l = lasio.read('4900722364A.las')"
      ],
      "execution_count": 0,
      "outputs": []
    },
    {
      "cell_type": "markdown",
      "metadata": {
        "id": "r5bJ2YM-pncH",
        "colab_type": "text"
      },
      "source": [
        "One line! Lasio is awesome, and is compatible with 99.5% of modern well logs in my experiance. "
      ]
    },
    {
      "cell_type": "markdown",
      "metadata": {
        "id": "jNQVTFynsHV1",
        "colab_type": "text"
      },
      "source": [
        "## Digging through the header"
      ]
    },
    {
      "cell_type": "markdown",
      "metadata": {
        "id": "KmwgJ3Doqyiz",
        "colab_type": "text"
      },
      "source": [
        "If you want to check out what curves are in this file:"
      ]
    },
    {
      "cell_type": "code",
      "metadata": {
        "id": "988XieWUpm5v",
        "colab_type": "code",
        "colab": {
          "base_uri": "https://localhost:8080/",
          "height": 292
        },
        "outputId": "c7087bc9-ac2e-478b-b505-e09adad4db71"
      },
      "source": [
        "l.curves "
      ],
      "execution_count": 8,
      "outputs": [
        {
          "output_type": "execute_result",
          "data": {
            "text/plain": [
              "[CurveItem(mnemonic=DEPT, unit=FT, value=99 995 99  1, descr=Depth, original_mnemonic=DEPT, data.shape=(19655,)),\n",
              " CurveItem(mnemonic=CAL, unit=IN, value=70 280 99  1, descr=Caliper, original_mnemonic=CAL, data.shape=(19655,)),\n",
              " CurveItem(mnemonic=GR, unit=GAPI, value=30 310  1  1, descr=Gamma Ray counts, original_mnemonic=GR, data.shape=(19655,)),\n",
              " CurveItem(mnemonic=M2R1, unit=OHMM, value=99 995 99  1, descr=Vert resolution matched (2 ft) res - DOI 10 inch, original_mnemonic=M2R1, data.shape=(19655,)),\n",
              " CurveItem(mnemonic=M2R2, unit=OHMM, value=99 995 99  1, descr=Vert resolution matched (2 ft) res - DOI 20 inch, original_mnemonic=M2R2, data.shape=(19655,)),\n",
              " CurveItem(mnemonic=M2R3, unit=OHMM, value=99 995 99  1, descr=Vert resolution matched (2 ft) res - DOI 30 inch, original_mnemonic=M2R3, data.shape=(19655,)),\n",
              " CurveItem(mnemonic=M2R6, unit=OHMM, value=99 995 99  1, descr=Vert resolution matched (2 ft) res - DOI 60 inch, original_mnemonic=M2R6, data.shape=(19655,)),\n",
              " CurveItem(mnemonic=M2R9, unit=OHMM, value=99 995 99  1, descr=Vert resolution matched (2 ft) res - DOI 90 inch, original_mnemonic=M2R9, data.shape=(19655,)),\n",
              " CurveItem(mnemonic=M2RX, unit=OHMM, value=99 995 99  1, descr=Vert resolution matched (2 ft) res - DOI 120 inch, original_mnemonic=M2RX, data.shape=(19655,)),\n",
              " CurveItem(mnemonic=PE, unit=B/E, value=45 358  1  1, descr=Photo Electric Cross Section, original_mnemonic=PE, data.shape=(19655,)),\n",
              " CurveItem(mnemonic=PORZ, unit=PU, value=45 890 99  1, descr=Porosity from ZDEN or ZDNC, original_mnemonic=PORZ, data.shape=(19655,)),\n",
              " CurveItem(mnemonic=SP, unit=MV, value=1  10  1  1, descr=Spontaneous Potential, original_mnemonic=SP, data.shape=(19655,)),\n",
              " CurveItem(mnemonic=TEN, unit=LBF, value=99 635 99  1, descr=Differential Tension, original_mnemonic=TEN, data.shape=(19655,)),\n",
              " CurveItem(mnemonic=ZDEN, unit=G/C3, value=45 350  1  1, descr=ZDL Bulk Density, original_mnemonic=ZDEN, data.shape=(19655,)),\n",
              " CurveItem(mnemonic=ZCOR, unit=G/C3, value=45 356 99  1, descr=ZDL Correction, original_mnemonic=ZCOR, data.shape=(19655,))]"
            ]
          },
          "metadata": {
            "tags": []
          },
          "execution_count": 8
        }
      ]
    },
    {
      "cell_type": "markdown",
      "metadata": {
        "id": "b0yvK0ujq445",
        "colab_type": "text"
      },
      "source": [
        "Or the header:"
      ]
    },
    {
      "cell_type": "code",
      "metadata": {
        "id": "HyeMfiUIqwCH",
        "colab_type": "code",
        "colab": {
          "base_uri": "https://localhost:8080/",
          "height": 1000
        },
        "outputId": "200c4ef9-20fa-415d-fbbd-6e01c6d48cb5"
      },
      "source": [
        "l.header"
      ],
      "execution_count": 9,
      "outputs": [
        {
          "output_type": "execute_result",
          "data": {
            "text/plain": [
              "{'Curves': [CurveItem(mnemonic=DEPT, unit=FT, value=99 995 99  1, descr=Depth, original_mnemonic=DEPT, data.shape=(19655,)),\n",
              "  CurveItem(mnemonic=CAL, unit=IN, value=70 280 99  1, descr=Caliper, original_mnemonic=CAL, data.shape=(19655,)),\n",
              "  CurveItem(mnemonic=GR, unit=GAPI, value=30 310  1  1, descr=Gamma Ray counts, original_mnemonic=GR, data.shape=(19655,)),\n",
              "  CurveItem(mnemonic=M2R1, unit=OHMM, value=99 995 99  1, descr=Vert resolution matched (2 ft) res - DOI 10 inch, original_mnemonic=M2R1, data.shape=(19655,)),\n",
              "  CurveItem(mnemonic=M2R2, unit=OHMM, value=99 995 99  1, descr=Vert resolution matched (2 ft) res - DOI 20 inch, original_mnemonic=M2R2, data.shape=(19655,)),\n",
              "  CurveItem(mnemonic=M2R3, unit=OHMM, value=99 995 99  1, descr=Vert resolution matched (2 ft) res - DOI 30 inch, original_mnemonic=M2R3, data.shape=(19655,)),\n",
              "  CurveItem(mnemonic=M2R6, unit=OHMM, value=99 995 99  1, descr=Vert resolution matched (2 ft) res - DOI 60 inch, original_mnemonic=M2R6, data.shape=(19655,)),\n",
              "  CurveItem(mnemonic=M2R9, unit=OHMM, value=99 995 99  1, descr=Vert resolution matched (2 ft) res - DOI 90 inch, original_mnemonic=M2R9, data.shape=(19655,)),\n",
              "  CurveItem(mnemonic=M2RX, unit=OHMM, value=99 995 99  1, descr=Vert resolution matched (2 ft) res - DOI 120 inch, original_mnemonic=M2RX, data.shape=(19655,)),\n",
              "  CurveItem(mnemonic=PE, unit=B/E, value=45 358  1  1, descr=Photo Electric Cross Section, original_mnemonic=PE, data.shape=(19655,)),\n",
              "  CurveItem(mnemonic=PORZ, unit=PU, value=45 890 99  1, descr=Porosity from ZDEN or ZDNC, original_mnemonic=PORZ, data.shape=(19655,)),\n",
              "  CurveItem(mnemonic=SP, unit=MV, value=1  10  1  1, descr=Spontaneous Potential, original_mnemonic=SP, data.shape=(19655,)),\n",
              "  CurveItem(mnemonic=TEN, unit=LBF, value=99 635 99  1, descr=Differential Tension, original_mnemonic=TEN, data.shape=(19655,)),\n",
              "  CurveItem(mnemonic=ZDEN, unit=G/C3, value=45 350  1  1, descr=ZDL Bulk Density, original_mnemonic=ZDEN, data.shape=(19655,)),\n",
              "  CurveItem(mnemonic=ZCOR, unit=G/C3, value=45 356 99  1, descr=ZDL Correction, original_mnemonic=ZCOR, data.shape=(19655,))],\n",
              " 'Other': 'CEMENT VOLUME BASED ON 4.5\" CASING\\nCALIPER VERIFIED IN CASING\\nTHANKS FOR USING BAKER ATLAS\\nCREW:  BRAMWELL / MYERS\\nRIG:  CYCLONE #14',\n",
              " 'Parameter': [HeaderItem(mnemonic=HIDE, unit=, value=HIGH DEFINITION INDUCTION LOG, descr=...),\n",
              "  HeaderItem(mnemonic=HID1, unit=, value=Gamma Ray / Caliper, descr=Header Ide...),\n",
              "  HeaderItem(mnemonic=CLAB, unit=, value=COUNTY, descr=County Label (Comments)),\n",
              "  HeaderItem(mnemonic=SLAB, unit=, value=STATE, descr=State Label (Comments)),\n",
              "  HeaderItem(mnemonic=FILE, unit=, value=12521, descr=File Number),\n",
              "  HeaderItem(mnemonic=SECT, unit=, value=16, descr=Section),\n",
              "  HeaderItem(mnemonic=TOWN, unit=, value=19 N, descr=Township),\n",
              "  HeaderItem(mnemonic=RANG, unit=, value=93 W, descr=Range),\n",
              "  HeaderItem(mnemonic=OS1, unit=, value=ZDL/CN, descr=Other Services Line 1),\n",
              "  HeaderItem(mnemonic=PDAT, unit=, value=G.L., descr=Permanent Datum),\n",
              "  HeaderItem(mnemonic=EPD, unit=FT, value=6760, descr=Elevation Of Perm. Datum),\n",
              "  HeaderItem(mnemonic=LMF, unit=, value=K.B., descr=Log Measured From),\n",
              "  HeaderItem(mnemonic=APD, unit=FT, value=18, descr=Above Permanent Datum),\n",
              "  HeaderItem(mnemonic=DMF, unit=, value=K.B., descr=Drilling Measured From),\n",
              "  HeaderItem(mnemonic=EKB, unit=FT, value=6778, descr=Elevation Of Kelly Bushing),\n",
              "  HeaderItem(mnemonic=EDF, unit=FT, value=6777, descr=Elevation Of Derrick Floor),\n",
              "  HeaderItem(mnemonic=EGL, unit=FT, value=6760, descr=Elevation Of Ground Level),\n",
              "  HeaderItem(mnemonic=RUN, unit=, value=1, descr=Run Number),\n",
              "  HeaderItem(mnemonic=TRIP, unit=, value=1, descr=Trip Number),\n",
              "  HeaderItem(mnemonic=SON, unit=, value=421546, descr=Service Order Number),\n",
              "  HeaderItem(mnemonic=TDD, unit=FT, value=9820, descr=Total Depth - Driller),\n",
              "  HeaderItem(mnemonic=TDL, unit=FT, value=9815, descr=Total Depth - Logger),\n",
              "  HeaderItem(mnemonic=BLI, unit=FT, value=9815, descr=Bottom Log Interval),\n",
              "  HeaderItem(mnemonic=TLI, unit=FT, value=0, descr=Top Log Interval),\n",
              "  HeaderItem(mnemonic=CSIZ, unit=IN, value=9.625, descr=Casing Size),\n",
              "  HeaderItem(mnemonic=CBDR, unit=FT, value=1501, descr=N/A),\n",
              "  HeaderItem(mnemonic=CBLO, unit=FT, value=1515, descr=N/A),\n",
              "  HeaderItem(mnemonic=BS, unit=IN, value=7.875, descr=Bit Size),\n",
              "  HeaderItem(mnemonic=DFT, unit=, value=GEL/CHEM, descr=Drilling Fluid Type),\n",
              "  HeaderItem(mnemonic=DFD, unit=LB/G, value=10.4, descr=Drilling Fluid Density),\n",
              "  HeaderItem(mnemonic=DFV, unit=S, value=41, descr=Drilling Fluid Viscosity),\n",
              "  HeaderItem(mnemonic=DFPH, unit=, value=9.0, descr=Drilling Fluid Ph),\n",
              "  HeaderItem(mnemonic=DFL, unit=C3, value=10.0, descr=Drilling Fluid Loss),\n",
              "  HeaderItem(mnemonic=MSS, unit=, value=TANK, descr=Mud Sample Source),\n",
              "  HeaderItem(mnemonic=RMS, unit=OHMM, value=1.52, descr=Resistivity Of Mud Sample),\n",
              "  HeaderItem(mnemonic=MST, unit=DEGF, value=87, descr=Mud Sample Temperature),\n",
              "  HeaderItem(mnemonic=RMFS, unit=OHMM, value=1.14, descr=Resistivity Of Mud Fi...),\n",
              "  HeaderItem(mnemonic=MFST, unit=DEGF, value=83, descr=Mud Filtrate Sample Tem...),\n",
              "  HeaderItem(mnemonic=RMCS, unit=OHMM, value=1.82, descr=Resistivity Of Mud Ca...),\n",
              "  HeaderItem(mnemonic=MCST, unit=DEGF, value=87, descr=Mud Cake Sample Tempera...),\n",
              "  HeaderItem(mnemonic=MFSS, unit=, value=MEAS., descr=Mud Filtrate Sample Source),\n",
              "  HeaderItem(mnemonic=MCSS, unit=, value=CALC., descr=Mud Cake Sample Source),\n",
              "  HeaderItem(mnemonic=RMB, unit=OHMM, value=0.65, descr=Mud Resistivity At Bht),\n",
              "  HeaderItem(mnemonic=BHT, unit=DEGF, value=203, descr=Bottom Hole Temperature),\n",
              "  HeaderItem(mnemonic=TSC, unit=, value=7 HOURS, descr=Time Since Circulation),\n",
              "  HeaderItem(mnemonic=MRT, unit=DEGF, value=203, descr=Maximum Recorded Temper...),\n",
              "  HeaderItem(mnemonic=LUN, unit=, value=HL-6559, descr=Logging Unit Number),\n",
              "  HeaderItem(mnemonic=LUL, unit=, value=RK. SPRINGS, descr=Logging Unit Location),\n",
              "  HeaderItem(mnemonic=ENGI, unit=, value=WARRINGTON, descr=Engineer's Name),\n",
              "  HeaderItem(mnemonic=WITN, unit=, value=ODUM / BERGMAN, descr=Witness' Name),\n",
              "  HeaderItem(mnemonic=TSTR, unit=, value=HDIL/, descr=N/A),\n",
              "  HeaderItem(mnemonic=TSTG, unit=, value=NA, descr=N/A),\n",
              "  HeaderItem(mnemonic=STUS, unit=, value=FINAL, descr=N/A),\n",
              "  HeaderItem(mnemonic=LCNM, unit=, value=BAKER ATLAS, descr=N/A),\n",
              "  HeaderItem(mnemonic=LCC, unit=, value=150, descr=Logging Company Code),\n",
              "  HeaderItem(mnemonic=NATI, unit=, value=CARBON, descr=Nation),\n",
              "  HeaderItem(mnemonic=OPMD, unit=, value=OH.WIRE, descr=N/A),\n",
              "  HeaderItem(mnemonic=PANA, unit=, value=WARRINGTON, descr=N/A),\n",
              "  HeaderItem(mnemonic=PCON, unit=, value=BAKER ATLAS, descr=N/A)],\n",
              " 'Version': [HeaderItem(mnemonic=VERS, unit=, value=2.0, descr=CWLS log ASCII Standard -V...),\n",
              "  HeaderItem(mnemonic=WRAP, unit=, value=NO, descr=One line per frame)],\n",
              " 'Well': [HeaderItem(mnemonic=STRT, unit=FT, value=0.0, descr=Starting Depth),\n",
              "  HeaderItem(mnemonic=STOP, unit=FT, value=9827.0, descr=Ending Depth),\n",
              "  HeaderItem(mnemonic=STEP, unit=FT, value=0.5, descr=Level Spacing),\n",
              "  HeaderItem(mnemonic=NULL, unit=, value=-999.25, descr=Absent Value),\n",
              "  HeaderItem(mnemonic=COMP, unit=, value=ANADARKO PETROLEUM CORPORATION, descr...),\n",
              "  HeaderItem(mnemonic=WELL, unit=, value=ECHO SPRINGS STATE 5-16, descr=Well),\n",
              "  HeaderItem(mnemonic=FLD, unit=, value=ECHO SPRINGS, descr=Field),\n",
              "  HeaderItem(mnemonic=LOC, unit=, value=2640' FNL & 2640' FEL, descr=Location),\n",
              "  HeaderItem(mnemonic=CNTY, unit=, value=CARBON, descr=County),\n",
              "  HeaderItem(mnemonic=STAT, unit=, value=WYOMING, descr=State),\n",
              "  HeaderItem(mnemonic=SRVC, unit=, value=Baker Atlas, descr=Service Company),\n",
              "  HeaderItem(mnemonic=DATE, unit=, value=25-Jul-2003, descr=Log Date),\n",
              "  HeaderItem(mnemonic=API, unit=, value=49-007-22364, descr=API Number),\n",
              "  HeaderItem(mnemonic=UWI, unit=, value=490072236400, descr=Unique Well ID)]}"
            ]
          },
          "metadata": {
            "tags": []
          },
          "execution_count": 9
        }
      ]
    },
    {
      "cell_type": "code",
      "metadata": {
        "id": "CZcAk7D-nWId",
        "colab_type": "code",
        "colab": {
          "base_uri": "https://localhost:8080/",
          "height": 255
        },
        "outputId": "a42f78ba-87b3-457a-a3e1-543a303b7201"
      },
      "source": [
        "l.header['Well']"
      ],
      "execution_count": 10,
      "outputs": [
        {
          "output_type": "execute_result",
          "data": {
            "text/plain": [
              "[HeaderItem(mnemonic=STRT, unit=FT, value=0.0, descr=Starting Depth),\n",
              " HeaderItem(mnemonic=STOP, unit=FT, value=9827.0, descr=Ending Depth),\n",
              " HeaderItem(mnemonic=STEP, unit=FT, value=0.5, descr=Level Spacing),\n",
              " HeaderItem(mnemonic=NULL, unit=, value=-999.25, descr=Absent Value),\n",
              " HeaderItem(mnemonic=COMP, unit=, value=ANADARKO PETROLEUM CORPORATION, descr...),\n",
              " HeaderItem(mnemonic=WELL, unit=, value=ECHO SPRINGS STATE 5-16, descr=Well),\n",
              " HeaderItem(mnemonic=FLD, unit=, value=ECHO SPRINGS, descr=Field),\n",
              " HeaderItem(mnemonic=LOC, unit=, value=2640' FNL & 2640' FEL, descr=Location),\n",
              " HeaderItem(mnemonic=CNTY, unit=, value=CARBON, descr=County),\n",
              " HeaderItem(mnemonic=STAT, unit=, value=WYOMING, descr=State),\n",
              " HeaderItem(mnemonic=SRVC, unit=, value=Baker Atlas, descr=Service Company),\n",
              " HeaderItem(mnemonic=DATE, unit=, value=25-Jul-2003, descr=Log Date),\n",
              " HeaderItem(mnemonic=API, unit=, value=49-007-22364, descr=API Number),\n",
              " HeaderItem(mnemonic=UWI, unit=, value=490072236400, descr=Unique Well ID)]"
            ]
          },
          "metadata": {
            "tags": []
          },
          "execution_count": 10
        }
      ]
    },
    {
      "cell_type": "markdown",
      "metadata": {
        "id": "fSWVe8xFrjl_",
        "colab_type": "text"
      },
      "source": [
        "Let's just get the company name from the header"
      ]
    },
    {
      "cell_type": "code",
      "metadata": {
        "id": "UW4ZEI3aoFI5",
        "colab_type": "code",
        "colab": {
          "base_uri": "https://localhost:8080/",
          "height": 34
        },
        "outputId": "918c1b47-096d-4db2-d681-8484e92ac5bc"
      },
      "source": [
        "l.header['Well'].comp.value"
      ],
      "execution_count": 11,
      "outputs": [
        {
          "output_type": "execute_result",
          "data": {
            "text/plain": [
              "'ANADARKO PETROLEUM CORPORATION'"
            ]
          },
          "metadata": {
            "tags": []
          },
          "execution_count": 11
        }
      ]
    },
    {
      "cell_type": "markdown",
      "metadata": {
        "id": "NoPKeqA9sZg4",
        "colab_type": "text"
      },
      "source": [
        "Or if we really wanted to know what the las version is"
      ]
    },
    {
      "cell_type": "code",
      "metadata": {
        "id": "wuQwmxTgreBP",
        "colab_type": "code",
        "colab": {
          "base_uri": "https://localhost:8080/",
          "height": 34
        },
        "outputId": "287af667-2477-4afc-e956-084cb7bf502b"
      },
      "source": [
        "l.version['VERS'].value"
      ],
      "execution_count": 12,
      "outputs": [
        {
          "output_type": "execute_result",
          "data": {
            "text/plain": [
              "2.0"
            ]
          },
          "metadata": {
            "tags": []
          },
          "execution_count": 12
        }
      ]
    },
    {
      "cell_type": "markdown",
      "metadata": {
        "id": "Hz1ciyd4sujl",
        "colab_type": "text"
      },
      "source": [
        "Feel free to experiment in the next block"
      ]
    },
    {
      "cell_type": "code",
      "metadata": {
        "id": "9eaxOadmsUUi",
        "colab_type": "code",
        "colab": {}
      },
      "source": [
        ""
      ],
      "execution_count": 0,
      "outputs": []
    },
    {
      "cell_type": "markdown",
      "metadata": {
        "id": "r80ZCjB6sicR",
        "colab_type": "text"
      },
      "source": [
        "# Making a pandas dataframe"
      ]
    },
    {
      "cell_type": "markdown",
      "metadata": {
        "id": "fKhpFrTKsoFi",
        "colab_type": "text"
      },
      "source": [
        "When I am working with a single well, this is the first step in my workflow."
      ]
    },
    {
      "cell_type": "code",
      "metadata": {
        "id": "-VE3O_3xsnYK",
        "colab_type": "code",
        "colab": {}
      },
      "source": [
        "df = l.df()"
      ],
      "execution_count": 0,
      "outputs": []
    },
    {
      "cell_type": "markdown",
      "metadata": {
        "id": "14BZVG7ctDgf",
        "colab_type": "text"
      },
      "source": [
        "Magic!"
      ]
    },
    {
      "cell_type": "code",
      "metadata": {
        "id": "e_hXBgiOsl5C",
        "colab_type": "code",
        "colab": {
          "base_uri": "https://localhost:8080/",
          "height": 173
        },
        "outputId": "5d133c88-66ef-41e8-d92e-b80c8b16d0cf"
      },
      "source": [
        "df.head(3)"
      ],
      "execution_count": 14,
      "outputs": [
        {
          "output_type": "execute_result",
          "data": {
            "text/html": [
              "<div>\n",
              "<style scoped>\n",
              "    .dataframe tbody tr th:only-of-type {\n",
              "        vertical-align: middle;\n",
              "    }\n",
              "\n",
              "    .dataframe tbody tr th {\n",
              "        vertical-align: top;\n",
              "    }\n",
              "\n",
              "    .dataframe thead th {\n",
              "        text-align: right;\n",
              "    }\n",
              "</style>\n",
              "<table border=\"1\" class=\"dataframe\">\n",
              "  <thead>\n",
              "    <tr style=\"text-align: right;\">\n",
              "      <th></th>\n",
              "      <th>CAL</th>\n",
              "      <th>GR</th>\n",
              "      <th>M2R1</th>\n",
              "      <th>M2R2</th>\n",
              "      <th>M2R3</th>\n",
              "      <th>M2R6</th>\n",
              "      <th>M2R9</th>\n",
              "      <th>M2RX</th>\n",
              "      <th>PE</th>\n",
              "      <th>PORZ</th>\n",
              "      <th>SP</th>\n",
              "      <th>TEN</th>\n",
              "      <th>ZDEN</th>\n",
              "      <th>ZCOR</th>\n",
              "    </tr>\n",
              "    <tr>\n",
              "      <th>DEPT</th>\n",
              "      <th></th>\n",
              "      <th></th>\n",
              "      <th></th>\n",
              "      <th></th>\n",
              "      <th></th>\n",
              "      <th></th>\n",
              "      <th></th>\n",
              "      <th></th>\n",
              "      <th></th>\n",
              "      <th></th>\n",
              "      <th></th>\n",
              "      <th></th>\n",
              "      <th></th>\n",
              "      <th></th>\n",
              "    </tr>\n",
              "  </thead>\n",
              "  <tbody>\n",
              "    <tr>\n",
              "      <th>0.0</th>\n",
              "      <td>NaN</td>\n",
              "      <td>NaN</td>\n",
              "      <td>NaN</td>\n",
              "      <td>NaN</td>\n",
              "      <td>NaN</td>\n",
              "      <td>NaN</td>\n",
              "      <td>NaN</td>\n",
              "      <td>NaN</td>\n",
              "      <td>NaN</td>\n",
              "      <td>NaN</td>\n",
              "      <td>NaN</td>\n",
              "      <td>NaN</td>\n",
              "      <td>NaN</td>\n",
              "      <td>NaN</td>\n",
              "    </tr>\n",
              "    <tr>\n",
              "      <th>0.5</th>\n",
              "      <td>NaN</td>\n",
              "      <td>NaN</td>\n",
              "      <td>NaN</td>\n",
              "      <td>NaN</td>\n",
              "      <td>NaN</td>\n",
              "      <td>NaN</td>\n",
              "      <td>NaN</td>\n",
              "      <td>NaN</td>\n",
              "      <td>NaN</td>\n",
              "      <td>NaN</td>\n",
              "      <td>NaN</td>\n",
              "      <td>NaN</td>\n",
              "      <td>NaN</td>\n",
              "      <td>NaN</td>\n",
              "    </tr>\n",
              "    <tr>\n",
              "      <th>1.0</th>\n",
              "      <td>NaN</td>\n",
              "      <td>NaN</td>\n",
              "      <td>NaN</td>\n",
              "      <td>NaN</td>\n",
              "      <td>NaN</td>\n",
              "      <td>NaN</td>\n",
              "      <td>NaN</td>\n",
              "      <td>NaN</td>\n",
              "      <td>NaN</td>\n",
              "      <td>NaN</td>\n",
              "      <td>NaN</td>\n",
              "      <td>NaN</td>\n",
              "      <td>NaN</td>\n",
              "      <td>NaN</td>\n",
              "    </tr>\n",
              "  </tbody>\n",
              "</table>\n",
              "</div>"
            ],
            "text/plain": [
              "      CAL  GR  M2R1  M2R2  M2R3  M2R6  ...  PE  PORZ  SP  TEN  ZDEN  ZCOR\n",
              "DEPT                                   ...                               \n",
              "0.0   NaN NaN   NaN   NaN   NaN   NaN  ... NaN   NaN NaN  NaN   NaN   NaN\n",
              "0.5   NaN NaN   NaN   NaN   NaN   NaN  ... NaN   NaN NaN  NaN   NaN   NaN\n",
              "1.0   NaN NaN   NaN   NaN   NaN   NaN  ... NaN   NaN NaN  NaN   NaN   NaN\n",
              "\n",
              "[3 rows x 14 columns]"
            ]
          },
          "metadata": {
            "tags": []
          },
          "execution_count": 14
        }
      ]
    },
    {
      "cell_type": "markdown",
      "metadata": {
        "id": "_D0ZLpiDtrke",
        "colab_type": "text"
      },
      "source": [
        "Let's just double check the depth units, and spacing"
      ]
    },
    {
      "cell_type": "code",
      "metadata": {
        "id": "U_Ni4VTvtHQQ",
        "colab_type": "code",
        "colab": {
          "base_uri": "https://localhost:8080/",
          "height": 34
        },
        "outputId": "4b17d1da-b550-4f54-a20e-686ac6b5bf41"
      },
      "source": [
        "l.header['Well'].step"
      ],
      "execution_count": 15,
      "outputs": [
        {
          "output_type": "execute_result",
          "data": {
            "text/plain": [
              "HeaderItem(mnemonic=STEP, unit=FT, value=0.5, descr=Level Spacing)"
            ]
          },
          "metadata": {
            "tags": []
          },
          "execution_count": 15
        }
      ]
    },
    {
      "cell_type": "markdown",
      "metadata": {
        "id": "qBMO6WO8uhqQ",
        "colab_type": "text"
      },
      "source": [
        "One thing I like to do when working with well logs is reset the index, so the depth information is just another curve. This is a style choice! Not necessary. "
      ]
    },
    {
      "cell_type": "code",
      "metadata": {
        "id": "Q_TJkUhJtSLW",
        "colab_type": "code",
        "colab": {
          "base_uri": "https://localhost:8080/",
          "height": 142
        },
        "outputId": "2cbf4661-6d7f-44bc-ecd1-5d7d17f893df"
      },
      "source": [
        "df = df.reset_index()\n",
        "df.head(3)"
      ],
      "execution_count": 16,
      "outputs": [
        {
          "output_type": "execute_result",
          "data": {
            "text/html": [
              "<div>\n",
              "<style scoped>\n",
              "    .dataframe tbody tr th:only-of-type {\n",
              "        vertical-align: middle;\n",
              "    }\n",
              "\n",
              "    .dataframe tbody tr th {\n",
              "        vertical-align: top;\n",
              "    }\n",
              "\n",
              "    .dataframe thead th {\n",
              "        text-align: right;\n",
              "    }\n",
              "</style>\n",
              "<table border=\"1\" class=\"dataframe\">\n",
              "  <thead>\n",
              "    <tr style=\"text-align: right;\">\n",
              "      <th></th>\n",
              "      <th>DEPT</th>\n",
              "      <th>CAL</th>\n",
              "      <th>GR</th>\n",
              "      <th>M2R1</th>\n",
              "      <th>M2R2</th>\n",
              "      <th>M2R3</th>\n",
              "      <th>M2R6</th>\n",
              "      <th>M2R9</th>\n",
              "      <th>M2RX</th>\n",
              "      <th>PE</th>\n",
              "      <th>PORZ</th>\n",
              "      <th>SP</th>\n",
              "      <th>TEN</th>\n",
              "      <th>ZDEN</th>\n",
              "      <th>ZCOR</th>\n",
              "    </tr>\n",
              "  </thead>\n",
              "  <tbody>\n",
              "    <tr>\n",
              "      <th>0</th>\n",
              "      <td>0.0</td>\n",
              "      <td>NaN</td>\n",
              "      <td>NaN</td>\n",
              "      <td>NaN</td>\n",
              "      <td>NaN</td>\n",
              "      <td>NaN</td>\n",
              "      <td>NaN</td>\n",
              "      <td>NaN</td>\n",
              "      <td>NaN</td>\n",
              "      <td>NaN</td>\n",
              "      <td>NaN</td>\n",
              "      <td>NaN</td>\n",
              "      <td>NaN</td>\n",
              "      <td>NaN</td>\n",
              "      <td>NaN</td>\n",
              "    </tr>\n",
              "    <tr>\n",
              "      <th>1</th>\n",
              "      <td>0.5</td>\n",
              "      <td>NaN</td>\n",
              "      <td>NaN</td>\n",
              "      <td>NaN</td>\n",
              "      <td>NaN</td>\n",
              "      <td>NaN</td>\n",
              "      <td>NaN</td>\n",
              "      <td>NaN</td>\n",
              "      <td>NaN</td>\n",
              "      <td>NaN</td>\n",
              "      <td>NaN</td>\n",
              "      <td>NaN</td>\n",
              "      <td>NaN</td>\n",
              "      <td>NaN</td>\n",
              "      <td>NaN</td>\n",
              "    </tr>\n",
              "    <tr>\n",
              "      <th>2</th>\n",
              "      <td>1.0</td>\n",
              "      <td>NaN</td>\n",
              "      <td>NaN</td>\n",
              "      <td>NaN</td>\n",
              "      <td>NaN</td>\n",
              "      <td>NaN</td>\n",
              "      <td>NaN</td>\n",
              "      <td>NaN</td>\n",
              "      <td>NaN</td>\n",
              "      <td>NaN</td>\n",
              "      <td>NaN</td>\n",
              "      <td>NaN</td>\n",
              "      <td>NaN</td>\n",
              "      <td>NaN</td>\n",
              "      <td>NaN</td>\n",
              "    </tr>\n",
              "  </tbody>\n",
              "</table>\n",
              "</div>"
            ],
            "text/plain": [
              "   DEPT  CAL  GR  M2R1  M2R2  M2R3  M2R6  ...  M2RX  PE  PORZ  SP  TEN  ZDEN  ZCOR\n",
              "0   0.0  NaN NaN   NaN   NaN   NaN   NaN  ...   NaN NaN   NaN NaN  NaN   NaN   NaN\n",
              "1   0.5  NaN NaN   NaN   NaN   NaN   NaN  ...   NaN NaN   NaN NaN  NaN   NaN   NaN\n",
              "2   1.0  NaN NaN   NaN   NaN   NaN   NaN  ...   NaN NaN   NaN NaN  NaN   NaN   NaN\n",
              "\n",
              "[3 rows x 15 columns]"
            ]
          },
          "metadata": {
            "tags": []
          },
          "execution_count": 16
        }
      ]
    },
    {
      "cell_type": "markdown",
      "metadata": {
        "id": "1kzZPWouvDal",
        "colab_type": "text"
      },
      "source": [
        "### Exporting a dataframe as a csv"
      ]
    },
    {
      "cell_type": "markdown",
      "metadata": {
        "id": "TBF3_hVIvdUp",
        "colab_type": "text"
      },
      "source": [
        "If you want to expore the curves to a .csv file, to use in spotfire, excel <gasp!> or any other program that is looking for that you can do it in a single line of code. We can use the header tools to name it as the UWI value, instead of writing it out, or hard coding it."
      ]
    },
    {
      "cell_type": "code",
      "metadata": {
        "id": "ht8dSMVvtye3",
        "colab_type": "code",
        "colab": {}
      },
      "source": [
        "df.to_csv(l.header['Well'].UWI.value + '.csv')"
      ],
      "execution_count": 0,
      "outputs": []
    },
    {
      "cell_type": "markdown",
      "metadata": {
        "id": "fFNSxLVEw2c7",
        "colab_type": "text"
      },
      "source": [
        "I can't emphasize enough that you can read in a .las file, make a dataframe, and export it as a csv in three lines of code. People have spent hours of there life cut and pasting this information. Let's not do that."
      ]
    },
    {
      "cell_type": "markdown",
      "metadata": {
        "id": "N0RNdY7pxHyz",
        "colab_type": "text"
      },
      "source": [
        "# Exploring the dataframe"
      ]
    },
    {
      "cell_type": "markdown",
      "metadata": {
        "id": "oMeDZETLxTJv",
        "colab_type": "text"
      },
      "source": [
        "To find the TD of the well, there is two ways, one is to get the max in the DEPT curve:"
      ]
    },
    {
      "cell_type": "code",
      "metadata": {
        "id": "khCwb6rvvovJ",
        "colab_type": "code",
        "colab": {
          "base_uri": "https://localhost:8080/",
          "height": 34
        },
        "outputId": "be5c9f7f-87fa-4650-cdbf-dd6143e86637"
      },
      "source": [
        "df.DEPT.max()"
      ],
      "execution_count": 18,
      "outputs": [
        {
          "output_type": "execute_result",
          "data": {
            "text/plain": [
              "9827.0"
            ]
          },
          "metadata": {
            "tags": []
          },
          "execution_count": 18
        }
      ]
    },
    {
      "cell_type": "code",
      "metadata": {
        "id": "Dn156HfJxPlL",
        "colab_type": "code",
        "colab": {
          "base_uri": "https://localhost:8080/",
          "height": 34
        },
        "outputId": "3aa52745-5120-49c8-cac7-56fa3a8c7421"
      },
      "source": [
        "l.header['Well'].stop.value"
      ],
      "execution_count": 19,
      "outputs": [
        {
          "output_type": "execute_result",
          "data": {
            "text/plain": [
              "9827.0"
            ]
          },
          "metadata": {
            "tags": []
          },
          "execution_count": 19
        }
      ]
    },
    {
      "cell_type": "code",
      "metadata": {
        "id": "1r1zI98sxdNJ",
        "colab_type": "code",
        "colab": {
          "base_uri": "https://localhost:8080/",
          "height": 34
        },
        "outputId": "42f4f4cb-cda5-4c2c-ac1f-5ba56caed5a6"
      },
      "source": [
        "l.header['Well'].stop.value == df.DEPT.max()"
      ],
      "execution_count": 20,
      "outputs": [
        {
          "output_type": "execute_result",
          "data": {
            "text/plain": [
              "True"
            ]
          },
          "metadata": {
            "tags": []
          },
          "execution_count": 20
        }
      ]
    },
    {
      "cell_type": "markdown",
      "metadata": {
        "id": "v8Gd0YkUyOId",
        "colab_type": "text"
      },
      "source": [
        "### Making Changes to the dataframe"
      ]
    },
    {
      "cell_type": "markdown",
      "metadata": {
        "id": "BBiFXH7xy18v",
        "colab_type": "text"
      },
      "source": [
        "If you want to get a feel for the numbers, df.describe() is a great way to do that."
      ]
    },
    {
      "cell_type": "code",
      "metadata": {
        "id": "4tD0qC8YynhK",
        "colab_type": "code",
        "colab": {
          "base_uri": "https://localhost:8080/",
          "height": 317
        },
        "outputId": "f0eeb133-20ef-4628-9277-9c738f8e2cf0"
      },
      "source": [
        "df.describe()"
      ],
      "execution_count": 21,
      "outputs": [
        {
          "output_type": "execute_result",
          "data": {
            "text/html": [
              "<div>\n",
              "<style scoped>\n",
              "    .dataframe tbody tr th:only-of-type {\n",
              "        vertical-align: middle;\n",
              "    }\n",
              "\n",
              "    .dataframe tbody tr th {\n",
              "        vertical-align: top;\n",
              "    }\n",
              "\n",
              "    .dataframe thead th {\n",
              "        text-align: right;\n",
              "    }\n",
              "</style>\n",
              "<table border=\"1\" class=\"dataframe\">\n",
              "  <thead>\n",
              "    <tr style=\"text-align: right;\">\n",
              "      <th></th>\n",
              "      <th>DEPT</th>\n",
              "      <th>CAL</th>\n",
              "      <th>GR</th>\n",
              "      <th>M2R1</th>\n",
              "      <th>M2R2</th>\n",
              "      <th>M2R3</th>\n",
              "      <th>M2R6</th>\n",
              "      <th>M2R9</th>\n",
              "      <th>M2RX</th>\n",
              "      <th>PE</th>\n",
              "      <th>PORZ</th>\n",
              "      <th>SP</th>\n",
              "      <th>TEN</th>\n",
              "      <th>ZDEN</th>\n",
              "      <th>ZCOR</th>\n",
              "    </tr>\n",
              "  </thead>\n",
              "  <tbody>\n",
              "    <tr>\n",
              "      <th>count</th>\n",
              "      <td>19655.000000</td>\n",
              "      <td>16742.000000</td>\n",
              "      <td>19453.000000</td>\n",
              "      <td>16588.000000</td>\n",
              "      <td>16588.000000</td>\n",
              "      <td>16588.000000</td>\n",
              "      <td>16588.000000</td>\n",
              "      <td>16588.000000</td>\n",
              "      <td>16588.000000</td>\n",
              "      <td>7088.000000</td>\n",
              "      <td>7088.000000</td>\n",
              "      <td>16762.000000</td>\n",
              "      <td>19455.000000</td>\n",
              "      <td>7088.000000</td>\n",
              "      <td>7088.000000</td>\n",
              "    </tr>\n",
              "    <tr>\n",
              "      <th>mean</th>\n",
              "      <td>4913.500000</td>\n",
              "      <td>8.843152</td>\n",
              "      <td>79.716293</td>\n",
              "      <td>16.249748</td>\n",
              "      <td>22.426395</td>\n",
              "      <td>22.198793</td>\n",
              "      <td>23.922825</td>\n",
              "      <td>25.314096</td>\n",
              "      <td>27.449584</td>\n",
              "      <td>3.242002</td>\n",
              "      <td>5.320002</td>\n",
              "      <td>-14.716254</td>\n",
              "      <td>-44.998910</td>\n",
              "      <td>2.562225</td>\n",
              "      <td>0.041227</td>\n",
              "    </tr>\n",
              "    <tr>\n",
              "      <th>std</th>\n",
              "      <td>2837.027053</td>\n",
              "      <td>1.153433</td>\n",
              "      <td>28.011925</td>\n",
              "      <td>38.372252</td>\n",
              "      <td>130.286424</td>\n",
              "      <td>45.122608</td>\n",
              "      <td>45.240798</td>\n",
              "      <td>47.945826</td>\n",
              "      <td>53.203824</td>\n",
              "      <td>0.857975</td>\n",
              "      <td>10.469223</td>\n",
              "      <td>121.297648</td>\n",
              "      <td>72.961112</td>\n",
              "      <td>0.172742</td>\n",
              "      <td>0.033418</td>\n",
              "    </tr>\n",
              "    <tr>\n",
              "      <th>min</th>\n",
              "      <td>0.000000</td>\n",
              "      <td>6.610000</td>\n",
              "      <td>10.782000</td>\n",
              "      <td>1.711000</td>\n",
              "      <td>2.315000</td>\n",
              "      <td>2.794000</td>\n",
              "      <td>3.279000</td>\n",
              "      <td>3.209000</td>\n",
              "      <td>3.192000</td>\n",
              "      <td>1.131000</td>\n",
              "      <td>-13.983000</td>\n",
              "      <td>-99.478000</td>\n",
              "      <td>-384.456000</td>\n",
              "      <td>1.106000</td>\n",
              "      <td>-0.213000</td>\n",
              "    </tr>\n",
              "    <tr>\n",
              "      <th>25%</th>\n",
              "      <td>2456.750000</td>\n",
              "      <td>8.248000</td>\n",
              "      <td>57.008000</td>\n",
              "      <td>8.241000</td>\n",
              "      <td>8.750000</td>\n",
              "      <td>8.982500</td>\n",
              "      <td>9.168500</td>\n",
              "      <td>9.241000</td>\n",
              "      <td>9.320250</td>\n",
              "      <td>2.846000</td>\n",
              "      <td>0.747750</td>\n",
              "      <td>-43.487750</td>\n",
              "      <td>-85.449500</td>\n",
              "      <td>2.546000</td>\n",
              "      <td>0.024000</td>\n",
              "    </tr>\n",
              "    <tr>\n",
              "      <th>50%</th>\n",
              "      <td>4913.500000</td>\n",
              "      <td>8.500000</td>\n",
              "      <td>77.761000</td>\n",
              "      <td>14.695500</td>\n",
              "      <td>16.302500</td>\n",
              "      <td>17.218000</td>\n",
              "      <td>17.887500</td>\n",
              "      <td>18.149000</td>\n",
              "      <td>18.651500</td>\n",
              "      <td>3.160000</td>\n",
              "      <td>2.634500</td>\n",
              "      <td>-28.417000</td>\n",
              "      <td>-56.915000</td>\n",
              "      <td>2.607000</td>\n",
              "      <td>0.037000</td>\n",
              "    </tr>\n",
              "    <tr>\n",
              "      <th>75%</th>\n",
              "      <td>7370.250000</td>\n",
              "      <td>9.131000</td>\n",
              "      <td>102.498000</td>\n",
              "      <td>19.331000</td>\n",
              "      <td>23.567250</td>\n",
              "      <td>26.592000</td>\n",
              "      <td>30.074500</td>\n",
              "      <td>32.452000</td>\n",
              "      <td>35.430250</td>\n",
              "      <td>3.472250</td>\n",
              "      <td>6.318000</td>\n",
              "      <td>-3.962000</td>\n",
              "      <td>-16.672500</td>\n",
              "      <td>2.638000</td>\n",
              "      <td>0.057000</td>\n",
              "    </tr>\n",
              "    <tr>\n",
              "      <th>max</th>\n",
              "      <td>9827.000000</td>\n",
              "      <td>20.164000</td>\n",
              "      <td>227.041000</td>\n",
              "      <td>3384.819000</td>\n",
              "      <td>10000.000000</td>\n",
              "      <td>1677.046000</td>\n",
              "      <td>1737.795000</td>\n",
              "      <td>1802.382000</td>\n",
              "      <td>1866.549000</td>\n",
              "      <td>8.668000</td>\n",
              "      <td>93.586000</td>\n",
              "      <td>1177.651000</td>\n",
              "      <td>1509.193000</td>\n",
              "      <td>2.881000</td>\n",
              "      <td>0.241000</td>\n",
              "    </tr>\n",
              "  </tbody>\n",
              "</table>\n",
              "</div>"
            ],
            "text/plain": [
              "               DEPT           CAL  ...         ZDEN         ZCOR\n",
              "count  19655.000000  16742.000000  ...  7088.000000  7088.000000\n",
              "mean    4913.500000      8.843152  ...     2.562225     0.041227\n",
              "std     2837.027053      1.153433  ...     0.172742     0.033418\n",
              "min        0.000000      6.610000  ...     1.106000    -0.213000\n",
              "25%     2456.750000      8.248000  ...     2.546000     0.024000\n",
              "50%     4913.500000      8.500000  ...     2.607000     0.037000\n",
              "75%     7370.250000      9.131000  ...     2.638000     0.057000\n",
              "max     9827.000000     20.164000  ...     2.881000     0.241000\n",
              "\n",
              "[8 rows x 15 columns]"
            ]
          },
          "metadata": {
            "tags": []
          },
          "execution_count": 21
        }
      ]
    },
    {
      "cell_type": "markdown",
      "metadata": {
        "id": "Ld2HirjfyWGw",
        "colab_type": "text"
      },
      "source": [
        "For our study, lets subtract out the minimum from the GR curve"
      ]
    },
    {
      "cell_type": "code",
      "metadata": {
        "id": "uLX6rcORyJ1S",
        "colab_type": "code",
        "colab": {
          "base_uri": "https://localhost:8080/",
          "height": 34
        },
        "outputId": "122657ae-acaa-4e56-8a5a-4c02000486c6"
      },
      "source": [
        "df.GR.min()"
      ],
      "execution_count": 22,
      "outputs": [
        {
          "output_type": "execute_result",
          "data": {
            "text/plain": [
              "10.782"
            ]
          },
          "metadata": {
            "tags": []
          },
          "execution_count": 22
        }
      ]
    },
    {
      "cell_type": "code",
      "metadata": {
        "id": "BupqRo3myimD",
        "colab_type": "code",
        "colab": {}
      },
      "source": [
        "df.GR = df.GR.values-df.GR.min()"
      ],
      "execution_count": 0,
      "outputs": []
    },
    {
      "cell_type": "markdown",
      "metadata": {
        "id": "VDkB0YEoz6JE",
        "colab_type": "text"
      },
      "source": [
        "Let's check that it's zero"
      ]
    },
    {
      "cell_type": "code",
      "metadata": {
        "id": "PuGhCM8Dz01q",
        "colab_type": "code",
        "colab": {
          "base_uri": "https://localhost:8080/",
          "height": 34
        },
        "outputId": "4b60c29d-9495-4405-ee2a-01671f4037d5"
      },
      "source": [
        "df.GR.min()"
      ],
      "execution_count": 24,
      "outputs": [
        {
          "output_type": "execute_result",
          "data": {
            "text/plain": [
              "0.0"
            ]
          },
          "metadata": {
            "tags": []
          },
          "execution_count": 24
        }
      ]
    },
    {
      "cell_type": "markdown",
      "metadata": {
        "id": "TBn7Iw5f0Cl4",
        "colab_type": "text"
      },
      "source": [
        "Nice! For my secret new play, a new curve needs to be calculated. It is Gamma times PE. This makes zero physical sense, but just doing it as an example. "
      ]
    },
    {
      "cell_type": "code",
      "metadata": {
        "id": "jrnRsDNHz4ta",
        "colab_type": "code",
        "colab": {}
      },
      "source": [
        "df['GRxPE'] = df.GR.values*df.PE.values"
      ],
      "execution_count": 0,
      "outputs": []
    },
    {
      "cell_type": "code",
      "metadata": {
        "id": "oBpPPaw00u4g",
        "colab_type": "code",
        "colab": {
          "base_uri": "https://localhost:8080/",
          "height": 317
        },
        "outputId": "efa6cb0c-2bf0-47da-fc99-8de284091034"
      },
      "source": [
        "df.describe()"
      ],
      "execution_count": 26,
      "outputs": [
        {
          "output_type": "execute_result",
          "data": {
            "text/html": [
              "<div>\n",
              "<style scoped>\n",
              "    .dataframe tbody tr th:only-of-type {\n",
              "        vertical-align: middle;\n",
              "    }\n",
              "\n",
              "    .dataframe tbody tr th {\n",
              "        vertical-align: top;\n",
              "    }\n",
              "\n",
              "    .dataframe thead th {\n",
              "        text-align: right;\n",
              "    }\n",
              "</style>\n",
              "<table border=\"1\" class=\"dataframe\">\n",
              "  <thead>\n",
              "    <tr style=\"text-align: right;\">\n",
              "      <th></th>\n",
              "      <th>DEPT</th>\n",
              "      <th>CAL</th>\n",
              "      <th>GR</th>\n",
              "      <th>M2R1</th>\n",
              "      <th>M2R2</th>\n",
              "      <th>M2R3</th>\n",
              "      <th>M2R6</th>\n",
              "      <th>M2R9</th>\n",
              "      <th>M2RX</th>\n",
              "      <th>PE</th>\n",
              "      <th>PORZ</th>\n",
              "      <th>SP</th>\n",
              "      <th>TEN</th>\n",
              "      <th>ZDEN</th>\n",
              "      <th>ZCOR</th>\n",
              "      <th>GRxPE</th>\n",
              "    </tr>\n",
              "  </thead>\n",
              "  <tbody>\n",
              "    <tr>\n",
              "      <th>count</th>\n",
              "      <td>19655.000000</td>\n",
              "      <td>16742.000000</td>\n",
              "      <td>19453.000000</td>\n",
              "      <td>16588.000000</td>\n",
              "      <td>16588.000000</td>\n",
              "      <td>16588.000000</td>\n",
              "      <td>16588.000000</td>\n",
              "      <td>16588.000000</td>\n",
              "      <td>16588.000000</td>\n",
              "      <td>7088.000000</td>\n",
              "      <td>7088.000000</td>\n",
              "      <td>16762.000000</td>\n",
              "      <td>19455.000000</td>\n",
              "      <td>7088.000000</td>\n",
              "      <td>7088.000000</td>\n",
              "      <td>7030.000000</td>\n",
              "    </tr>\n",
              "    <tr>\n",
              "      <th>mean</th>\n",
              "      <td>4913.500000</td>\n",
              "      <td>8.843152</td>\n",
              "      <td>68.934293</td>\n",
              "      <td>16.249748</td>\n",
              "      <td>22.426395</td>\n",
              "      <td>22.198793</td>\n",
              "      <td>23.922825</td>\n",
              "      <td>25.314096</td>\n",
              "      <td>27.449584</td>\n",
              "      <td>3.242002</td>\n",
              "      <td>5.320002</td>\n",
              "      <td>-14.716254</td>\n",
              "      <td>-44.998910</td>\n",
              "      <td>2.562225</td>\n",
              "      <td>0.041227</td>\n",
              "      <td>282.366405</td>\n",
              "    </tr>\n",
              "    <tr>\n",
              "      <th>std</th>\n",
              "      <td>2837.027053</td>\n",
              "      <td>1.153433</td>\n",
              "      <td>28.011925</td>\n",
              "      <td>38.372252</td>\n",
              "      <td>130.286424</td>\n",
              "      <td>45.122608</td>\n",
              "      <td>45.240798</td>\n",
              "      <td>47.945826</td>\n",
              "      <td>53.203824</td>\n",
              "      <td>0.857975</td>\n",
              "      <td>10.469223</td>\n",
              "      <td>121.297648</td>\n",
              "      <td>72.961112</td>\n",
              "      <td>0.172742</td>\n",
              "      <td>0.033418</td>\n",
              "      <td>100.055455</td>\n",
              "    </tr>\n",
              "    <tr>\n",
              "      <th>min</th>\n",
              "      <td>0.000000</td>\n",
              "      <td>6.610000</td>\n",
              "      <td>0.000000</td>\n",
              "      <td>1.711000</td>\n",
              "      <td>2.315000</td>\n",
              "      <td>2.794000</td>\n",
              "      <td>3.279000</td>\n",
              "      <td>3.209000</td>\n",
              "      <td>3.192000</td>\n",
              "      <td>1.131000</td>\n",
              "      <td>-13.983000</td>\n",
              "      <td>-99.478000</td>\n",
              "      <td>-384.456000</td>\n",
              "      <td>1.106000</td>\n",
              "      <td>-0.213000</td>\n",
              "      <td>21.314135</td>\n",
              "    </tr>\n",
              "    <tr>\n",
              "      <th>25%</th>\n",
              "      <td>2456.750000</td>\n",
              "      <td>8.248000</td>\n",
              "      <td>46.226000</td>\n",
              "      <td>8.241000</td>\n",
              "      <td>8.750000</td>\n",
              "      <td>8.982500</td>\n",
              "      <td>9.168500</td>\n",
              "      <td>9.241000</td>\n",
              "      <td>9.320250</td>\n",
              "      <td>2.846000</td>\n",
              "      <td>0.747750</td>\n",
              "      <td>-43.487750</td>\n",
              "      <td>-85.449500</td>\n",
              "      <td>2.546000</td>\n",
              "      <td>0.024000</td>\n",
              "      <td>221.433579</td>\n",
              "    </tr>\n",
              "    <tr>\n",
              "      <th>50%</th>\n",
              "      <td>4913.500000</td>\n",
              "      <td>8.500000</td>\n",
              "      <td>66.979000</td>\n",
              "      <td>14.695500</td>\n",
              "      <td>16.302500</td>\n",
              "      <td>17.218000</td>\n",
              "      <td>17.887500</td>\n",
              "      <td>18.149000</td>\n",
              "      <td>18.651500</td>\n",
              "      <td>3.160000</td>\n",
              "      <td>2.634500</td>\n",
              "      <td>-28.417000</td>\n",
              "      <td>-56.915000</td>\n",
              "      <td>2.607000</td>\n",
              "      <td>0.037000</td>\n",
              "      <td>294.224598</td>\n",
              "    </tr>\n",
              "    <tr>\n",
              "      <th>75%</th>\n",
              "      <td>7370.250000</td>\n",
              "      <td>9.131000</td>\n",
              "      <td>91.716000</td>\n",
              "      <td>19.331000</td>\n",
              "      <td>23.567250</td>\n",
              "      <td>26.592000</td>\n",
              "      <td>30.074500</td>\n",
              "      <td>32.452000</td>\n",
              "      <td>35.430250</td>\n",
              "      <td>3.472250</td>\n",
              "      <td>6.318000</td>\n",
              "      <td>-3.962000</td>\n",
              "      <td>-16.672500</td>\n",
              "      <td>2.638000</td>\n",
              "      <td>0.057000</td>\n",
              "      <td>339.706864</td>\n",
              "    </tr>\n",
              "    <tr>\n",
              "      <th>max</th>\n",
              "      <td>9827.000000</td>\n",
              "      <td>20.164000</td>\n",
              "      <td>216.259000</td>\n",
              "      <td>3384.819000</td>\n",
              "      <td>10000.000000</td>\n",
              "      <td>1677.046000</td>\n",
              "      <td>1737.795000</td>\n",
              "      <td>1802.382000</td>\n",
              "      <td>1866.549000</td>\n",
              "      <td>8.668000</td>\n",
              "      <td>93.586000</td>\n",
              "      <td>1177.651000</td>\n",
              "      <td>1509.193000</td>\n",
              "      <td>2.881000</td>\n",
              "      <td>0.241000</td>\n",
              "      <td>717.208960</td>\n",
              "    </tr>\n",
              "  </tbody>\n",
              "</table>\n",
              "</div>"
            ],
            "text/plain": [
              "               DEPT           CAL  ...         ZCOR        GRxPE\n",
              "count  19655.000000  16742.000000  ...  7088.000000  7030.000000\n",
              "mean    4913.500000      8.843152  ...     0.041227   282.366405\n",
              "std     2837.027053      1.153433  ...     0.033418   100.055455\n",
              "min        0.000000      6.610000  ...    -0.213000    21.314135\n",
              "25%     2456.750000      8.248000  ...     0.024000   221.433579\n",
              "50%     4913.500000      8.500000  ...     0.037000   294.224598\n",
              "75%     7370.250000      9.131000  ...     0.057000   339.706864\n",
              "max     9827.000000     20.164000  ...     0.241000   717.208960\n",
              "\n",
              "[8 rows x 16 columns]"
            ]
          },
          "metadata": {
            "tags": []
          },
          "execution_count": 26
        }
      ]
    },
    {
      "cell_type": "markdown",
      "metadata": {
        "id": "LMJaNaQX1cDp",
        "colab_type": "text"
      },
      "source": [
        "# Quick plot using matplotlib"
      ]
    },
    {
      "cell_type": "markdown",
      "metadata": {
        "id": "7DE-h1ro2GT0",
        "colab_type": "text"
      },
      "source": [
        "Quick plot of the gamma curve"
      ]
    },
    {
      "cell_type": "code",
      "metadata": {
        "id": "s2j1PSu61e1p",
        "colab_type": "code",
        "colab": {
          "base_uri": "https://localhost:8080/",
          "height": 487
        },
        "outputId": "2d6b6633-1342-4e97-f2dc-4e96d213dbbd"
      },
      "source": [
        "plt.figure(figsize=(3,8))\n",
        "plt.plot(df.GR, df.DEPT, color='g')\n",
        "plt.ylim(10000,0) # flipping the depth\n",
        "plt.grid('TRUE')\n",
        "plt.ylabel('Depth in Feet', size=14)\n",
        "plt.show()"
      ],
      "execution_count": 27,
      "outputs": [
        {
          "output_type": "display_data",
          "data": {
            "image/png": "[encoded data removed]",
            "text/plain": [
              "<Figure size 216x576 with 1 Axes>"
            ]
          },
          "metadata": {
            "tags": [],
            "needs_background": "light"
          }
        }
      ]
    },
    {
      "cell_type": "markdown",
      "metadata": {
        "id": "tGI3PCz86Zei",
        "colab_type": "text"
      },
      "source": [
        "Curve is a little messy at this scale, lets pull in a Savitzky Golay Filter."
      ]
    },
    {
      "cell_type": "code",
      "metadata": {
        "id": "d4e5oEex1iBh",
        "colab_type": "code",
        "colab": {}
      },
      "source": [
        "from scipy.signal import savgol_filter\n",
        "yhat = savgol_filter(df.GR.values, 201, 3) # Window of 201, exponet of 3"
      ],
      "execution_count": 0,
      "outputs": []
    },
    {
      "cell_type": "code",
      "metadata": {
        "id": "aLY-nIzd6gmw",
        "colab_type": "code",
        "colab": {
          "base_uri": "https://localhost:8080/",
          "height": 487
        },
        "outputId": "d190747c-528a-407d-cefd-43a2b977d52a"
      },
      "source": [
        "plt.figure(figsize=(3,8))\n",
        "plt.plot(yhat,df.DEPT)\n",
        "plt.ylim(10000,0) # flipping the depth\n",
        "plt.grid('TRUE')\n",
        "plt.ylabel('Depth in Feet', size=14)\n",
        "plt.show()"
      ],
      "execution_count": 29,
      "outputs": [
        {
          "output_type": "display_data",
          "data": {
            "image/png": "[encoded data removed]",
            "text/plain": [
              "<Figure size 216x576 with 1 Axes>"
            ]
          },
          "metadata": {
            "tags": [],
            "needs_background": "light"
          }
        }
      ]
    },
    {
      "cell_type": "markdown",
      "metadata": {
        "id": "2QAyIk4t-VeX",
        "colab_type": "text"
      },
      "source": [
        "# Writing out a las with the new data"
      ]
    },
    {
      "cell_type": "markdown",
      "metadata": {
        "id": "p3O90Nlo-xvy",
        "colab_type": "text"
      },
      "source": [
        "We have made a new curve, the GRxPE magic. Let's add this to the well."
      ]
    },
    {
      "cell_type": "code",
      "metadata": {
        "id": "JpI3MouQ-aVg",
        "colab_type": "code",
        "colab": {
          "base_uri": "https://localhost:8080/",
          "height": 309
        },
        "outputId": "e818eb03-19ad-4465-a97d-2c5c4e5a3e9d"
      },
      "source": [
        "l.add_curve('GRxPE', df.GRxPE.values, unit='Magic')\n",
        "l.curves"
      ],
      "execution_count": 30,
      "outputs": [
        {
          "output_type": "execute_result",
          "data": {
            "text/plain": [
              "[CurveItem(mnemonic=DEPT, unit=FT, value=99 995 99  1, descr=Depth, original_mnemonic=DEPT, data.shape=(19655,)),\n",
              " CurveItem(mnemonic=CAL, unit=IN, value=70 280 99  1, descr=Caliper, original_mnemonic=CAL, data.shape=(19655,)),\n",
              " CurveItem(mnemonic=GR, unit=GAPI, value=30 310  1  1, descr=Gamma Ray counts, original_mnemonic=GR, data.shape=(19655,)),\n",
              " CurveItem(mnemonic=M2R1, unit=OHMM, value=99 995 99  1, descr=Vert resolution matched (2 ft) res - DOI 10 inch, original_mnemonic=M2R1, data.shape=(19655,)),\n",
              " CurveItem(mnemonic=M2R2, unit=OHMM, value=99 995 99  1, descr=Vert resolution matched (2 ft) res - DOI 20 inch, original_mnemonic=M2R2, data.shape=(19655,)),\n",
              " CurveItem(mnemonic=M2R3, unit=OHMM, value=99 995 99  1, descr=Vert resolution matched (2 ft) res - DOI 30 inch, original_mnemonic=M2R3, data.shape=(19655,)),\n",
              " CurveItem(mnemonic=M2R6, unit=OHMM, value=99 995 99  1, descr=Vert resolution matched (2 ft) res - DOI 60 inch, original_mnemonic=M2R6, data.shape=(19655,)),\n",
              " CurveItem(mnemonic=M2R9, unit=OHMM, value=99 995 99  1, descr=Vert resolution matched (2 ft) res - DOI 90 inch, original_mnemonic=M2R9, data.shape=(19655,)),\n",
              " CurveItem(mnemonic=M2RX, unit=OHMM, value=99 995 99  1, descr=Vert resolution matched (2 ft) res - DOI 120 inch, original_mnemonic=M2RX, data.shape=(19655,)),\n",
              " CurveItem(mnemonic=PE, unit=B/E, value=45 358  1  1, descr=Photo Electric Cross Section, original_mnemonic=PE, data.shape=(19655,)),\n",
              " CurveItem(mnemonic=PORZ, unit=PU, value=45 890 99  1, descr=Porosity from ZDEN or ZDNC, original_mnemonic=PORZ, data.shape=(19655,)),\n",
              " CurveItem(mnemonic=SP, unit=MV, value=1  10  1  1, descr=Spontaneous Potential, original_mnemonic=SP, data.shape=(19655,)),\n",
              " CurveItem(mnemonic=TEN, unit=LBF, value=99 635 99  1, descr=Differential Tension, original_mnemonic=TEN, data.shape=(19655,)),\n",
              " CurveItem(mnemonic=ZDEN, unit=G/C3, value=45 350  1  1, descr=ZDL Bulk Density, original_mnemonic=ZDEN, data.shape=(19655,)),\n",
              " CurveItem(mnemonic=ZCOR, unit=G/C3, value=45 356 99  1, descr=ZDL Correction, original_mnemonic=ZCOR, data.shape=(19655,)),\n",
              " CurveItem(mnemonic=GRxPE, unit=Magic, value=, descr=, original_mnemonic=GRxPE, data.shape=(19655,))]"
            ]
          },
          "metadata": {
            "tags": []
          },
          "execution_count": 30
        }
      ]
    },
    {
      "cell_type": "code",
      "metadata": {
        "id": "1KsXHquKAobR",
        "colab_type": "code",
        "colab": {}
      },
      "source": [
        "l.write('Transform2020_Rules.las', version=2.0)"
      ],
      "execution_count": 0,
      "outputs": []
    },
    {
      "cell_type": "code",
      "metadata": {
        "id": "bPcDeexQA_g4",
        "colab_type": "code",
        "colab": {
          "base_uri": "https://localhost:8080/",
          "height": 204
        },
        "outputId": "be32a374-0bf0-4909-8203-3501a42fdecc"
      },
      "source": [
        "ls # check that it was written out"
      ],
      "execution_count": 33,
      "outputs": [
        {
          "output_type": "stream",
          "text": [
            " 0_Intro_To_Using_Colab.ipynb\n",
            " 1_Pandas_Cleaning_Example_Geothermal.ipynb\n",
            " 2_Intro_to_Lasio.ipynb\n",
            " 4900722147_722147B.las\n",
            " 490072236400.csv\n",
            " 4900722364_722364A.las\n",
            " 4900722364A.las\n",
            "'B Romans - Intro.ipynb'\n",
            " clustering_TF2_GCP.ipynb\n",
            "'Copy of clustering_TEST_GCP_TF1.ipynb'\n",
            " Transform2020_Rules.las\n"
          ],
          "name": "stdout"
        }
      ]
    },
    {
      "cell_type": "markdown",
      "metadata": {
        "id": "4RmWyhuyELDu",
        "colab_type": "text"
      },
      "source": [
        "Fin! This is in no way exhaustative of what you can do with lasio or well logs in general. I hope some of the code blocks will be useful for future work. "
      ]
    }
  ]
}