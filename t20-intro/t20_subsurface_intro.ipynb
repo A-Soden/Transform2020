{
  "nbformat": 4,
  "nbformat_minor": 0,
  "metadata": {
    "colab": {
      "name": "t20-subsurface-intro.ipynb",
      "provenance": [],
      "collapsed_sections": [],
      "toc_visible": true
    },
    "kernelspec": {
      "name": "python3",
      "display_name": "Python 3"
    }
  },
  "cells": [
    {
      "cell_type": "markdown",
      "metadata": {
        "id": "oFCuwz_4uGs8",
        "colab_type": "text"
      },
      "source": [
        "# Welcome future python subsurface professionals! (yes, you!)"
      ]
    },
    {
      "cell_type": "markdown",
      "metadata": {
        "id": "Mwi6AS6vUyug",
        "colab_type": "text"
      },
      "source": [
        "\n",
        "< Operational note: This works best in Firefox or Chrome, do NOT use edge or internet expolorer, netscape naviator, AOL, etc. >"
      ]
    },
    {
      "cell_type": "markdown",
      "metadata": {
        "id": "BaVKCLh5uXce",
        "colab_type": "text"
      },
      "source": [
        "Welcome to Transform 2020! This does not require an install (!!!) but it does require a google account. You can also run this in Anaconda, but I am not going to cover that in this course (and this notebook is not tested for that).\n",
        "\n",
        "## Breaks\n",
        "We will have two breaks at roughly 45 minutes in and 1.5 hours in. \n",
        "\n",
        "## Slack channel\n",
        "If you have questions, please ask in the slack! I will not be monitoring the slack channel, but there will be a few pro's from SWUNG there to assist."
      ]
    },
    {
      "cell_type": "markdown",
      "metadata": {
        "id": "2W5AB-JQn3Ni",
        "colab_type": "text"
      },
      "source": [
        "# Welcome to Colab!"
      ]
    },
    {
      "cell_type": "markdown",
      "metadata": {
        "id": "KSo8rmVJn64H",
        "colab_type": "text"
      },
      "source": [
        "Google Colab is a online, web hosted way to work through Jupyter Notebooks. They have a pro version that adds larger GPU's and more RAM for $10 USD a month. For today, the free version will work great. It can be accessed on any computer with an internet connection and a modern browser. "
      ]
    },
    {
      "cell_type": "markdown",
      "metadata": {
        "id": "jtErR49tokrv",
        "colab_type": "text"
      },
      "source": [
        "#### Mounting Colab to Google Drive"
      ]
    },
    {
      "cell_type": "markdown",
      "metadata": {
        "id": "LqWdS9XLoqzK",
        "colab_type": "text"
      },
      "source": [
        "The hardest part of Colab is getting the google drive mounted and finding your file locations. Google does this to keep your data 'safe' but does have some drawbacks. Because it is an ipython notebook, you can use the tricks of cd, ls, pwd, and others to navigate to your folder of interest."
      ]
    },
    {
      "cell_type": "code",
      "metadata": {
        "id": "0IaXEYYmVDwE",
        "colab_type": "code",
        "outputId": "bef7bf26-d398-4b3a-c9e9-6bfe3891e52a",
        "colab": {
          "base_uri": "https://localhost:8080/",
          "height": 129
        }
      },
      "source": [
        "from google.colab import drive\n",
        "drive.mount('/content/gdrive')"
      ],
      "execution_count": 0,
      "outputs": [
        {
          "output_type": "stream",
          "text": [
            "Go to this URL in a browser: https://accounts.google.com/o/oauth2/auth?client_id=947318989803-6bn6qk8qdgf4n4g3pfee6491hc0brc4i.apps.googleusercontent.com&redirect_uri=urn%3aietf%3awg%3aoauth%3a2.0%3aoob&response_type=code&scope=email%20https%3a%2f%2fwww.googleapis.com%2fauth%2fdocs.test%20https%3a%2f%2fwww.googleapis.com%2fauth%2fdrive%20https%3a%2f%2fwww.googleapis.com%2fauth%2fdrive.photos.readonly%20https%3a%2f%2fwww.googleapis.com%2fauth%2fpeopleapi.readonly\n",
            "\n",
            "Enter your authorization code:\n",
            "··········\n",
            "Mounted at /content/gdrive\n"
          ],
          "name": "stdout"
        }
      ]
    },
    {
      "cell_type": "markdown",
      "metadata": {
        "id": "-REECfeDr0J2",
        "colab_type": "text"
      },
      "source": [
        "\"ls\" is the list command. "
      ]
    },
    {
      "cell_type": "code",
      "metadata": {
        "id": "7NKzZpdvqgPy",
        "colab_type": "code",
        "outputId": "b55f40d4-124c-48c3-f300-6350e39486e5",
        "colab": {
          "base_uri": "https://localhost:8080/",
          "height": 35
        }
      },
      "source": [
        "ls"
      ],
      "execution_count": 0,
      "outputs": [
        {
          "output_type": "stream",
          "text": [
            "\u001b[0m\u001b[01;34mgdrive\u001b[0m/  \u001b[01;34msample_data\u001b[0m/\n"
          ],
          "name": "stdout"
        }
      ]
    },
    {
      "cell_type": "markdown",
      "metadata": {
        "id": "aK9_6-7WqxvP",
        "colab_type": "text"
      },
      "source": [
        "My folder name is t20-intro, you might need to change it to match your folder name."
      ]
    },
    {
      "cell_type": "code",
      "metadata": {
        "id": "RMcLerOAV3As",
        "colab_type": "code",
        "outputId": "04fa0552-6d09-4dcb-bb43-a5494d081054",
        "colab": {
          "base_uri": "https://localhost:8080/",
          "height": 35
        }
      },
      "source": [
        "cd gdrive/My Drive/t20-intro/"
      ],
      "execution_count": 0,
      "outputs": [
        {
          "output_type": "stream",
          "text": [
            "/content/gdrive/My Drive/t20-intro\n"
          ],
          "name": "stdout"
        }
      ]
    },
    {
      "cell_type": "markdown",
      "metadata": {
        "id": "nxUJh728slXR",
        "colab_type": "text"
      },
      "source": [
        "pwd is the command to display the path to your location"
      ]
    },
    {
      "cell_type": "code",
      "metadata": {
        "id": "YF6EChXoqsOn",
        "colab_type": "code",
        "outputId": "0237999c-dd46-49ff-bcc7-30c2bd6bc5da",
        "colab": {
          "base_uri": "https://localhost:8080/",
          "height": 35
        }
      },
      "source": [
        "pwd"
      ],
      "execution_count": 0,
      "outputs": [
        {
          "output_type": "execute_result",
          "data": {
            "text/plain": [
              "'/content/gdrive/My Drive/t20-intro'"
            ]
          },
          "metadata": {
            "tags": []
          },
          "execution_count": 4
        }
      ]
    },
    {
      "cell_type": "code",
      "metadata": {
        "id": "TP8oUiEuqs4m",
        "colab_type": "code",
        "outputId": "36bc4936-9977-454b-8bd9-877ca70fc5bd",
        "colab": {
          "base_uri": "https://localhost:8080/",
          "height": 91
        }
      },
      "source": [
        "ls"
      ],
      "execution_count": 0,
      "outputs": [
        {
          "output_type": "stream",
          "text": [
            "4900722147_722147B.las               petro-stats.csv\n",
            "awesome-plot.pdf                     t20-lith.csv\n",
            "GeothermalPowerPlants_wikipedia.csv  t20-subsurface-intro.ipynb\n",
            "M-MG-70_14.3_135.9.png               well_data.csv\n"
          ],
          "name": "stdout"
        }
      ]
    },
    {
      "cell_type": "markdown",
      "metadata": {
        "id": "uILo8W4YtxjE",
        "colab_type": "text"
      },
      "source": [
        " Unix cheet sheet is [here](https://files.fosswire.com/2007/08/fwunixref.pdf). I am not going to go into detail but it's good to know a few key ones!"
      ]
    },
    {
      "cell_type": "markdown",
      "metadata": {
        "id": "4um_4X8sveRb",
        "colab_type": "text"
      },
      "source": [
        "# Python!"
      ]
    },
    {
      "cell_type": "markdown",
      "metadata": {
        "id": "zBvP7_H6vg1t",
        "colab_type": "text"
      },
      "source": [
        "Finally! Let's get into why y'all are here. Python has some basic math functions built in:\n",
        "\n"
      ]
    },
    {
      "cell_type": "code",
      "metadata": {
        "id": "SeHE2vuivgU-",
        "colab_type": "code",
        "outputId": "7d8f0c92-d1ae-4a99-dbf2-6915cb1c5170",
        "colab": {
          "base_uri": "https://localhost:8080/",
          "height": 35
        }
      },
      "source": [
        "2+2"
      ],
      "execution_count": 0,
      "outputs": [
        {
          "output_type": "execute_result",
          "data": {
            "text/plain": [
              "4"
            ]
          },
          "metadata": {
            "tags": []
          },
          "execution_count": 6
        }
      ]
    },
    {
      "cell_type": "code",
      "metadata": {
        "id": "7mUyYRnSwLVk",
        "colab_type": "code",
        "outputId": "fdd06bc6-8123-4884-cf38-79356eed9ff1",
        "colab": {
          "base_uri": "https://localhost:8080/",
          "height": 35
        }
      },
      "source": [
        "3*11.1"
      ],
      "execution_count": 0,
      "outputs": [
        {
          "output_type": "execute_result",
          "data": {
            "text/plain": [
              "33.3"
            ]
          },
          "metadata": {
            "tags": []
          },
          "execution_count": 7
        }
      ]
    },
    {
      "cell_type": "code",
      "metadata": {
        "id": "rSblAT5ZXvqJ",
        "colab_type": "code",
        "outputId": "578d7bed-9141-49dd-fecd-40e5ffa1b6ff",
        "colab": {
          "base_uri": "https://localhost:8080/",
          "height": 35
        }
      },
      "source": [
        "print('hello!')"
      ],
      "execution_count": 0,
      "outputs": [
        {
          "output_type": "stream",
          "text": [
            "hello!\n"
          ],
          "name": "stdout"
        }
      ]
    },
    {
      "cell_type": "code",
      "metadata": {
        "id": "sIgyq5Z1wUru",
        "colab_type": "code",
        "outputId": "feb28333-4a31-4c32-bd30-9bb11930eb85",
        "colab": {
          "base_uri": "https://localhost:8080/",
          "height": 35
        }
      },
      "source": [
        "a = 5\n",
        "b = 2.1\n",
        "\n",
        "a * b "
      ],
      "execution_count": 0,
      "outputs": [
        {
          "output_type": "execute_result",
          "data": {
            "text/plain": [
              "10.5"
            ]
          },
          "metadata": {
            "tags": []
          },
          "execution_count": 10
        }
      ]
    },
    {
      "cell_type": "code",
      "metadata": {
        "id": "AsfLgcpcwkn8",
        "colab_type": "code",
        "outputId": "066cf7a0-1e81-4420-9df5-607011163787",
        "colab": {
          "base_uri": "https://localhost:8080/",
          "height": 35
        }
      },
      "source": [
        "# This is a code cell, but a # makes it a comment\n",
        "2*2+3"
      ],
      "execution_count": 0,
      "outputs": [
        {
          "output_type": "execute_result",
          "data": {
            "text/plain": [
              "7"
            ]
          },
          "metadata": {
            "tags": []
          },
          "execution_count": 11
        }
      ]
    },
    {
      "cell_type": "markdown",
      "metadata": {
        "id": "9rsYooIkER0-",
        "colab_type": "text"
      },
      "source": [
        "python indexes 0,1,2,3 not 1,2,3,4 (like matlab)"
      ]
    },
    {
      "cell_type": "code",
      "metadata": {
        "id": "OCVtTVdxD5G7",
        "colab_type": "code",
        "outputId": "74fdc08d-ef7e-4324-9b59-6844f2d4e168",
        "colab": {
          "base_uri": "https://localhost:8080/",
          "height": 35
        }
      },
      "source": [
        "c = 'rad'\n",
        "c[0]"
      ],
      "execution_count": 0,
      "outputs": [
        {
          "output_type": "execute_result",
          "data": {
            "text/plain": [
              "'r'"
            ]
          },
          "metadata": {
            "tags": []
          },
          "execution_count": 48
        }
      ]
    },
    {
      "cell_type": "code",
      "metadata": {
        "id": "_y8ctXQXYWYH",
        "colab_type": "code",
        "outputId": "af873f4d-d87c-4595-e270-aefdc19f4413",
        "colab": {
          "base_uri": "https://localhost:8080/",
          "height": 35
        }
      },
      "source": [
        "c[1]"
      ],
      "execution_count": 0,
      "outputs": [
        {
          "output_type": "execute_result",
          "data": {
            "text/plain": [
              "'a'"
            ]
          },
          "metadata": {
            "tags": []
          },
          "execution_count": 49
        }
      ]
    },
    {
      "cell_type": "markdown",
      "metadata": {
        "id": "Uj8t-AXB0nNn",
        "colab_type": "text"
      },
      "source": [
        "There are whole classes devoted to basic python syntax, loops, functions, etc. This class is to just get you up and running with some key basics that can help with basic projects. Join us on the slack for some pointers!"
      ]
    },
    {
      "cell_type": "markdown",
      "metadata": {
        "id": "hcKP1Y8ZxUEB",
        "colab_type": "text"
      },
      "source": [
        "## Importing and Using Packages"
      ]
    },
    {
      "cell_type": "markdown",
      "metadata": {
        "id": "V9qgHqx_P143",
        "colab_type": "text"
      },
      "source": [
        "Packages are similar to Matlab toolboxes. You import them in a line of code in your notebook. "
      ]
    },
    {
      "cell_type": "code",
      "metadata": {
        "id": "cPWwh2HXxVmy",
        "colab_type": "code",
        "colab": {}
      },
      "source": [
        "import matplotlib.pyplot as plt"
      ],
      "execution_count": 0,
      "outputs": []
    },
    {
      "cell_type": "markdown",
      "metadata": {
        "id": "1cjE5MKsRE6D",
        "colab_type": "text"
      },
      "source": [
        "Ok, so we are telling the computer everytime we want to use the pyplot function from matplotlib, and we are going to call it plt as it's way shorter. Programmers are lazy. "
      ]
    },
    {
      "cell_type": "code",
      "metadata": {
        "id": "S3sAJN_wRCX2",
        "colab_type": "code",
        "colab": {}
      },
      "source": [
        "import pandas as pd\n",
        "import numpy as np"
      ],
      "execution_count": 0,
      "outputs": []
    },
    {
      "cell_type": "markdown",
      "metadata": {
        "id": "K-aVqCH6yMQe",
        "colab_type": "text"
      },
      "source": [
        "Importing a few others that I use in (almost) every project. We can import them normally becuase Google pre-loaded them. Google does not pre-load everything that you need, sometimes you might need to install it.  ~*warning* ~ not every package can easily be imported in Colab. I have not figured out what makes some go and some not. But stats and plotting is usually pretty safe. Niche, one off, old, academic code, less so. "
      ]
    },
    {
      "cell_type": "code",
      "metadata": {
        "id": "-GVjJfbUxo7R",
        "colab_type": "code",
        "outputId": "80db348d-286c-455f-bf11-cfaf1c747089",
        "colab": {
          "base_uri": "https://localhost:8080/",
          "height": 54
        }
      },
      "source": [
        "!pip install lasio # the ! before the pip is important"
      ],
      "execution_count": 0,
      "outputs": [
        {
          "output_type": "stream",
          "text": [
            "Requirement already satisfied: lasio in /usr/local/lib/python3.6/dist-packages (0.25.1)\n",
            "Requirement already satisfied: numpy in /usr/local/lib/python3.6/dist-packages (from lasio) (1.18.4)\n"
          ],
          "name": "stdout"
        }
      ]
    },
    {
      "cell_type": "markdown",
      "metadata": {
        "id": "hWaC0LxVyWQW",
        "colab_type": "text"
      },
      "source": [
        "Just installed the lasio package using pip. Lasio is a .las file imput and output reader. It's a great way to read in a .las file (well logs, not LiDAR) to use in python. After installing it, you still need to import it. The github for lasio is [here](https://github.com/kinverarity1/lasio)"
      ]
    },
    {
      "cell_type": "code",
      "metadata": {
        "id": "0qpm6NlMyQsD",
        "colab_type": "code",
        "colab": {}
      },
      "source": [
        "import lasio"
      ],
      "execution_count": 0,
      "outputs": []
    },
    {
      "cell_type": "markdown",
      "metadata": {
        "id": "clpopEZGziBZ",
        "colab_type": "text"
      },
      "source": [
        "There are hundreds of packages, not all of them work with Colab. We will install and import packages throughout the notebook."
      ]
    },
    {
      "cell_type": "markdown",
      "metadata": {
        "id": "BrTxJiTm2pyo",
        "colab_type": "text"
      },
      "source": [
        "### Wikipedia Data and Pandas"
      ]
    },
    {
      "cell_type": "markdown",
      "metadata": {
        "id": "ZJuMOLOA2_7r",
        "colab_type": "text"
      },
      "source": [
        "Let's import a csv (comma seperated variable plain text (ASCII) file) into Pandas. Pandas is an awesome way to slice and dice data. Data is stored in data frames (df) in the next cell. When you see examples online, usually df is data frame. But you can name it anything!\n",
        "\n"
      ]
    },
    {
      "cell_type": "markdown",
      "metadata": {
        "id": "KGTTml4Na_c8",
        "colab_type": "text"
      },
      "source": [
        "This table is from Wikipedia, from [here](https://en.wikipedia.org/wiki/List_of_geothermal_power_stations_in_the_United_States). I used https://wikitable2csv.ggor.de/ to make a csv from the table! Pretty nifty. No guarnatees on accuracy, yadda yadda. "
      ]
    },
    {
      "cell_type": "code",
      "metadata": {
        "id": "GqFcMlw52uRU",
        "colab_type": "code",
        "colab": {}
      },
      "source": [
        "df = pd.read_csv('GeothermalPowerPlants_wikipedia.csv')"
      ],
      "execution_count": 0,
      "outputs": []
    },
    {
      "cell_type": "markdown",
      "metadata": {
        "id": "moOvCOfr4lCc",
        "colab_type": "text"
      },
      "source": [
        "Use the .head command to show the first few rows of the data frame. "
      ]
    },
    {
      "cell_type": "code",
      "metadata": {
        "id": "94Iq9qo-4hvI",
        "colab_type": "code",
        "outputId": "d7579cb5-391b-43f5-891f-31e9a0a846d7",
        "colab": {
          "base_uri": "https://localhost:8080/",
          "height": 265
        }
      },
      "source": [
        "df.head(3)"
      ],
      "execution_count": 0,
      "outputs": [
        {
          "output_type": "execute_result",
          "data": {
            "text/html": [
              "<div>\n",
              "<style scoped>\n",
              "    .dataframe tbody tr th:only-of-type {\n",
              "        vertical-align: middle;\n",
              "    }\n",
              "\n",
              "    .dataframe tbody tr th {\n",
              "        vertical-align: top;\n",
              "    }\n",
              "\n",
              "    .dataframe thead th {\n",
              "        text-align: right;\n",
              "    }\n",
              "</style>\n",
              "<table border=\"1\" class=\"dataframe\">\n",
              "  <thead>\n",
              "    <tr style=\"text-align: right;\">\n",
              "      <th></th>\n",
              "      <th>Name</th>\n",
              "      <th>State</th>\n",
              "      <th>Location</th>\n",
              "      <th>Capacity(MW)</th>\n",
              "      <th>Annual Generation(GWh)</th>\n",
              "      <th>Owner</th>\n",
              "      <th>Type</th>\n",
              "      <th>Year</th>\n",
              "      <th>Ref</th>\n",
              "    </tr>\n",
              "  </thead>\n",
              "  <tbody>\n",
              "    <tr>\n",
              "      <th>0</th>\n",
              "      <td>Beowawe</td>\n",
              "      <td>Nevada</td>\n",
              "      <td>40°33′17″N 116°37′03″W﻿ / ﻿40.55472°N 116.61750°W</td>\n",
              "      <td>19.2</td>\n",
              "      <td>99 (2018)</td>\n",
              "      <td>Terra-Gen Power</td>\n",
              "      <td>Flash steam (87%)Binary cycle (13%)</td>\n",
              "      <td>1985</td>\n",
              "      <td>[4][5]</td>\n",
              "    </tr>\n",
              "    <tr>\n",
              "      <th>1</th>\n",
              "      <td>Blue Mountain</td>\n",
              "      <td>Nevada</td>\n",
              "      <td>40°59′42″N 118°08′35″W﻿ / ﻿40.99500°N 118.14306°W</td>\n",
              "      <td>50</td>\n",
              "      <td>229 (2018)</td>\n",
              "      <td>Nevada Geothermal Power</td>\n",
              "      <td>Binary cycle</td>\n",
              "      <td>2009</td>\n",
              "      <td>[6][7][8]</td>\n",
              "    </tr>\n",
              "    <tr>\n",
              "      <th>2</th>\n",
              "      <td>Blundell</td>\n",
              "      <td>Utah</td>\n",
              "      <td>38°29′21″N 112°51′11″W﻿ / ﻿38.48917°N 112.85306°W</td>\n",
              "      <td>11</td>\n",
              "      <td>223 (2018)</td>\n",
              "      <td>PacifiCorp</td>\n",
              "      <td>NaN</td>\n",
              "      <td>2007</td>\n",
              "      <td>[6][9]</td>\n",
              "    </tr>\n",
              "  </tbody>\n",
              "</table>\n",
              "</div>"
            ],
            "text/plain": [
              "            Name   State  ...  Year        Ref\n",
              "0        Beowawe  Nevada  ...  1985     [4][5]\n",
              "1  Blue Mountain  Nevada  ...  2009  [6][7][8]\n",
              "2       Blundell    Utah  ...  2007     [6][9]\n",
              "\n",
              "[3 rows x 9 columns]"
            ]
          },
          "metadata": {
            "tags": []
          },
          "execution_count": 55
        }
      ]
    },
    {
      "cell_type": "markdown",
      "metadata": {
        "id": "-RLakmS1xigf",
        "colab_type": "text"
      },
      "source": [
        "Congrats! We just made a pandas data frame. For this size dataset, probably easier to plot in excel <gasp!/>. But! If this was 5x-1000x larger which is possible, much easier to clean up using some python tools. Let's dig in."
      ]
    },
    {
      "cell_type": "markdown",
      "metadata": {
        "id": "rm5Nheg1zSQD",
        "colab_type": "text"
      },
      "source": [
        "Let's drop the Ref column, and change the names of two of the columns so they are easier to call. We will also remove the commas from the dataframe."
      ]
    },
    {
      "cell_type": "code",
      "metadata": {
        "id": "0TEXncBWeqE1",
        "colab_type": "code",
        "outputId": "d79ef254-4fe3-4409-b789-ae035598f64b",
        "colab": {
          "base_uri": "https://localhost:8080/",
          "height": 147
        }
      },
      "source": [
        "df = df.rename(columns={\"Capacity(MW)\": \"Capacity_MW\", \"Annual Generation(GWh)\": \"AG_GWh\"})\n",
        "df = df.drop(columns=['Ref'])\n",
        "df.replace(',','', regex=True, inplace=True)\n",
        "df.head(2)"
      ],
      "execution_count": 0,
      "outputs": [
        {
          "output_type": "execute_result",
          "data": {
            "text/html": [
              "<div>\n",
              "<style scoped>\n",
              "    .dataframe tbody tr th:only-of-type {\n",
              "        vertical-align: middle;\n",
              "    }\n",
              "\n",
              "    .dataframe tbody tr th {\n",
              "        vertical-align: top;\n",
              "    }\n",
              "\n",
              "    .dataframe thead th {\n",
              "        text-align: right;\n",
              "    }\n",
              "</style>\n",
              "<table border=\"1\" class=\"dataframe\">\n",
              "  <thead>\n",
              "    <tr style=\"text-align: right;\">\n",
              "      <th></th>\n",
              "      <th>Name</th>\n",
              "      <th>State</th>\n",
              "      <th>Location</th>\n",
              "      <th>Capacity_MW</th>\n",
              "      <th>AG_GWh</th>\n",
              "      <th>Owner</th>\n",
              "      <th>Type</th>\n",
              "      <th>Year</th>\n",
              "    </tr>\n",
              "  </thead>\n",
              "  <tbody>\n",
              "    <tr>\n",
              "      <th>0</th>\n",
              "      <td>Beowawe</td>\n",
              "      <td>Nevada</td>\n",
              "      <td>40°33′17″N 116°37′03″W﻿ / ﻿40.55472°N 116.61750°W</td>\n",
              "      <td>19.2</td>\n",
              "      <td>99 (2018)</td>\n",
              "      <td>Terra-Gen Power</td>\n",
              "      <td>Flash steam (87%)Binary cycle (13%)</td>\n",
              "      <td>1985</td>\n",
              "    </tr>\n",
              "    <tr>\n",
              "      <th>1</th>\n",
              "      <td>Blue Mountain</td>\n",
              "      <td>Nevada</td>\n",
              "      <td>40°59′42″N 118°08′35″W﻿ / ﻿40.99500°N 118.14306°W</td>\n",
              "      <td>50</td>\n",
              "      <td>229 (2018)</td>\n",
              "      <td>Nevada Geothermal Power</td>\n",
              "      <td>Binary cycle</td>\n",
              "      <td>2009</td>\n",
              "    </tr>\n",
              "  </tbody>\n",
              "</table>\n",
              "</div>"
            ],
            "text/plain": [
              "            Name   State  ...                                 Type  Year\n",
              "0        Beowawe  Nevada  ...  Flash steam (87%)Binary cycle (13%)  1985\n",
              "1  Blue Mountain  Nevada  ...                         Binary cycle  2009\n",
              "\n",
              "[2 rows x 8 columns]"
            ]
          },
          "metadata": {
            "tags": []
          },
          "execution_count": 56
        }
      ]
    },
    {
      "cell_type": "code",
      "metadata": {
        "id": "cTIu2bXT_7tu",
        "colab_type": "code",
        "outputId": "63bba707-68fb-497d-a022-4173a1bae6e7",
        "colab": {
          "base_uri": "https://localhost:8080/",
          "height": 91
        }
      },
      "source": [
        "df.Capacity_MW.values"
      ],
      "execution_count": 0,
      "outputs": [
        {
          "output_type": "execute_result",
          "data": {
            "text/plain": [
              "array(['19.2', '50', '11', '26', '272.3', '27', '92', '61', '39', '1590',\n",
              "       '161.5', '432.3', '10', '4', '40', '138', '22', '64', '101.6',\n",
              "       '70', '38', '11', '13.4', '11', '37', '73 [note 2]', '75', '13',\n",
              "       '27', '18', '4 [note 3]'], dtype=object)"
            ]
          },
          "metadata": {
            "tags": []
          },
          "execution_count": 57
        }
      ]
    },
    {
      "cell_type": "markdown",
      "metadata": {
        "id": "T2Z4qKxx_Bng",
        "colab_type": "text"
      },
      "source": [
        "Two of these are problems, with [note 2,3] after the numbers, and we just want the numbers! A hint about this is dtype=object, and not int64"
      ]
    },
    {
      "cell_type": "code",
      "metadata": {
        "id": "NLJ1jrpp9FoV",
        "colab_type": "code",
        "outputId": "e13523ce-d4cc-424a-bca1-118787f9aa4c",
        "colab": {
          "base_uri": "https://localhost:8080/",
          "height": 148
        }
      },
      "source": [
        "# Split on the space, taking the values before the space\n",
        "df.Capacity_MW = df.Capacity_MW.str.split(r\" *\", expand=True)[0] # splitting on the space delimiter \n",
        "df.Capacity_MW = pd.to_numeric(df.Capacity_MW) # Changing the type to numeric\n",
        "df.Capacity_MW.values"
      ],
      "execution_count": 0,
      "outputs": [
        {
          "output_type": "stream",
          "text": [
            "/usr/local/lib/python3.6/dist-packages/pandas/core/strings.py:1494: FutureWarning: split() requires a non-empty pattern match.\n",
            "  f = lambda x: regex.split(x, maxsplit=n)\n"
          ],
          "name": "stderr"
        },
        {
          "output_type": "execute_result",
          "data": {
            "text/plain": [
              "array([  19.2,   50. ,   11. ,   26. ,  272.3,   27. ,   92. ,   61. ,\n",
              "         39. , 1590. ,  161.5,  432.3,   10. ,    4. ,   40. ,  138. ,\n",
              "         22. ,   64. ,  101.6,   70. ,   38. ,   11. ,   13.4,   11. ,\n",
              "         37. ,   73. ,   75. ,   13. ,   27. ,   18. ,    4. ])"
            ]
          },
          "metadata": {
            "tags": []
          },
          "execution_count": 58
        }
      ]
    },
    {
      "cell_type": "markdown",
      "metadata": {
        "id": "weldU2pAAcNr",
        "colab_type": "text"
      },
      "source": [
        "New column, lets check out AG_GWh"
      ]
    },
    {
      "cell_type": "code",
      "metadata": {
        "id": "i6UspVgMAtrb",
        "colab_type": "code",
        "outputId": "85f8ecf6-09c5-43ce-e9e4-a9f94503c874",
        "colab": {
          "base_uri": "https://localhost:8080/",
          "height": 72
        }
      },
      "source": [
        "df.AG_GWh.head(2) # the head(2) comment is just to show the first 2 "
      ],
      "execution_count": 0,
      "outputs": [
        {
          "output_type": "execute_result",
          "data": {
            "text/plain": [
              "0     99 (2018)\n",
              "1    229 (2018)\n",
              "Name: AG_GWh, dtype: object"
            ]
          },
          "metadata": {
            "tags": []
          },
          "execution_count": 59
        }
      ]
    },
    {
      "cell_type": "markdown",
      "metadata": {
        "id": "BDukOqnhA1mX",
        "colab_type": "text"
      },
      "source": [
        "Same problem! Let's remove the years from this."
      ]
    },
    {
      "cell_type": "code",
      "metadata": {
        "id": "JduhCKOYAy0P",
        "colab_type": "code",
        "outputId": "553ca61e-df26-42c1-fa26-886ff14133e7",
        "colab": {
          "base_uri": "https://localhost:8080/",
          "height": 129
        }
      },
      "source": [
        "df.AG_GWh = df.AG_GWh.str.split(r\" *\", expand=True)[0]\n",
        "df.AG_GWh = pd.to_numeric(df.AG_GWh)\n",
        "df.AG_GWh.values"
      ],
      "execution_count": 0,
      "outputs": [
        {
          "output_type": "stream",
          "text": [
            "/usr/local/lib/python3.6/dist-packages/pandas/core/strings.py:1494: FutureWarning: split() requires a non-empty pattern match.\n",
            "  f = lambda x: regex.split(x, maxsplit=n)\n"
          ],
          "name": "stderr"
        },
        {
          "output_type": "execute_result",
          "data": {
            "text/plain": [
              "array([  99,  229,  223,   77, 1176,  158,   91,  496,  327, 6516,  539,\n",
              "       1741,   72,   13,  215,  771,  176,   56,  268,  138,  323,   83,\n",
              "         98,   64,   61,  507,  159,   65,  213,  125,    9])"
            ]
          },
          "metadata": {
            "tags": []
          },
          "execution_count": 60
        }
      ]
    },
    {
      "cell_type": "code",
      "metadata": {
        "id": "JtC5a2q-A33o",
        "colab_type": "code",
        "outputId": "acdaa2a4-7f37-4e07-ad74-b9e984c7851a",
        "colab": {
          "base_uri": "https://localhost:8080/",
          "height": 147
        }
      },
      "source": [
        "df.head(2)"
      ],
      "execution_count": 0,
      "outputs": [
        {
          "output_type": "execute_result",
          "data": {
            "text/html": [
              "<div>\n",
              "<style scoped>\n",
              "    .dataframe tbody tr th:only-of-type {\n",
              "        vertical-align: middle;\n",
              "    }\n",
              "\n",
              "    .dataframe tbody tr th {\n",
              "        vertical-align: top;\n",
              "    }\n",
              "\n",
              "    .dataframe thead th {\n",
              "        text-align: right;\n",
              "    }\n",
              "</style>\n",
              "<table border=\"1\" class=\"dataframe\">\n",
              "  <thead>\n",
              "    <tr style=\"text-align: right;\">\n",
              "      <th></th>\n",
              "      <th>Name</th>\n",
              "      <th>State</th>\n",
              "      <th>Location</th>\n",
              "      <th>Capacity_MW</th>\n",
              "      <th>AG_GWh</th>\n",
              "      <th>Owner</th>\n",
              "      <th>Type</th>\n",
              "      <th>Year</th>\n",
              "    </tr>\n",
              "  </thead>\n",
              "  <tbody>\n",
              "    <tr>\n",
              "      <th>0</th>\n",
              "      <td>Beowawe</td>\n",
              "      <td>Nevada</td>\n",
              "      <td>40°33′17″N 116°37′03″W﻿ / ﻿40.55472°N 116.61750°W</td>\n",
              "      <td>19.2</td>\n",
              "      <td>99</td>\n",
              "      <td>Terra-Gen Power</td>\n",
              "      <td>Flash steam (87%)Binary cycle (13%)</td>\n",
              "      <td>1985</td>\n",
              "    </tr>\n",
              "    <tr>\n",
              "      <th>1</th>\n",
              "      <td>Blue Mountain</td>\n",
              "      <td>Nevada</td>\n",
              "      <td>40°59′42″N 118°08′35″W﻿ / ﻿40.99500°N 118.14306°W</td>\n",
              "      <td>50.0</td>\n",
              "      <td>229</td>\n",
              "      <td>Nevada Geothermal Power</td>\n",
              "      <td>Binary cycle</td>\n",
              "      <td>2009</td>\n",
              "    </tr>\n",
              "  </tbody>\n",
              "</table>\n",
              "</div>"
            ],
            "text/plain": [
              "            Name   State  ...                                 Type  Year\n",
              "0        Beowawe  Nevada  ...  Flash steam (87%)Binary cycle (13%)  1985\n",
              "1  Blue Mountain  Nevada  ...                         Binary cycle  2009\n",
              "\n",
              "[2 rows x 8 columns]"
            ]
          },
          "metadata": {
            "tags": []
          },
          "execution_count": 61
        }
      ]
    },
    {
      "cell_type": "markdown",
      "metadata": {
        "id": "rW0zxyJfBAqy",
        "colab_type": "text"
      },
      "source": [
        "Let's break up that location column. First step is to split it out, to only get the decimal degrees."
      ]
    },
    {
      "cell_type": "code",
      "metadata": {
        "id": "8BtVjdRIA9Ni",
        "colab_type": "code",
        "outputId": "70a88bff-8b62-4486-bf04-62e34b304e31",
        "colab": {
          "base_uri": "https://localhost:8080/",
          "height": 129
        }
      },
      "source": [
        "df.LocationDD = df.Location.str.split(r\" / \", expand=True)[1]\n",
        "df.LocationDD.head(2) # showing just the first two entries"
      ],
      "execution_count": 0,
      "outputs": [
        {
          "output_type": "stream",
          "text": [
            "/usr/local/lib/python3.6/dist-packages/ipykernel_launcher.py:1: UserWarning: Pandas doesn't allow columns to be created via a new attribute name - see https://pandas.pydata.org/pandas-docs/stable/indexing.html#attribute-access\n",
            "  \"\"\"Entry point for launching an IPython kernel.\n"
          ],
          "name": "stderr"
        },
        {
          "output_type": "execute_result",
          "data": {
            "text/plain": [
              "0    ﻿40.55472°N 116.61750°W\n",
              "1    ﻿40.99500°N 118.14306°W\n",
              "Name: 1, dtype: object"
            ]
          },
          "metadata": {
            "tags": []
          },
          "execution_count": 62
        }
      ]
    },
    {
      "cell_type": "markdown",
      "metadata": {
        "id": "4cDKk8-QBOUX",
        "colab_type": "text"
      },
      "source": [
        "Let's seperate decimal degrees into lat and long, and drop the degrees symbol, and N and W. Also convert it to a number from an object. "
      ]
    },
    {
      "cell_type": "code",
      "metadata": {
        "id": "02fAjBIXBFjH",
        "colab_type": "code",
        "outputId": "4eaa32e4-5bc8-466d-fb39-d5a9cb9bbcf4",
        "colab": {
          "base_uri": "https://localhost:8080/",
          "height": 351
        }
      },
      "source": [
        "df.latDD_N  = df.LocationDD.str.split(r\" *\", expand=True)[0] \n",
        "df.longDD_W = df.LocationDD.str.split(r\" *\", expand=True)[1]\n",
        "\n",
        "df.latDD_N.replace('°N','', regex=True, inplace=True) # replacing the degree symbol with a space\n",
        "df.longDD_W.replace('°W','', regex=True, inplace=True)\n",
        "\n",
        "df.latDD_N.values"
      ],
      "execution_count": 0,
      "outputs": [
        {
          "output_type": "stream",
          "text": [
            "/usr/local/lib/python3.6/dist-packages/pandas/core/strings.py:1494: FutureWarning: split() requires a non-empty pattern match.\n",
            "  f = lambda x: regex.split(x, maxsplit=n)\n",
            "/usr/local/lib/python3.6/dist-packages/ipykernel_launcher.py:1: UserWarning: Pandas doesn't allow columns to be created via a new attribute name - see https://pandas.pydata.org/pandas-docs/stable/indexing.html#attribute-access\n",
            "  \"\"\"Entry point for launching an IPython kernel.\n",
            "/usr/local/lib/python3.6/dist-packages/ipykernel_launcher.py:2: UserWarning: Pandas doesn't allow columns to be created via a new attribute name - see https://pandas.pydata.org/pandas-docs/stable/indexing.html#attribute-access\n",
            "  \n"
          ],
          "name": "stderr"
        },
        {
          "output_type": "execute_result",
          "data": {
            "text/plain": [
              "array(['\\ufeff40.55472', '\\ufeff40.99500', '\\ufeff38.48917',\n",
              "       '\\ufeff39.79611', '\\ufeff36.01667', '\\ufeff38.56167',\n",
              "       '\\ufeff39.75389', '\\ufeff39.96639', '\\ufeff38.83611',\n",
              "       '\\ufeff38.79056', '\\ufeff32.71444', '\\ufeff33.16333',\n",
              "       '\\ufeff40.18111', '\\ufeff32.14472', '\\ufeff37.64556',\n",
              "       '\\ufeff39.58917', '\\ufeff44.02306', '\\ufeff33.01444',\n",
              "       '\\ufeff32.78306', '\\ufeff39.58278', '\\ufeff19.4785',\n",
              "       '\\ufeff42.09944', '\\ufeff39.29444', '\\ufeff40.38056',\n",
              "       '\\ufeff39.55611', '\\ufeff39.39444', '\\ufeff39.54583',\n",
              "       '\\ufeff38.16083', '\\ufeff39.66778', '\\ufeff41.46722',\n",
              "       '\\ufeff39.16333'], dtype=object)"
            ]
          },
          "metadata": {
            "tags": []
          },
          "execution_count": 63
        }
      ]
    },
    {
      "cell_type": "markdown",
      "metadata": {
        "id": "p0L1SzlRBd9A",
        "colab_type": "text"
      },
      "source": [
        "Whoa! Got some unicode going on, lets drop that as well, and convert to a number, and make west negative. "
      ]
    },
    {
      "cell_type": "code",
      "metadata": {
        "id": "JnJ1SaWdBbor",
        "colab_type": "code",
        "outputId": "b7518b77-042b-4c52-a199-0ecd5463e65a",
        "colab": {
          "base_uri": "https://localhost:8080/",
          "height": 146
        }
      },
      "source": [
        "df.latDD_N.replace('\\ufeff','', regex=True, inplace=True) # doing more replacing\n",
        "df.longDD_W.replace('\\ufeff','', regex=True, inplace=True)\n",
        "\n",
        "df['latDD_N'] = pd.to_numeric(df.latDD_N)\n",
        "df['longDD_W'] = pd.to_numeric(df.longDD_W)\n",
        "\n",
        "df.latDD_N = pd.to_numeric(df.latDD_N)\n",
        "df.longDD_W = pd.to_numeric(df.longDD_W)\n",
        "\n",
        "# Because it is in the west, easier to put a negative\n",
        "df.longDD_W = df.longDD_W*-1 \n",
        "df.longDD_W.values"
      ],
      "execution_count": 0,
      "outputs": [
        {
          "output_type": "execute_result",
          "data": {
            "text/plain": [
              "array([-116.6175 , -118.14306, -112.85306, -119.01   , -117.7975 ,\n",
              "       -112.58   , -118.95361, -117.85583, -118.32417, -122.75583,\n",
              "       -115.52694, -115.61667, -117.47583, -108.83861, -118.91167,\n",
              "       -116.91167, -117.46778, -115.54083, -115.25417, -119.07472,\n",
              "       -154.8888 , -113.3825 , -118.5725 , -119.39972, -118.84806,\n",
              "       -119.7475 , -118.55611, -113.195  , -117.69306, -116.15056,\n",
              "       -119.18056])"
            ]
          },
          "metadata": {
            "tags": []
          },
          "execution_count": 64
        }
      ]
    },
    {
      "cell_type": "code",
      "metadata": {
        "id": "EUwJTZIgBkmf",
        "colab_type": "code",
        "outputId": "93b5abd0-fa6b-442a-ea7e-f38a5b13de0c",
        "colab": {
          "base_uri": "https://localhost:8080/",
          "height": 230
        }
      },
      "source": [
        "df.head(3)"
      ],
      "execution_count": 0,
      "outputs": [
        {
          "output_type": "execute_result",
          "data": {
            "text/html": [
              "<div>\n",
              "<style scoped>\n",
              "    .dataframe tbody tr th:only-of-type {\n",
              "        vertical-align: middle;\n",
              "    }\n",
              "\n",
              "    .dataframe tbody tr th {\n",
              "        vertical-align: top;\n",
              "    }\n",
              "\n",
              "    .dataframe thead th {\n",
              "        text-align: right;\n",
              "    }\n",
              "</style>\n",
              "<table border=\"1\" class=\"dataframe\">\n",
              "  <thead>\n",
              "    <tr style=\"text-align: right;\">\n",
              "      <th></th>\n",
              "      <th>Name</th>\n",
              "      <th>State</th>\n",
              "      <th>Location</th>\n",
              "      <th>Capacity_MW</th>\n",
              "      <th>AG_GWh</th>\n",
              "      <th>Owner</th>\n",
              "      <th>Type</th>\n",
              "      <th>Year</th>\n",
              "      <th>latDD_N</th>\n",
              "      <th>longDD_W</th>\n",
              "    </tr>\n",
              "  </thead>\n",
              "  <tbody>\n",
              "    <tr>\n",
              "      <th>0</th>\n",
              "      <td>Beowawe</td>\n",
              "      <td>Nevada</td>\n",
              "      <td>40°33′17″N 116°37′03″W﻿ / ﻿40.55472°N 116.61750°W</td>\n",
              "      <td>19.2</td>\n",
              "      <td>99</td>\n",
              "      <td>Terra-Gen Power</td>\n",
              "      <td>Flash steam (87%)Binary cycle (13%)</td>\n",
              "      <td>1985</td>\n",
              "      <td>40.55472</td>\n",
              "      <td>116.61750</td>\n",
              "    </tr>\n",
              "    <tr>\n",
              "      <th>1</th>\n",
              "      <td>Blue Mountain</td>\n",
              "      <td>Nevada</td>\n",
              "      <td>40°59′42″N 118°08′35″W﻿ / ﻿40.99500°N 118.14306°W</td>\n",
              "      <td>50.0</td>\n",
              "      <td>229</td>\n",
              "      <td>Nevada Geothermal Power</td>\n",
              "      <td>Binary cycle</td>\n",
              "      <td>2009</td>\n",
              "      <td>40.99500</td>\n",
              "      <td>118.14306</td>\n",
              "    </tr>\n",
              "    <tr>\n",
              "      <th>2</th>\n",
              "      <td>Blundell</td>\n",
              "      <td>Utah</td>\n",
              "      <td>38°29′21″N 112°51′11″W﻿ / ﻿38.48917°N 112.85306°W</td>\n",
              "      <td>11.0</td>\n",
              "      <td>223</td>\n",
              "      <td>PacifiCorp</td>\n",
              "      <td>NaN</td>\n",
              "      <td>2007</td>\n",
              "      <td>38.48917</td>\n",
              "      <td>112.85306</td>\n",
              "    </tr>\n",
              "  </tbody>\n",
              "</table>\n",
              "</div>"
            ],
            "text/plain": [
              "            Name   State  ...   latDD_N   longDD_W\n",
              "0        Beowawe  Nevada  ...  40.55472  116.61750\n",
              "1  Blue Mountain  Nevada  ...  40.99500  118.14306\n",
              "2       Blundell    Utah  ...  38.48917  112.85306\n",
              "\n",
              "[3 rows x 10 columns]"
            ]
          },
          "metadata": {
            "tags": []
          },
          "execution_count": 65
        }
      ]
    },
    {
      "cell_type": "markdown",
      "metadata": {
        "id": "LaNTG872YaUm",
        "colab_type": "text"
      },
      "source": [
        "You can use groupby to pull in all values. Summing the lat and long (or years!) does not make any physics sense, but cool to see the capacity. "
      ]
    },
    {
      "cell_type": "code",
      "metadata": {
        "id": "V2oGWhDXYMKT",
        "colab_type": "code",
        "outputId": "c34571a1-3818-46e1-de15-c0a4c0659b89",
        "colab": {
          "base_uri": "https://localhost:8080/",
          "height": 300
        }
      },
      "source": [
        "df.groupby(['State']).sum()\n"
      ],
      "execution_count": 0,
      "outputs": [
        {
          "output_type": "execute_result",
          "data": {
            "text/html": [
              "<div>\n",
              "<style scoped>\n",
              "    .dataframe tbody tr th:only-of-type {\n",
              "        vertical-align: middle;\n",
              "    }\n",
              "\n",
              "    .dataframe tbody tr th {\n",
              "        vertical-align: top;\n",
              "    }\n",
              "\n",
              "    .dataframe thead th {\n",
              "        text-align: right;\n",
              "    }\n",
              "</style>\n",
              "<table border=\"1\" class=\"dataframe\">\n",
              "  <thead>\n",
              "    <tr style=\"text-align: right;\">\n",
              "      <th></th>\n",
              "      <th>Capacity_MW</th>\n",
              "      <th>AG_GWh</th>\n",
              "      <th>Year</th>\n",
              "      <th>latDD_N</th>\n",
              "      <th>longDD_W</th>\n",
              "    </tr>\n",
              "    <tr>\n",
              "      <th>State</th>\n",
              "      <th></th>\n",
              "      <th></th>\n",
              "      <th></th>\n",
              "      <th></th>\n",
              "      <th></th>\n",
              "    </tr>\n",
              "  </thead>\n",
              "  <tbody>\n",
              "    <tr>\n",
              "      <th>California</th>\n",
              "      <td>2661.7</td>\n",
              "      <td>10511</td>\n",
              "      <td>13895</td>\n",
              "      <td>244.12806</td>\n",
              "      <td>821.40361</td>\n",
              "    </tr>\n",
              "    <tr>\n",
              "      <th>Hawaii</th>\n",
              "      <td>38.0</td>\n",
              "      <td>323</td>\n",
              "      <td>1992</td>\n",
              "      <td>19.47850</td>\n",
              "      <td>154.88880</td>\n",
              "    </tr>\n",
              "    <tr>\n",
              "      <th>Idaho</th>\n",
              "      <td>11.0</td>\n",
              "      <td>83</td>\n",
              "      <td>2008</td>\n",
              "      <td>42.09944</td>\n",
              "      <td>113.38250</td>\n",
              "    </tr>\n",
              "    <tr>\n",
              "      <th>Nevada</th>\n",
              "      <td>763.6</td>\n",
              "      <td>3536</td>\n",
              "      <td>34033</td>\n",
              "      <td>677.72499</td>\n",
              "      <td>2010.51446</td>\n",
              "    </tr>\n",
              "    <tr>\n",
              "      <th>New Mexico</th>\n",
              "      <td>4.0</td>\n",
              "      <td>13</td>\n",
              "      <td>2014</td>\n",
              "      <td>32.14472</td>\n",
              "      <td>108.83861</td>\n",
              "    </tr>\n",
              "    <tr>\n",
              "      <th>Oregon</th>\n",
              "      <td>22.0</td>\n",
              "      <td>176</td>\n",
              "      <td>2012</td>\n",
              "      <td>44.02306</td>\n",
              "      <td>117.46778</td>\n",
              "    </tr>\n",
              "    <tr>\n",
              "      <th>Utah</th>\n",
              "      <td>51.0</td>\n",
              "      <td>446</td>\n",
              "      <td>6034</td>\n",
              "      <td>115.21167</td>\n",
              "      <td>338.62806</td>\n",
              "    </tr>\n",
              "  </tbody>\n",
              "</table>\n",
              "</div>"
            ],
            "text/plain": [
              "            Capacity_MW  AG_GWh   Year    latDD_N    longDD_W\n",
              "State                                                        \n",
              "California       2661.7   10511  13895  244.12806   821.40361\n",
              "Hawaii             38.0     323   1992   19.47850   154.88880\n",
              "Idaho              11.0      83   2008   42.09944   113.38250\n",
              "Nevada            763.6    3536  34033  677.72499  2010.51446\n",
              "New Mexico          4.0      13   2014   32.14472   108.83861\n",
              "Oregon             22.0     176   2012   44.02306   117.46778\n",
              "Utah               51.0     446   6034  115.21167   338.62806"
            ]
          },
          "metadata": {
            "tags": []
          },
          "execution_count": 66
        }
      ]
    },
    {
      "cell_type": "code",
      "metadata": {
        "id": "LANxo9t1ZASo",
        "colab_type": "code",
        "outputId": "b9670ead-b67e-4a68-9720-382bbcaf8276",
        "colab": {
          "base_uri": "https://localhost:8080/",
          "height": 582
        }
      },
      "source": [
        "df.groupby(['Year']).sum()"
      ],
      "execution_count": 0,
      "outputs": [
        {
          "output_type": "execute_result",
          "data": {
            "text/html": [
              "<div>\n",
              "<style scoped>\n",
              "    .dataframe tbody tr th:only-of-type {\n",
              "        vertical-align: middle;\n",
              "    }\n",
              "\n",
              "    .dataframe tbody tr th {\n",
              "        vertical-align: top;\n",
              "    }\n",
              "\n",
              "    .dataframe thead th {\n",
              "        text-align: right;\n",
              "    }\n",
              "</style>\n",
              "<table border=\"1\" class=\"dataframe\">\n",
              "  <thead>\n",
              "    <tr style=\"text-align: right;\">\n",
              "      <th></th>\n",
              "      <th>Capacity_MW</th>\n",
              "      <th>AG_GWh</th>\n",
              "      <th>latDD_N</th>\n",
              "      <th>longDD_W</th>\n",
              "    </tr>\n",
              "    <tr>\n",
              "      <th>Year</th>\n",
              "      <th></th>\n",
              "      <th></th>\n",
              "      <th></th>\n",
              "      <th></th>\n",
              "    </tr>\n",
              "  </thead>\n",
              "  <tbody>\n",
              "    <tr>\n",
              "      <th>1960</th>\n",
              "      <td>1590.0</td>\n",
              "      <td>6516</td>\n",
              "      <td>38.79056</td>\n",
              "      <td>122.75583</td>\n",
              "    </tr>\n",
              "    <tr>\n",
              "      <th>1982</th>\n",
              "      <td>432.3</td>\n",
              "      <td>1741</td>\n",
              "      <td>33.16333</td>\n",
              "      <td>115.61667</td>\n",
              "    </tr>\n",
              "    <tr>\n",
              "      <th>1984</th>\n",
              "      <td>44.0</td>\n",
              "      <td>224</td>\n",
              "      <td>76.80889</td>\n",
              "      <td>238.09223</td>\n",
              "    </tr>\n",
              "    <tr>\n",
              "      <th>1985</th>\n",
              "      <td>272.7</td>\n",
              "      <td>729</td>\n",
              "      <td>113.02305</td>\n",
              "      <td>351.09805</td>\n",
              "    </tr>\n",
              "    <tr>\n",
              "      <th>1987</th>\n",
              "      <td>410.9</td>\n",
              "      <td>1505</td>\n",
              "      <td>108.35584</td>\n",
              "      <td>351.89973</td>\n",
              "    </tr>\n",
              "    <tr>\n",
              "      <th>1988</th>\n",
              "      <td>134.0</td>\n",
              "      <td>1003</td>\n",
              "      <td>79.36083</td>\n",
              "      <td>237.60333</td>\n",
              "    </tr>\n",
              "    <tr>\n",
              "      <th>1992</th>\n",
              "      <td>64.0</td>\n",
              "      <td>400</td>\n",
              "      <td>59.27461</td>\n",
              "      <td>273.89880</td>\n",
              "    </tr>\n",
              "    <tr>\n",
              "      <th>2007</th>\n",
              "      <td>11.0</td>\n",
              "      <td>223</td>\n",
              "      <td>38.48917</td>\n",
              "      <td>112.85306</td>\n",
              "    </tr>\n",
              "    <tr>\n",
              "      <th>2008</th>\n",
              "      <td>11.0</td>\n",
              "      <td>83</td>\n",
              "      <td>42.09944</td>\n",
              "      <td>113.38250</td>\n",
              "    </tr>\n",
              "    <tr>\n",
              "      <th>2009</th>\n",
              "      <td>125.0</td>\n",
              "      <td>388</td>\n",
              "      <td>80.54083</td>\n",
              "      <td>236.69917</td>\n",
              "    </tr>\n",
              "    <tr>\n",
              "      <th>2010</th>\n",
              "      <td>64.0</td>\n",
              "      <td>56</td>\n",
              "      <td>33.01444</td>\n",
              "      <td>115.54083</td>\n",
              "    </tr>\n",
              "    <tr>\n",
              "      <th>2011</th>\n",
              "      <td>10.0</td>\n",
              "      <td>72</td>\n",
              "      <td>40.18111</td>\n",
              "      <td>117.47583</td>\n",
              "    </tr>\n",
              "    <tr>\n",
              "      <th>2012</th>\n",
              "      <td>202.4</td>\n",
              "      <td>1234</td>\n",
              "      <td>204.75445</td>\n",
              "      <td>588.50223</td>\n",
              "    </tr>\n",
              "    <tr>\n",
              "      <th>2013</th>\n",
              "      <td>52.0</td>\n",
              "      <td>392</td>\n",
              "      <td>76.99694</td>\n",
              "      <td>231.51917</td>\n",
              "    </tr>\n",
              "    <tr>\n",
              "      <th>2014</th>\n",
              "      <td>31.0</td>\n",
              "      <td>171</td>\n",
              "      <td>70.70639</td>\n",
              "      <td>221.41861</td>\n",
              "    </tr>\n",
              "    <tr>\n",
              "      <th>2017</th>\n",
              "      <td>97.0</td>\n",
              "      <td>351</td>\n",
              "      <td>79.25056</td>\n",
              "      <td>236.76778</td>\n",
              "    </tr>\n",
              "  </tbody>\n",
              "</table>\n",
              "</div>"
            ],
            "text/plain": [
              "      Capacity_MW  AG_GWh    latDD_N   longDD_W\n",
              "Year                                           \n",
              "1960       1590.0    6516   38.79056  122.75583\n",
              "1982        432.3    1741   33.16333  115.61667\n",
              "1984         44.0     224   76.80889  238.09223\n",
              "1985        272.7     729  113.02305  351.09805\n",
              "1987        410.9    1505  108.35584  351.89973\n",
              "1988        134.0    1003   79.36083  237.60333\n",
              "1992         64.0     400   59.27461  273.89880\n",
              "2007         11.0     223   38.48917  112.85306\n",
              "2008         11.0      83   42.09944  113.38250\n",
              "2009        125.0     388   80.54083  236.69917\n",
              "2010         64.0      56   33.01444  115.54083\n",
              "2011         10.0      72   40.18111  117.47583\n",
              "2012        202.4    1234  204.75445  588.50223\n",
              "2013         52.0     392   76.99694  231.51917\n",
              "2014         31.0     171   70.70639  221.41861\n",
              "2017         97.0     351   79.25056  236.76778"
            ]
          },
          "metadata": {
            "tags": []
          },
          "execution_count": 67
        }
      ]
    },
    {
      "cell_type": "markdown",
      "metadata": {
        "id": "H25tgy1WkudV",
        "colab_type": "text"
      },
      "source": [
        "If you want to know how many times each state was counted, you can call that directly:"
      ]
    },
    {
      "cell_type": "code",
      "metadata": {
        "id": "jw9mix_Cksov",
        "colab_type": "code",
        "outputId": "5f8755e8-cc8f-45ec-9a10-170dd23cdea7",
        "colab": {
          "base_uri": "https://localhost:8080/",
          "height": 165
        }
      },
      "source": [
        "df.State.value_counts()"
      ],
      "execution_count": 0,
      "outputs": [
        {
          "output_type": "execute_result",
          "data": {
            "text/plain": [
              "Nevada        17\n",
              "California     7\n",
              "Utah           3\n",
              "Hawaii         1\n",
              "New Mexico     1\n",
              "Idaho          1\n",
              "Oregon         1\n",
              "Name: State, dtype: int64"
            ]
          },
          "metadata": {
            "tags": []
          },
          "execution_count": 68
        }
      ]
    },
    {
      "cell_type": "markdown",
      "metadata": {
        "id": "uzwHCrWRCsDm",
        "colab_type": "text"
      },
      "source": [
        "### Quick QC plots with Matplotlib"
      ]
    },
    {
      "cell_type": "markdown",
      "metadata": {
        "id": "y5Wk-ZbKCzx3",
        "colab_type": "text"
      },
      "source": [
        "Quick bar plot! Matplotlib is a super basic plotting package. They have a ton of examples [here](https://matplotlib.org/3.1.1/gallery/index.html). I won't be going into detail on how to use matplotlib, but would be happy to answer questions after the webinar. When I get stuck, I typically check out the example webpage and try to recreate it."
      ]
    },
    {
      "cell_type": "code",
      "metadata": {
        "id": "mvv-go-ZCwyU",
        "colab_type": "code",
        "outputId": "948f6882-cef0-4a60-da38-a8aa3c386a5c",
        "colab": {
          "base_uri": "https://localhost:8080/",
          "height": 393
        }
      },
      "source": [
        "plt.figure(figsize=(8,6)) #calling the figure size\n",
        "plt.bar(df.State, df.Capacity_MW) # Making a bar plot with state on the X axis, capacity on the Y\n",
        "plt.xlabel('States', size=16) # Just a x axis label, size 16\n",
        "plt.ylabel('Capacity in MW', size = 16)\n",
        "plt.grid(True, axis='y') # turning on grid lines, only for the Y axis\n",
        "\n",
        "# You can drag and drop the figure to save it\n",
        "# plt.savefig('figurename.png', dpi=300) \n"
      ],
      "execution_count": 0,
      "outputs": [
        {
          "output_type": "display_data",
          "data": {
            "image/png": "[encoded data removed]",
            "text/plain": [
              "<Figure size 576x432 with 1 Axes>"
            ]
          },
          "metadata": {
            "tags": [],
            "needs_background": "light"
          }
        }
      ]
    },
    {
      "cell_type": "markdown",
      "metadata": {
        "id": "N4akMX1EDjpg",
        "colab_type": "text"
      },
      "source": [
        "Let's make a scatter plot with similar data"
      ]
    },
    {
      "cell_type": "code",
      "metadata": {
        "id": "UmiOGyBiDdzC",
        "colab_type": "code",
        "outputId": "70a46616-78f4-47f5-e0e0-3d769519e1cb",
        "colab": {
          "base_uri": "https://localhost:8080/",
          "height": 411
        }
      },
      "source": [
        "plt.figure(figsize=(8,6))\n",
        "plt.scatter(df.Year.values, df.Capacity_MW.values, s=500 ) # hint! Look here\n",
        "plt.grid(True)\n",
        "\n",
        "plt.xlabel('Year', size=16)\n",
        "plt.ylabel('Capacity in MW', size = 16)"
      ],
      "execution_count": 0,
      "outputs": [
        {
          "output_type": "execute_result",
          "data": {
            "text/plain": [
              "Text(0, 0.5, 'Capacity in MW')"
            ]
          },
          "metadata": {
            "tags": []
          },
          "execution_count": 71
        },
        {
          "output_type": "display_data",
          "data": {
            "image/png": "[encoded data removed]",
            "text/plain": [
              "<Figure size 576x432 with 1 Axes>"
            ]
          },
          "metadata": {
            "tags": [],
            "needs_background": "light"
          }
        }
      ]
    },
    {
      "cell_type": "markdown",
      "metadata": {
        "id": "u-F0Q-NoEIbI",
        "colab_type": "text"
      },
      "source": [
        "This size is wrong on the bubble, play around with the plot to find the right size. "
      ]
    },
    {
      "cell_type": "code",
      "metadata": {
        "id": "xVlVGiQsDpgM",
        "colab_type": "code",
        "outputId": "44f7590a-dc88-4a77-e20d-9eb952e41051",
        "colab": {
          "base_uri": "https://localhost:8080/",
          "height": 411
        }
      },
      "source": [
        "plt.figure(figsize=(8,6))\n",
        "plt.scatter(df.Year.values, df.Capacity_MW.values, s=250 )\n",
        "plt.grid(True)\n",
        "plt.yscale('log') #\n",
        "\n",
        "\n",
        "plt.xlabel('Year', size=16)\n",
        "plt.ylabel('Capacity in MW', size = 16)"
      ],
      "execution_count": 0,
      "outputs": [
        {
          "output_type": "execute_result",
          "data": {
            "text/plain": [
              "Text(0, 0.5, 'Capacity in MW')"
            ]
          },
          "metadata": {
            "tags": []
          },
          "execution_count": 72
        },
        {
          "output_type": "display_data",
          "data": {
            "image/png": "[encoded data removed]",
            "text/plain": [
              "<Figure size 576x432 with 1 Axes>"
            ]
          },
          "metadata": {
            "tags": [],
            "needs_background": "light"
          }
        }
      ]
    },
    {
      "cell_type": "markdown",
      "metadata": {
        "id": "DDEdYs8tFtD0",
        "colab_type": "text"
      },
      "source": [
        "If you think having a log axis works better with this data. Spend 5-10 minutes during the break changing some variables, and try to change the color in the scatter plot. Next code cell is supposed to be empty."
      ]
    },
    {
      "cell_type": "code",
      "metadata": {
        "id": "td78Hs8qd0Lm",
        "colab_type": "code",
        "colab": {}
      },
      "source": [
        ""
      ],
      "execution_count": 0,
      "outputs": []
    },
    {
      "cell_type": "markdown",
      "metadata": {
        "id": "Mqa6ombdG_s7",
        "colab_type": "text"
      },
      "source": [
        "### Break #1!\n",
        "\n"
      ]
    },
    {
      "cell_type": "markdown",
      "metadata": {
        "id": "km-2ZX7pF_h2",
        "colab_type": "text"
      },
      "source": [
        "# Well log input and output using LasIO"
      ]
    },
    {
      "cell_type": "markdown",
      "metadata": {
        "id": "3xS1PNakIi-g",
        "colab_type": "text"
      },
      "source": [
        "LasIO (.las input and output) is one of my all time favorite packages. It's updated often, and it works 99.5% of the time with .las files (well logs, not LiDAR data). The github is [here](https://github.com/kinverarity1/lasio). A quick note is all of this is just examples, no promises of petrophysical sense!"
      ]
    },
    {
      "cell_type": "code",
      "metadata": {
        "id": "f7E2EqpeIic2",
        "colab_type": "code",
        "colab": {}
      },
      "source": [
        "las = lasio.read('4900722147_722147B.las')"
      ],
      "execution_count": 0,
      "outputs": []
    },
    {
      "cell_type": "markdown",
      "metadata": {
        "id": "Txaa55DxKDrr",
        "colab_type": "text"
      },
      "source": [
        "We just read in a las file! Let's do a quick quaility control, and make some plots."
      ]
    },
    {
      "cell_type": "code",
      "metadata": {
        "id": "ZkTyhx2WJ-ed",
        "colab_type": "code",
        "outputId": "d05fb065-fa19-436e-d7d3-98bad99f18cb",
        "colab": {
          "base_uri": "https://localhost:8080/",
          "height": 554
        }
      },
      "source": [
        "las.curves"
      ],
      "execution_count": 0,
      "outputs": [
        {
          "output_type": "execute_result",
          "data": {
            "text/plain": [
              "[CurveItem(mnemonic=DEPT, unit=F, value=, descr=DEPTH (BOREHOLE) {F13.5}, original_mnemonic=DEPT, data.shape=(20587,)),\n",
              " CurveItem(mnemonic=AHO10, unit=OHMM, value=, descr=Array Induction One Foot Resistivity A10 {F13.4}, original_mnemonic=AHO10, data.shape=(20587,)),\n",
              " CurveItem(mnemonic=AHO20, unit=OHMM, value=, descr=Array Induction One Foot Resistivity A20 {F13.4}, original_mnemonic=AHO20, data.shape=(20587,)),\n",
              " CurveItem(mnemonic=AHO30, unit=OHMM, value=, descr=Array Induction One Foot Resistivity A30 {F13.4}, original_mnemonic=AHO30, data.shape=(20587,)),\n",
              " CurveItem(mnemonic=AHO60, unit=OHMM, value=, descr=Array Induction One Foot Resistivity A60 {F13.4}, original_mnemonic=AHO60, data.shape=(20587,)),\n",
              " CurveItem(mnemonic=AHO90, unit=OHMM, value=, descr=Array Induction One Foot Resistivity A90 {F13.4}, original_mnemonic=AHO90, data.shape=(20587,)),\n",
              " CurveItem(mnemonic=BS, unit=IN, value=, descr=Bit Size {F13.4}, original_mnemonic=BS, data.shape=(20587,)),\n",
              " CurveItem(mnemonic=CDF, unit=LBF, value=, descr=Calibrated Downhole Force {F13.4}, original_mnemonic=CDF, data.shape=(20587,)),\n",
              " CurveItem(mnemonic=CTEM, unit=DEGF, value=, descr=Cartridge Temperature {F13.4}, original_mnemonic=CTEM, data.shape=(20587,)),\n",
              " CurveItem(mnemonic=DCAL, unit=IN, value=, descr=Differential Caliper {F13.4}, original_mnemonic=DCAL, data.shape=(20587,)),\n",
              " CurveItem(mnemonic=DPH8, unit=CFCF, value=, descr=HRGD High Resolution Density Porosity {F14.5}, original_mnemonic=DPH8, data.shape=(20587,)),\n",
              " CurveItem(mnemonic=DPHZ, unit=CFCF, value=, descr=HRDD Standard Resolution Density Porosity {F13.4}, original_mnemonic=DPHZ, data.shape=(20587,)),\n",
              " CurveItem(mnemonic=EHGR, unit=GAPI, value=, descr=HiRes Gamma-Ray {F13.4}, original_mnemonic=EHGR, data.shape=(20587,)),\n",
              " CurveItem(mnemonic=FCD, unit=IN, value=, descr=Future Casing Diameter {F13.4}, original_mnemonic=FCD, data.shape=(20587,)),\n",
              " CurveItem(mnemonic=GR, unit=GAPI, value=, descr=Gamma Ray {F13.4}, original_mnemonic=GR, data.shape=(20587,)),\n",
              " CurveItem(mnemonic=HCAL, unit=IN, value=, descr=HRCC Cal. Caliper {F13.4}, original_mnemonic=HCAL, data.shape=(20587,)),\n",
              " CurveItem(mnemonic=HDRA, unit=G/C3, value=, descr=HRDD Density Correction {F13.4}, original_mnemonic=HDRA, data.shape=(20587,)),\n",
              " CurveItem(mnemonic=HGR, unit=GAPI, value=, descr=HiRes Gamma-Ray {F13.4}, original_mnemonic=HGR, data.shape=(20587,)),\n",
              " CurveItem(mnemonic=HMIN, unit=OHMM, value=, descr=MCFL Micro Inverse Resistivity {F13.4}, original_mnemonic=HMIN, data.shape=(20587,)),\n",
              " CurveItem(mnemonic=HMNO, unit=OHMM, value=, descr=MCFL Micro Normal Resistivity {F13.4}, original_mnemonic=HMNO, data.shape=(20587,)),\n",
              " CurveItem(mnemonic=HNPO, unit=CFCF, value=, descr=High Resolution Enhanced Thermal Neutron Porosity {F14.5}, original_mnemonic=HNPO, data.shape=(20587,)),\n",
              " CurveItem(mnemonic=HTNP, unit=CFCF, value=, descr=High Resolution Thermal Neutron Ratio Method {F14.5}, original_mnemonic=HTNP, data.shape=(20587,)),\n",
              " CurveItem(mnemonic=PEF8, unit=, value=, descr=HRDD High Resolution Formation Photoelectric Factor {F14.5}, original_mnemonic=PEF8, data.shape=(20587,)),\n",
              " CurveItem(mnemonic=RHO8, unit=G/C3, value=, descr=HRDD High Resolution Formation Density {F14.5}, original_mnemonic=RHO8, data.shape=(20587,)),\n",
              " CurveItem(mnemonic=RXO8, unit=OHMM, value=, descr=MCFL Invaded Formation Resistivity filtered at 8 inches {F14.5}, original_mnemonic=RXO8, data.shape=(20587,)),\n",
              " CurveItem(mnemonic=RXOI, unit=OHMM, value=, descr=Invaded Formation Resistivity Very High Resolution {F14.5}, original_mnemonic=RXOI, data.shape=(20587,)),\n",
              " CurveItem(mnemonic=SP, unit=MV, value=, descr=Spontaneous Potential {F13.4}, original_mnemonic=SP, data.shape=(20587,)),\n",
              " CurveItem(mnemonic=TENS, unit=LBF, value=, descr=Cable Tension {F14.5}, original_mnemonic=TENS, data.shape=(20587,))]"
            ]
          },
          "metadata": {
            "tags": []
          },
          "execution_count": 34
        }
      ]
    },
    {
      "cell_type": "markdown",
      "metadata": {
        "id": "k1QvFJ5pb3Yf",
        "colab_type": "text"
      },
      "source": [
        "Wow, this well has a lot of curves! OK, we are going to make a data frame for the data in the .las file. This will behave really similar to the previous data frame"
      ]
    },
    {
      "cell_type": "code",
      "metadata": {
        "id": "07Vv8C-3KFWj",
        "colab_type": "code",
        "outputId": "e5101cfe-0512-4561-96f6-6b0876c052b5",
        "colab": {
          "base_uri": "https://localhost:8080/",
          "height": 195
        }
      },
      "source": [
        "data = las.df() # This time we named the dataframe data and not df\n",
        "data.head(3)"
      ],
      "execution_count": 0,
      "outputs": [
        {
          "output_type": "execute_result",
          "data": {
            "text/html": [
              "<div>\n",
              "<style scoped>\n",
              "    .dataframe tbody tr th:only-of-type {\n",
              "        vertical-align: middle;\n",
              "    }\n",
              "\n",
              "    .dataframe tbody tr th {\n",
              "        vertical-align: top;\n",
              "    }\n",
              "\n",
              "    .dataframe thead th {\n",
              "        text-align: right;\n",
              "    }\n",
              "</style>\n",
              "<table border=\"1\" class=\"dataframe\">\n",
              "  <thead>\n",
              "    <tr style=\"text-align: right;\">\n",
              "      <th></th>\n",
              "      <th>AHO10</th>\n",
              "      <th>AHO20</th>\n",
              "      <th>AHO30</th>\n",
              "      <th>AHO60</th>\n",
              "      <th>AHO90</th>\n",
              "      <th>BS</th>\n",
              "      <th>CDF</th>\n",
              "      <th>CTEM</th>\n",
              "      <th>DCAL</th>\n",
              "      <th>DPH8</th>\n",
              "      <th>DPHZ</th>\n",
              "      <th>EHGR</th>\n",
              "      <th>FCD</th>\n",
              "      <th>GR</th>\n",
              "      <th>HCAL</th>\n",
              "      <th>HDRA</th>\n",
              "      <th>HGR</th>\n",
              "      <th>HMIN</th>\n",
              "      <th>HMNO</th>\n",
              "      <th>HNPO</th>\n",
              "      <th>HTNP</th>\n",
              "      <th>PEF8</th>\n",
              "      <th>RHO8</th>\n",
              "      <th>RXO8</th>\n",
              "      <th>RXOI</th>\n",
              "      <th>SP</th>\n",
              "      <th>TENS</th>\n",
              "    </tr>\n",
              "    <tr>\n",
              "      <th>DEPT</th>\n",
              "      <th></th>\n",
              "      <th></th>\n",
              "      <th></th>\n",
              "      <th></th>\n",
              "      <th></th>\n",
              "      <th></th>\n",
              "      <th></th>\n",
              "      <th></th>\n",
              "      <th></th>\n",
              "      <th></th>\n",
              "      <th></th>\n",
              "      <th></th>\n",
              "      <th></th>\n",
              "      <th></th>\n",
              "      <th></th>\n",
              "      <th></th>\n",
              "      <th></th>\n",
              "      <th></th>\n",
              "      <th></th>\n",
              "      <th></th>\n",
              "      <th></th>\n",
              "      <th></th>\n",
              "      <th></th>\n",
              "      <th></th>\n",
              "      <th></th>\n",
              "      <th></th>\n",
              "      <th></th>\n",
              "    </tr>\n",
              "  </thead>\n",
              "  <tbody>\n",
              "    <tr>\n",
              "      <th>264.57275</th>\n",
              "      <td>2.9255</td>\n",
              "      <td>3.2413</td>\n",
              "      <td>3.4473</td>\n",
              "      <td>3.7072</td>\n",
              "      <td>3.5825</td>\n",
              "      <td>8.75</td>\n",
              "      <td>714.3266</td>\n",
              "      <td>94.4001</td>\n",
              "      <td>0.0157</td>\n",
              "      <td>-0.51861</td>\n",
              "      <td>-0.5117</td>\n",
              "      <td>62.9528</td>\n",
              "      <td>7.0</td>\n",
              "      <td>57.5765</td>\n",
              "      <td>8.7657</td>\n",
              "      <td>0.8911</td>\n",
              "      <td>61.5717</td>\n",
              "      <td>0.1018</td>\n",
              "      <td>0.1102</td>\n",
              "      <td>0.4626</td>\n",
              "      <td>0.50474</td>\n",
              "      <td>9.98008</td>\n",
              "      <td>3.5057</td>\n",
              "      <td>0.09612</td>\n",
              "      <td>0.04418</td>\n",
              "      <td>-75.6761</td>\n",
              "      <td>903.50800</td>\n",
              "    </tr>\n",
              "    <tr>\n",
              "      <th>264.65608</th>\n",
              "      <td>2.9255</td>\n",
              "      <td>3.2413</td>\n",
              "      <td>3.4473</td>\n",
              "      <td>3.7072</td>\n",
              "      <td>3.5825</td>\n",
              "      <td>8.75</td>\n",
              "      <td>706.3282</td>\n",
              "      <td>94.4001</td>\n",
              "      <td>0.0157</td>\n",
              "      <td>-0.51861</td>\n",
              "      <td>-0.5117</td>\n",
              "      <td>62.9528</td>\n",
              "      <td>7.0</td>\n",
              "      <td>57.5765</td>\n",
              "      <td>8.7657</td>\n",
              "      <td>0.8911</td>\n",
              "      <td>61.5717</td>\n",
              "      <td>0.1018</td>\n",
              "      <td>0.1102</td>\n",
              "      <td>0.4626</td>\n",
              "      <td>0.50474</td>\n",
              "      <td>9.98008</td>\n",
              "      <td>3.5057</td>\n",
              "      <td>0.09612</td>\n",
              "      <td>0.04418</td>\n",
              "      <td>-75.5199</td>\n",
              "      <td>899.50816</td>\n",
              "    </tr>\n",
              "    <tr>\n",
              "      <th>264.73941</th>\n",
              "      <td>2.9255</td>\n",
              "      <td>3.2413</td>\n",
              "      <td>3.4473</td>\n",
              "      <td>3.7072</td>\n",
              "      <td>3.5825</td>\n",
              "      <td>8.75</td>\n",
              "      <td>698.3297</td>\n",
              "      <td>94.4001</td>\n",
              "      <td>0.0157</td>\n",
              "      <td>-0.51861</td>\n",
              "      <td>-0.5117</td>\n",
              "      <td>61.1155</td>\n",
              "      <td>7.0</td>\n",
              "      <td>57.5765</td>\n",
              "      <td>8.7657</td>\n",
              "      <td>0.8911</td>\n",
              "      <td>59.7747</td>\n",
              "      <td>0.1018</td>\n",
              "      <td>0.1102</td>\n",
              "      <td>0.4626</td>\n",
              "      <td>0.50474</td>\n",
              "      <td>9.98008</td>\n",
              "      <td>3.5057</td>\n",
              "      <td>0.09612</td>\n",
              "      <td>0.04418</td>\n",
              "      <td>-75.3636</td>\n",
              "      <td>895.50832</td>\n",
              "    </tr>\n",
              "  </tbody>\n",
              "</table>\n",
              "</div>"
            ],
            "text/plain": [
              "            AHO10   AHO20   AHO30   AHO60  ...     RXO8     RXOI       SP       TENS\n",
              "DEPT                                       ...                                      \n",
              "264.57275  2.9255  3.2413  3.4473  3.7072  ...  0.09612  0.04418 -75.6761  903.50800\n",
              "264.65608  2.9255  3.2413  3.4473  3.7072  ...  0.09612  0.04418 -75.5199  899.50816\n",
              "264.73941  2.9255  3.2413  3.4473  3.7072  ...  0.09612  0.04418 -75.3636  895.50832\n",
              "\n",
              "[3 rows x 27 columns]"
            ]
          },
          "metadata": {
            "tags": []
          },
          "execution_count": 35
        }
      ]
    },
    {
      "cell_type": "markdown",
      "metadata": {
        "id": "oFV_WvFJKegu",
        "colab_type": "text"
      },
      "source": [
        "Scroll around! If you want to get a handle on stats of your well curves, using the describe function on a dataframe is awesome. "
      ]
    },
    {
      "cell_type": "code",
      "metadata": {
        "id": "o54RFQxzPeoK",
        "colab_type": "code",
        "colab": {}
      },
      "source": [
        "data.to_csv('well_data.csv') # just saved it out!"
      ],
      "execution_count": 0,
      "outputs": []
    },
    {
      "cell_type": "markdown",
      "metadata": {
        "id": "Edr96Ez9O3d7",
        "colab_type": "text"
      },
      "source": [
        "Once this is in a data frame, you can export the curve data as a csv! This can be used in excel, spotfire, matlab or any other program you are more familiar with. This alone saves tons of time! While I prefer python, I know it's not for everyone."
      ]
    },
    {
      "cell_type": "code",
      "metadata": {
        "id": "MYIJvIteKatN",
        "colab_type": "code",
        "outputId": "8139bade-95c1-4b88-da76-90f0c45db6e8",
        "colab": {
          "base_uri": "https://localhost:8080/",
          "height": 320
        }
      },
      "source": [
        "data.describe()"
      ],
      "execution_count": 0,
      "outputs": [
        {
          "output_type": "execute_result",
          "data": {
            "text/html": [
              "<div>\n",
              "<style scoped>\n",
              "    .dataframe tbody tr th:only-of-type {\n",
              "        vertical-align: middle;\n",
              "    }\n",
              "\n",
              "    .dataframe tbody tr th {\n",
              "        vertical-align: top;\n",
              "    }\n",
              "\n",
              "    .dataframe thead th {\n",
              "        text-align: right;\n",
              "    }\n",
              "</style>\n",
              "<table border=\"1\" class=\"dataframe\">\n",
              "  <thead>\n",
              "    <tr style=\"text-align: right;\">\n",
              "      <th></th>\n",
              "      <th>AHO10</th>\n",
              "      <th>AHO20</th>\n",
              "      <th>AHO30</th>\n",
              "      <th>AHO60</th>\n",
              "      <th>AHO90</th>\n",
              "      <th>BS</th>\n",
              "      <th>CDF</th>\n",
              "      <th>CTEM</th>\n",
              "      <th>DCAL</th>\n",
              "      <th>DPH8</th>\n",
              "      <th>DPHZ</th>\n",
              "      <th>EHGR</th>\n",
              "      <th>FCD</th>\n",
              "      <th>GR</th>\n",
              "      <th>HCAL</th>\n",
              "      <th>HDRA</th>\n",
              "      <th>HGR</th>\n",
              "      <th>HMIN</th>\n",
              "      <th>HMNO</th>\n",
              "      <th>HNPO</th>\n",
              "      <th>HTNP</th>\n",
              "      <th>PEF8</th>\n",
              "      <th>RHO8</th>\n",
              "      <th>RXO8</th>\n",
              "      <th>RXOI</th>\n",
              "      <th>SP</th>\n",
              "      <th>TENS</th>\n",
              "    </tr>\n",
              "  </thead>\n",
              "  <tbody>\n",
              "    <tr>\n",
              "      <th>count</th>\n",
              "      <td>20587.000000</td>\n",
              "      <td>20587.000000</td>\n",
              "      <td>20587.000000</td>\n",
              "      <td>20587.000000</td>\n",
              "      <td>20587.000000</td>\n",
              "      <td>20587.00</td>\n",
              "      <td>20587.000000</td>\n",
              "      <td>20587.000000</td>\n",
              "      <td>20587.000000</td>\n",
              "      <td>20587.000000</td>\n",
              "      <td>20587.000000</td>\n",
              "      <td>20587.000000</td>\n",
              "      <td>20587.0</td>\n",
              "      <td>20587.000000</td>\n",
              "      <td>20587.000000</td>\n",
              "      <td>20526.000000</td>\n",
              "      <td>20587.000000</td>\n",
              "      <td>20587.000000</td>\n",
              "      <td>20587.000000</td>\n",
              "      <td>20587.000000</td>\n",
              "      <td>20587.000000</td>\n",
              "      <td>20526.000000</td>\n",
              "      <td>20526.000000</td>\n",
              "      <td>20587.000000</td>\n",
              "      <td>20587.000000</td>\n",
              "      <td>20587.000000</td>\n",
              "      <td>20587.000000</td>\n",
              "    </tr>\n",
              "    <tr>\n",
              "      <th>mean</th>\n",
              "      <td>32.252442</td>\n",
              "      <td>34.950929</td>\n",
              "      <td>31.329049</td>\n",
              "      <td>27.927270</td>\n",
              "      <td>27.410640</td>\n",
              "      <td>8.75</td>\n",
              "      <td>676.743216</td>\n",
              "      <td>98.415896</td>\n",
              "      <td>0.604529</td>\n",
              "      <td>1.979741</td>\n",
              "      <td>1.983869</td>\n",
              "      <td>103.408938</td>\n",
              "      <td>7.0</td>\n",
              "      <td>98.657851</td>\n",
              "      <td>9.354361</td>\n",
              "      <td>0.020861</td>\n",
              "      <td>98.662439</td>\n",
              "      <td>32.480518</td>\n",
              "      <td>30.536038</td>\n",
              "      <td>0.354168</td>\n",
              "      <td>0.350520</td>\n",
              "      <td>2.633982</td>\n",
              "      <td>2.378150</td>\n",
              "      <td>75.528476</td>\n",
              "      <td>95.113983</td>\n",
              "      <td>-204.752749</td>\n",
              "      <td>1127.159692</td>\n",
              "    </tr>\n",
              "    <tr>\n",
              "      <th>std</th>\n",
              "      <td>128.857713</td>\n",
              "      <td>140.897812</td>\n",
              "      <td>103.180496</td>\n",
              "      <td>65.327454</td>\n",
              "      <td>62.005216</td>\n",
              "      <td>0.00</td>\n",
              "      <td>58.856309</td>\n",
              "      <td>2.063567</td>\n",
              "      <td>0.763592</td>\n",
              "      <td>33.070237</td>\n",
              "      <td>33.070029</td>\n",
              "      <td>29.508451</td>\n",
              "      <td>0.0</td>\n",
              "      <td>27.748973</td>\n",
              "      <td>0.762442</td>\n",
              "      <td>0.115197</td>\n",
              "      <td>28.603177</td>\n",
              "      <td>122.967020</td>\n",
              "      <td>110.639868</td>\n",
              "      <td>0.122171</td>\n",
              "      <td>0.109249</td>\n",
              "      <td>1.030962</td>\n",
              "      <td>0.243767</td>\n",
              "      <td>335.963370</td>\n",
              "      <td>427.417809</td>\n",
              "      <td>25.678274</td>\n",
              "      <td>169.538997</td>\n",
              "    </tr>\n",
              "    <tr>\n",
              "      <th>min</th>\n",
              "      <td>1.390700</td>\n",
              "      <td>1.575200</td>\n",
              "      <td>1.617800</td>\n",
              "      <td>1.696000</td>\n",
              "      <td>1.692500</td>\n",
              "      <td>8.75</td>\n",
              "      <td>-47.630800</td>\n",
              "      <td>94.400100</td>\n",
              "      <td>-5.538100</td>\n",
              "      <td>-1.199270</td>\n",
              "      <td>-0.801500</td>\n",
              "      <td>14.501400</td>\n",
              "      <td>7.0</td>\n",
              "      <td>14.818800</td>\n",
              "      <td>3.211900</td>\n",
              "      <td>-0.024500</td>\n",
              "      <td>13.126700</td>\n",
              "      <td>0.088000</td>\n",
              "      <td>0.098000</td>\n",
              "      <td>0.079420</td>\n",
              "      <td>0.101640</td>\n",
              "      <td>0.900000</td>\n",
              "      <td>1.207080</td>\n",
              "      <td>0.079030</td>\n",
              "      <td>0.044180</td>\n",
              "      <td>-258.340900</td>\n",
              "      <td>265.016600</td>\n",
              "    </tr>\n",
              "    <tr>\n",
              "      <th>25%</th>\n",
              "      <td>3.698500</td>\n",
              "      <td>4.027950</td>\n",
              "      <td>4.242050</td>\n",
              "      <td>4.588850</td>\n",
              "      <td>4.585250</td>\n",
              "      <td>8.75</td>\n",
              "      <td>657.181250</td>\n",
              "      <td>96.376600</td>\n",
              "      <td>0.322000</td>\n",
              "      <td>0.121195</td>\n",
              "      <td>0.130000</td>\n",
              "      <td>82.076900</td>\n",
              "      <td>7.0</td>\n",
              "      <td>78.332950</td>\n",
              "      <td>9.065300</td>\n",
              "      <td>-0.009400</td>\n",
              "      <td>78.283300</td>\n",
              "      <td>8.775450</td>\n",
              "      <td>7.776900</td>\n",
              "      <td>0.274150</td>\n",
              "      <td>0.276935</td>\n",
              "      <td>2.176795</td>\n",
              "      <td>2.323168</td>\n",
              "      <td>10.977510</td>\n",
              "      <td>11.351180</td>\n",
              "      <td>-218.790850</td>\n",
              "      <td>993.186120</td>\n",
              "    </tr>\n",
              "    <tr>\n",
              "      <th>50%</th>\n",
              "      <td>17.888500</td>\n",
              "      <td>18.315800</td>\n",
              "      <td>18.586600</td>\n",
              "      <td>18.668400</td>\n",
              "      <td>18.827100</td>\n",
              "      <td>8.75</td>\n",
              "      <td>677.837400</td>\n",
              "      <td>98.353000</td>\n",
              "      <td>0.570400</td>\n",
              "      <td>0.156360</td>\n",
              "      <td>0.160700</td>\n",
              "      <td>108.148800</td>\n",
              "      <td>7.0</td>\n",
              "      <td>102.271700</td>\n",
              "      <td>9.318800</td>\n",
              "      <td>-0.004600</td>\n",
              "      <td>102.443300</td>\n",
              "      <td>18.257100</td>\n",
              "      <td>18.035600</td>\n",
              "      <td>0.330620</td>\n",
              "      <td>0.328380</td>\n",
              "      <td>2.580130</td>\n",
              "      <td>2.392280</td>\n",
              "      <td>29.029920</td>\n",
              "      <td>29.143410</td>\n",
              "      <td>-201.691900</td>\n",
              "      <td>1135.970200</td>\n",
              "    </tr>\n",
              "    <tr>\n",
              "      <th>75%</th>\n",
              "      <td>29.044600</td>\n",
              "      <td>29.038150</td>\n",
              "      <td>29.255450</td>\n",
              "      <td>29.894550</td>\n",
              "      <td>29.507250</td>\n",
              "      <td>8.75</td>\n",
              "      <td>702.729100</td>\n",
              "      <td>100.329500</td>\n",
              "      <td>0.829150</td>\n",
              "      <td>0.198580</td>\n",
              "      <td>0.202400</td>\n",
              "      <td>124.792850</td>\n",
              "      <td>7.0</td>\n",
              "      <td>119.445750</td>\n",
              "      <td>9.579500</td>\n",
              "      <td>0.009400</td>\n",
              "      <td>119.703650</td>\n",
              "      <td>26.987650</td>\n",
              "      <td>26.212000</td>\n",
              "      <td>0.408290</td>\n",
              "      <td>0.406300</td>\n",
              "      <td>2.905518</td>\n",
              "      <td>2.450400</td>\n",
              "      <td>46.963240</td>\n",
              "      <td>48.894250</td>\n",
              "      <td>-186.484350</td>\n",
              "      <td>1265.619160</td>\n",
              "    </tr>\n",
              "    <tr>\n",
              "      <th>max</th>\n",
              "      <td>1950.000000</td>\n",
              "      <td>1950.000000</td>\n",
              "      <td>1699.496400</td>\n",
              "      <td>1294.100300</td>\n",
              "      <td>1097.065100</td>\n",
              "      <td>8.75</td>\n",
              "      <td>794.634900</td>\n",
              "      <td>100.329500</td>\n",
              "      <td>5.340600</td>\n",
              "      <td>607.212100</td>\n",
              "      <td>607.212100</td>\n",
              "      <td>217.478100</td>\n",
              "      <td>7.0</td>\n",
              "      <td>194.760500</td>\n",
              "      <td>14.090600</td>\n",
              "      <td>2.109400</td>\n",
              "      <td>211.141600</td>\n",
              "      <td>2065.122000</td>\n",
              "      <td>1849.720400</td>\n",
              "      <td>1.174630</td>\n",
              "      <td>1.200880</td>\n",
              "      <td>10.000000</td>\n",
              "      <td>4.628800</td>\n",
              "      <td>4896.128690</td>\n",
              "      <td>4960.920260</td>\n",
              "      <td>-74.894900</td>\n",
              "      <td>1634.082460</td>\n",
              "    </tr>\n",
              "  </tbody>\n",
              "</table>\n",
              "</div>"
            ],
            "text/plain": [
              "              AHO10         AHO20  ...            SP          TENS\n",
              "count  20587.000000  20587.000000  ...  20587.000000  20587.000000\n",
              "mean      32.252442     34.950929  ...   -204.752749   1127.159692\n",
              "std      128.857713    140.897812  ...     25.678274    169.538997\n",
              "min        1.390700      1.575200  ...   -258.340900    265.016600\n",
              "25%        3.698500      4.027950  ...   -218.790850    993.186120\n",
              "50%       17.888500     18.315800  ...   -201.691900   1135.970200\n",
              "75%       29.044600     29.038150  ...   -186.484350   1265.619160\n",
              "max     1950.000000   1950.000000  ...    -74.894900   1634.082460\n",
              "\n",
              "[8 rows x 27 columns]"
            ]
          },
          "metadata": {
            "tags": []
          },
          "execution_count": 37
        }
      ]
    },
    {
      "cell_type": "markdown",
      "metadata": {
        "id": "F8fYijj0OxGd",
        "colab_type": "text"
      },
      "source": [
        "If you want to save out this table as a csv, you can do that in one line:"
      ]
    },
    {
      "cell_type": "code",
      "metadata": {
        "id": "ypBfvWdZOm67",
        "colab_type": "code",
        "colab": {}
      },
      "source": [
        "data.describe().to_csv(\"petro-stats.csv\")"
      ],
      "execution_count": 0,
      "outputs": []
    },
    {
      "cell_type": "code",
      "metadata": {
        "id": "hWf-Cn4qK5s8",
        "colab_type": "code",
        "outputId": "cf918114-2df7-4740-b4eb-da7608894571",
        "colab": {
          "base_uri": "https://localhost:8080/",
          "height": 35
        }
      },
      "source": [
        "data.AHO10.min() # If you just want one of the stats"
      ],
      "execution_count": 0,
      "outputs": [
        {
          "output_type": "execute_result",
          "data": {
            "text/plain": [
              "1.3907"
            ]
          },
          "metadata": {
            "tags": []
          },
          "execution_count": 39
        }
      ]
    },
    {
      "cell_type": "markdown",
      "metadata": {
        "id": "3xf9-P3pNA3H",
        "colab_type": "text"
      },
      "source": [
        "Let's use the quantile function to make some quick cutoffs (will be used in the future)."
      ]
    },
    {
      "cell_type": "code",
      "metadata": {
        "id": "RtkrAj0ULbrU",
        "colab_type": "code",
        "outputId": "dbd90cf3-7dad-4bcc-99cd-b52e5da9bea6",
        "colab": {
          "base_uri": "https://localhost:8080/",
          "height": 35
        }
      },
      "source": [
        "lowGR = data.GR.quantile(.20)\n",
        "lowGR"
      ],
      "execution_count": 0,
      "outputs": [
        {
          "output_type": "execute_result",
          "data": {
            "text/plain": [
              "72.89142"
            ]
          },
          "metadata": {
            "tags": []
          },
          "execution_count": 41
        }
      ]
    },
    {
      "cell_type": "code",
      "metadata": {
        "id": "FmND25DeME16",
        "colab_type": "code",
        "outputId": "33033ade-10fa-4549-f0e7-2ccac1f2bed7",
        "colab": {
          "base_uri": "https://localhost:8080/",
          "height": 35
        }
      },
      "source": [
        "highRES = data.AHO90.quantile(.90)\n",
        "highRES"
      ],
      "execution_count": 0,
      "outputs": [
        {
          "output_type": "execute_result",
          "data": {
            "text/plain": [
              "46.89314000000001"
            ]
          },
          "metadata": {
            "tags": []
          },
          "execution_count": 44
        }
      ]
    },
    {
      "cell_type": "markdown",
      "metadata": {
        "id": "epZJ6d08Pzfs",
        "colab_type": "text"
      },
      "source": [
        "Feel free to make your own cutoffs here!"
      ]
    },
    {
      "cell_type": "code",
      "metadata": {
        "id": "0Y7RJBGINS4q",
        "colab_type": "code",
        "colab": {}
      },
      "source": [
        ""
      ],
      "execution_count": 0,
      "outputs": []
    },
    {
      "cell_type": "markdown",
      "metadata": {
        "id": "_MJtiQniNmo5",
        "colab_type": "text"
      },
      "source": [
        "### Plotting up well log data"
      ]
    },
    {
      "cell_type": "code",
      "metadata": {
        "id": "Y8Bi0m4YNoNJ",
        "colab_type": "code",
        "outputId": "8ad3c9dc-5d0d-480e-c768-b119c0abba8b",
        "colab": {
          "base_uri": "https://localhost:8080/",
          "height": 406
        }
      },
      "source": [
        "# Cross plot comparing GR to Deep Resistivity\n",
        "plt.figure(figsize=(5,4), dpi=100) # figure size and dpi you can set here\n",
        "plt.scatter(data.GR.values, data.AHO90.values, color='blue', marker='.', alpha=0.3)\n",
        "plt.yscale('log') #log scale for Y axis\n",
        "\n",
        "plt.grid(True)\n",
        "plt.xlabel('GR', size=16)\n",
        "plt.ylabel('Deep Resistivity', size=16)"
      ],
      "execution_count": 0,
      "outputs": [
        {
          "output_type": "execute_result",
          "data": {
            "text/plain": [
              "Text(0, 0.5, 'Deep Resistivity')"
            ]
          },
          "metadata": {
            "tags": []
          },
          "execution_count": 50
        },
        {
          "output_type": "display_data",
          "data": {
            "image/png": "[encoded data removed]",
            "text/plain": [
              "<Figure size 500x400 with 1 Axes>"
            ]
          },
          "metadata": {
            "tags": [],
            "needs_background": "light"
          }
        }
      ]
    },
    {
      "cell_type": "code",
      "metadata": {
        "id": "qKQoCqthdhqM",
        "colab_type": "code",
        "outputId": "81609758-0b6d-43d9-fd91-bb44c714be4d",
        "colab": {
          "base_uri": "https://localhost:8080/",
          "height": 306
        }
      },
      "source": [
        "# lets make a histogram of the GR Curve, with 20 bins, in green\n",
        "plt.hist(data.GR.values, bins = 20, color='g', alpha = 0.5)\n",
        "plt.xlabel('GR', size=16)\n",
        "plt.ylabel('Count', size=16)"
      ],
      "execution_count": 0,
      "outputs": [
        {
          "output_type": "execute_result",
          "data": {
            "text/plain": [
              "Text(0, 0.5, 'Count')"
            ]
          },
          "metadata": {
            "tags": []
          },
          "execution_count": 51
        },
        {
          "output_type": "display_data",
          "data": {
            "image/png": "[encoded data removed]",
            "text/plain": [
              "<Figure size 432x288 with 1 Axes>"
            ]
          },
          "metadata": {
            "tags": [],
            "needs_background": "light"
          }
        }
      ]
    },
    {
      "cell_type": "code",
      "metadata": {
        "id": "zL3qgjHoeZDm",
        "colab_type": "code",
        "outputId": "bc2e5366-b8f3-4d09-af34-bef3da072d7d",
        "colab": {
          "base_uri": "https://localhost:8080/",
          "height": 670
        }
      },
      "source": [
        "# line plot of the Gamma curve\n",
        "plt.figure(figsize=(4,8), dpi=100)\n",
        "plt.plot(data.GR.values, data.index, color='g')\n",
        "plt.ylabel('Depth in Feet', size=16)\n",
        "plt.ylim(2000,0)\n",
        "plt.grid(True)\n"
      ],
      "execution_count": 0,
      "outputs": [
        {
          "output_type": "display_data",
          "data": {
            "image/png": "[encoded data removed]",
            "text/plain": [
              "<Figure size 400x800 with 1 Axes>"
            ]
          },
          "metadata": {
            "tags": [],
            "needs_background": "light"
          }
        }
      ]
    },
    {
      "cell_type": "markdown",
      "metadata": {
        "id": "VtSEUgGzzSXS",
        "colab_type": "text"
      },
      "source": [
        "Let's add a depth track for deep resistivity, a title and a few other additional widigits. Also we will use the well name for the title:"
      ]
    },
    {
      "cell_type": "code",
      "metadata": {
        "id": "HJvsTdb1_tOu",
        "colab_type": "code",
        "outputId": "bf09a1aa-5f39-4c01-ac90-9ad7a596e317",
        "colab": {
          "base_uri": "https://localhost:8080/",
          "height": 36
        }
      },
      "source": [
        "las.header['Well'].WELL.value # we can pull the well name directly from the header"
      ],
      "execution_count": 0,
      "outputs": [
        {
          "output_type": "execute_result",
          "data": {
            "text/plain": [
              "'AR FEE 1791 15-23'"
            ]
          },
          "metadata": {
            "tags": []
          },
          "execution_count": 50
        }
      ]
    },
    {
      "cell_type": "code",
      "metadata": {
        "colab_type": "code",
        "outputId": "3281c306-9307-4d29-8a16-e4de084725cc",
        "id": "gef-2TAez7E0",
        "colab": {
          "base_uri": "https://localhost:8080/",
          "height": 689
        }
      },
      "source": [
        "# line plot of the Gamma curve\n",
        "plt.figure(figsize=(6,7), dpi=100)\n",
        "\n",
        "plt.suptitle(las.header['Well'].WELL.value, size =16) # overall title\n",
        "\n",
        "plt.subplot(121) # if we are going to make two plots, matplotlib calls it a subplot\n",
        "plt.plot(data.GR.values, data.index, color='g') # the actual plot!\n",
        "plt.ylabel('Depth in Feet', size=16)\n",
        "plt.xlabel('API', size=16)\n",
        "plt.ylim(2000,0) # the limit is reversed to go deep down\n",
        "plt.grid(True) # Turning the grid on\n",
        "\n",
        "plt.subplot(122)\n",
        "plt.plot(data.AHO10.values, data.index, color='grey')\n",
        "plt.plot(data.AHO90.values, data.index, color='black')\n",
        "plt.xscale('log')\n",
        "plt.grid(True)\n",
        "plt.xlim(0.4,4000)\n",
        "plt.ylim(2000,0)\n",
        "plt.xlabel('OhmM', size=16)\n",
        "plt.tick_params(labelleft=False)  \n",
        "\n",
        "plt.savefig('awesome-plot.pdf', dpi=200)"
      ],
      "execution_count": 0,
      "outputs": [
        {
          "output_type": "display_data",
          "data": {
            "image/png": "[encoded data removed]",
            "text/plain": [
              "<Figure size 600x700 with 2 Axes>"
            ]
          },
          "metadata": {
            "tags": [],
            "needs_background": "light"
          }
        }
      ]
    },
    {
      "cell_type": "markdown",
      "metadata": {
        "id": "EKrLZTmDgAmi",
        "colab_type": "text"
      },
      "source": [
        "Let's add a pay flag, remember the cutoffs we calcualted above? Let's use those. Using pythonic nomenclature, we will set a true flag, only when both conditions are met."
      ]
    },
    {
      "cell_type": "code",
      "metadata": {
        "id": "yNjH3HDSVsxj",
        "colab_type": "code",
        "outputId": "4667d11d-6a3a-405e-beb2-4c763a889090",
        "colab": {
          "base_uri": "https://localhost:8080/",
          "height": 35
        }
      },
      "source": [
        "payMapper = (data.GR.values <= lowGR) & (data.AHO90.values >= highRES)\n",
        "np.unique(payMapper)"
      ],
      "execution_count": 0,
      "outputs": [
        {
          "output_type": "execute_result",
          "data": {
            "text/plain": [
              "array([False,  True])"
            ]
          },
          "metadata": {
            "tags": []
          },
          "execution_count": 64
        }
      ]
    },
    {
      "cell_type": "markdown",
      "metadata": {
        "id": "DHOnuLS5LpFS",
        "colab_type": "text"
      },
      "source": [
        "If we want to see how many true and false statements there are:"
      ]
    },
    {
      "cell_type": "code",
      "metadata": {
        "id": "wYVkxbLtLk3f",
        "colab_type": "code",
        "outputId": "50284f01-52a7-4116-a184-fa7087101064",
        "colab": {
          "base_uri": "https://localhost:8080/",
          "height": 35
        }
      },
      "source": [
        "np.bincount(payMapper)"
      ],
      "execution_count": 0,
      "outputs": [
        {
          "output_type": "execute_result",
          "data": {
            "text/plain": [
              "array([18775,  1812])"
            ]
          },
          "metadata": {
            "tags": []
          },
          "execution_count": 66
        }
      ]
    },
    {
      "cell_type": "markdown",
      "metadata": {
        "id": "KP5-eLVgkHGH",
        "colab_type": "text"
      },
      "source": [
        "So the GR values have to be below the cutoff, and resistivity have to be above the cutoff."
      ]
    },
    {
      "cell_type": "code",
      "metadata": {
        "id": "ycGj3S7ZhN-j",
        "colab_type": "code",
        "outputId": "e3026f23-fcab-45b2-92f7-7a1baaae48a8",
        "colab": {
          "base_uri": "https://localhost:8080/",
          "height": 700
        }
      },
      "source": [
        "# line plot of the Gamma curve\n",
        "plt.figure(figsize=(5,8), dpi=100)\n",
        "\n",
        "plt.subplot(131) # the subplot changed to allow for 3 columns\n",
        "plt.plot(data.GR.values, data.index, color='g')\n",
        "plt.ylabel('Depth in Feet', size=16)\n",
        "plt.xlabel('API', size=16)\n",
        "plt.ylim(2000,0)\n",
        "plt.grid(True)\n",
        "\n",
        "plt.subplot(132) # this is the new pay flag plot\n",
        "plt.fill_between(payMapper, data.index, color='g') # used fill between, not plot\n",
        "plt.ylim(2000,0)\n",
        "plt.tick_params(labelleft=False)  \n",
        "plt.xlabel('Pay Flag', size=16)\n",
        "plt.grid(True)\n",
        "\n",
        "plt.subplot(133)\n",
        "plt.plot(data.AHO90.values, data.index, color='black')\n",
        "plt.xscale('log')\n",
        "plt.grid(True)\n",
        "plt.xlim(0.4,4000)\n",
        "plt.ylim(2000,0)\n",
        "plt.xlabel('OhmM', size=16)\n",
        "plt.tick_params(labelleft=False)  \n",
        "\n"
      ],
      "execution_count": 0,
      "outputs": [
        {
          "output_type": "display_data",
          "data": {
            "image/png": "[encoded data removed]",
            "text/plain": [
              "<Figure size 500x800 with 3 Axes>"
            ]
          },
          "metadata": {
            "tags": [],
            "needs_background": "light"
          }
        }
      ]
    },
    {
      "cell_type": "markdown",
      "metadata": {
        "id": "js-ScaoWjGfb",
        "colab_type": "text"
      },
      "source": [
        "Little heavy on the pay flag! But a good template for future work. Can be used for any sort of cutoff, or statistical analysis. Mess around with a plot below!"
      ]
    },
    {
      "cell_type": "code",
      "metadata": {
        "id": "t4lvntH-U_Cy",
        "colab_type": "code",
        "colab": {}
      },
      "source": [
        ""
      ],
      "execution_count": 0,
      "outputs": []
    },
    {
      "cell_type": "markdown",
      "metadata": {
        "id": "SP_g0bcExVTG",
        "colab_type": "text"
      },
      "source": [
        "### Break #2"
      ]
    },
    {
      "cell_type": "markdown",
      "metadata": {
        "id": "Wf5zQpsWxSfy",
        "colab_type": "text"
      },
      "source": [
        "# Striplog"
      ]
    },
    {
      "cell_type": "markdown",
      "metadata": {
        "id": "Udd77REeyB_I",
        "colab_type": "text"
      },
      "source": [
        "Striplog is an awesome package for  basic graphic logs, stratigraphic information, formations, and other geo stuff. The github is [here](https://github.com/agile-geoscience/striplog). This heavily borrows from [tutorials](https://github.com/agile-geoscience/striplog/tree/master/tutorial)."
      ]
    },
    {
      "cell_type": "code",
      "metadata": {
        "id": "cEKJUNO8xUcj",
        "colab_type": "code",
        "outputId": "7cdebc02-a9aa-4a52-e216-4b9fdaef2cb9",
        "colab": {
          "base_uri": "https://localhost:8080/",
          "height": 369
        }
      },
      "source": [
        "!pip install striplog"
      ],
      "execution_count": 0,
      "outputs": [
        {
          "output_type": "stream",
          "text": [
            "Collecting striplog\n",
            "\u001b[?25l  Downloading https://files.pythonhosted.org/packages/65/e4/905f52751578467f5a529e053125c1b9d4938a3c757dd6e1882d7763e457/striplog-0.8.5.tar.gz (76kB)\n",
            "\u001b[K     |████████████████████████████████| 81kB 3.9MB/s \n",
            "\u001b[?25hRequirement already satisfied: numpy in /usr/local/lib/python3.6/dist-packages (from striplog) (1.18.4)\n",
            "Requirement already satisfied: matplotlib in /usr/local/lib/python3.6/dist-packages (from striplog) (3.2.1)\n",
            "Requirement already satisfied: scipy in /usr/local/lib/python3.6/dist-packages (from striplog) (1.4.1)\n",
            "Requirement already satisfied: python-dateutil>=2.1 in /usr/local/lib/python3.6/dist-packages (from matplotlib->striplog) (2.8.1)\n",
            "Requirement already satisfied: pyparsing!=2.0.4,!=2.1.2,!=2.1.6,>=2.0.1 in /usr/local/lib/python3.6/dist-packages (from matplotlib->striplog) (2.4.7)\n",
            "Requirement already satisfied: cycler>=0.10 in /usr/local/lib/python3.6/dist-packages (from matplotlib->striplog) (0.10.0)\n",
            "Requirement already satisfied: kiwisolver>=1.0.1 in /usr/local/lib/python3.6/dist-packages (from matplotlib->striplog) (1.2.0)\n",
            "Requirement already satisfied: six>=1.5 in /usr/local/lib/python3.6/dist-packages (from python-dateutil>=2.1->matplotlib->striplog) (1.12.0)\n",
            "Building wheels for collected packages: striplog\n",
            "  Building wheel for striplog (setup.py) ... \u001b[?25l\u001b[?25hdone\n",
            "  Created wheel for striplog: filename=striplog-0.8.5-cp36-none-any.whl size=80744 sha256=0496678daabc16d9b161f987980b7e919b8e16e250ae5ea9713eee7f8afc0281\n",
            "  Stored in directory: /root/.cache/pip/wheels/a6/09/bd/87093a5be4a55cc7cacf9668e2dc0f3c905a1621b120af4820\n",
            "Successfully built striplog\n",
            "Installing collected packages: striplog\n",
            "Successfully installed striplog-0.8.5\n"
          ],
          "name": "stdout"
        }
      ]
    },
    {
      "cell_type": "code",
      "metadata": {
        "id": "fv2DpRBSyzyE",
        "colab_type": "code",
        "outputId": "413ffe16-0a90-4a5f-b4ce-b0b65b21e456",
        "colab": {
          "base_uri": "https://localhost:8080/",
          "height": 35
        }
      },
      "source": [
        "import striplog\n",
        "striplog.__version__ #if this fails, just re run the above cells"
      ],
      "execution_count": 0,
      "outputs": [
        {
          "output_type": "execute_result",
          "data": {
            "text/plain": [
              "'0.8.5'"
            ]
          },
          "metadata": {
            "tags": []
          },
          "execution_count": 19
        }
      ]
    },
    {
      "cell_type": "markdown",
      "metadata": {
        "id": "4aWoVp2-zUau",
        "colab_type": "text"
      },
      "source": [
        "### Lexicon"
      ]
    },
    {
      "cell_type": "markdown",
      "metadata": {
        "id": "3ePFvbCHTM_r",
        "colab_type": "text"
      },
      "source": [
        "Striplog has a lot of geowords already preloaded. Think sand, shale, mudstone, salt, etc:"
      ]
    },
    {
      "cell_type": "code",
      "metadata": {
        "id": "wfxPTtexy7B-",
        "colab_type": "code",
        "outputId": "bf909d24-48d9-4187-a886-175c3a522574",
        "colab": {
          "base_uri": "https://localhost:8080/",
          "height": 183
        }
      },
      "source": [
        "from striplog import Lexicon\n",
        "print(Lexicon.__doc__)"
      ],
      "execution_count": 0,
      "outputs": [
        {
          "output_type": "stream",
          "text": [
            "\n",
            "    A Lexicon is a dictionary of 'types' and regex patterns.\n",
            "\n",
            "    Most commonly you will just load the default one.\n",
            "\n",
            "    Args:\n",
            "        params (dict): The dictionary to use. For an example, refer to the\n",
            "            default lexicon in ``defaults.py``.\n",
            "    \n"
          ],
          "name": "stdout"
        }
      ]
    },
    {
      "cell_type": "code",
      "metadata": {
        "id": "qIl_q_WOzSw3",
        "colab_type": "code",
        "outputId": "8e8d3fad-1e18-4875-ee92-68dea8ac7bb7",
        "colab": {
          "base_uri": "https://localhost:8080/",
          "height": 55
        }
      },
      "source": [
        "lexicon = Lexicon.default()\n",
        "lexicon #scroll around!"
      ],
      "execution_count": 0,
      "outputs": [
        {
          "output_type": "execute_result",
          "data": {
            "text/plain": [
              "{'lithology': ['overburden', 'sandstone', 'siltstone', 'shale', 'mudstone', 'limestone', 'dolomite', 'salt', 'halite', 'anhydrite', 'gypsum', 'sylvite', 'clay', 'mud', 'silt', 'sand', 'gravel', 'boulders'], 'amount': ['streaks?', 'veins?', 'stringers?', 'interbed(?:s|ded)?', 'blotch(?:es)?', 'bands?', 'fragments?', 'impurit(?:y|ies)', 'minor', 'some', 'abundant', 'rare', 'flakes?', '[-\\\\.\\\\d]+%'], 'grainsize': ['vf(?:-)?', 'f(?:-)?', 'm(?:-)?', 'c(?:-)?', 'vc', 'very fine(?: to)?', 'fine(?: to)?', 'medium(?: to)?', 'coarse(?: to)?', 'very coarse', 'v fine(?: to)?', 'med(?: to)?', 'med.(?: to)?', 'v coarse', 'grains?', 'granules?', 'pebbles?', 'cobbles?', 'boulders?'], 'colour': ['red(?:dish)?', 'gray(?:ish)?', 'grey(?:ish)?', 'black(?:ish)?', 'whit(?:e|ish)', 'blu(?:e|ish)', 'purpl(?:e|ish)', 'yellow(?:ish)?', 'green(?:ish)?', 'brown(?:ish)?', 'light', 'dark', 'sandy'], 'synonyms': {'Overburden': ['Drift'], 'Anhydrite': ['Gypsum'], 'Salt': ['Halite', 'Sylvite']}, 'splitters': [' with ', ' contain(?:s|ing) ', '\\\\. '], 'parts_of_speech': {'noun': ['lithology'], 'adjective': ['colour', 'grainsize'], 'subordinate': ['amount']}, 'abbreviations': {'gt': 'gritty', 'dist': 'distillate', 'gr': 'grained', 'LSD': 'legal subdivision', 'ptg': 'parting', 'alg': 'algal', 'mnr': 'minor', 'Assem': 'Assem', 'Vad': 'vadose', 'MCW': 'mud cut water', 'Pch': 'patch', 'gd': 'good', '/': 'with', 'ga': 'gauged', 'bulb': 'bulbous', 'Var': 'variation', 'gn': 'green', 'alt': 'altering', 'Gil': 'gilsonite', 'Oyst': 'oyster', 'sch': 'schist', 'Clst': 'claystone', 'ves': 'vesicular', 'Nod': 'nodules', 'tt': 'tightly', 'V.P.S.': 'very poor sample V.P.S.', 'asph': 'asphaltic', 'SIP': 'shut in pressure', 'tn': 'tan', 'G&OCM': 'gas and oil cut mud', 'DI': 'dual induction log', 'Mol': 'mollusca', 'Inoc': 'inoceramus*', 'spec': 'speckled', '@': 'at', 'Amph': 'amphipora*', 'vert': 'vertical', 'lrg': 'larger', 'md': 'muddy', 'wthrd': 'weathered', 'Brec': 'breccia', 'D & A': 'dry and abandoned', 'fau': 'fauna', 'depau': 'depauperate', 'shad': 'shadow', 'DF': 'derrick floor', 'gy': 'gray', 'Elev': 'elevation', 'indst': 'indistinct', 'Syring': 'syringopora*', 'fac': 'faceted', 'GL': 'guard log', 'brhg': 'branching', 'Gt': 'grit', 'Gr': 'grains', 'FIt': 'fault', 'Tas': 'tasmanites*', 'Spr': 'spore', 'fenst': 'fenestral', 'plag': 'plagioclase', 'p': 'poorly', 'Spk': 'speck', 'Spl': 'sampole', 'SNP': 'sidewall neutron porosity log', 'n.s.': 'no sample', 'Clcar': 'calcarenite', 'pbl': 'pebble (4-64 mm)', 'cmt': 'cemented', 'Spg': 'sponge', 'Grv': 'gravel', 'Cyp': 'cypridopsis*', 'Grt': 'granite', 'SP': 'spontaneous potential', 'Res': 'residue', 'Bioh': 'bioherm', 'Biost': 'biostrom', 'tex': 'texture', 'Brach': 'brachiopod', 'hydc': 'hydrocarbon', 'Ren': 'renalcis*', 'Biot': 'biotite', 'Peld': 'pelletoid', 'Bld': 'boulder', 'ter': 'terriginous', 'splty': 'splintery', 'acic': 'acicular', 'sug': 'sugary', 'bdd': 'bedded', 'bdg': 'bedding', 'gl': 'glassy', 'abd': 'abundant', 'Intst': 'intersticies', 'Micr': 'micrite', 'O str': 'Ostracod', 'Clcsp': 'calcisphere', 'bl': 'bluish', 'abs': 'absent', 'abt': 'about', 'conspic': 'conspicuous', 'Spfool': 'superficial olite', 'sli': 'slightly', 'med': 'medium', 'O&SW': 'oil and salt water', 'biocl': 'bioclastic', 'Agg': 'aggregate', 'DST': 'drill stem test', 'Mn': 'manganese', 'psdo': 'pseudo', 'len': 'lentilcular', 'rug': 'rugosa', 'Wd': 'wood', 'hkl': 'hackly', 'DLL': 'dual laterolog', 't.s.': 'thin section', 'Mtrx': 'matrix', 'crpxln': 'crystocrystalline', 'Zn': 'zone', 'Anthr': 'anthracite', 'altg': 'alternating', 'blksh': 'blackish', 'bor': 'boreding', 'dru': 'drusy', 'ctd': 'coated', 'Conc': 'concretion', 'wtr cush': 'water cushion', 'ctc': 'contact', 'micropor': 'microporosity', 'Zr': 'zircon', 'Cono': 'conodont', 'sft': 'soft', 'Piso': 'pisoid', 'LL': 'laterolog', 'lmn': 'limonitic', 'volc': 'volcanics', 'Ctgs': 'cuttings', 'apr': 'apparent', 'tr': 'trace', 'app': 'appear', 'brt': 'bright', 'ls': 'limestone', 'Slt': 'silt', 'Circ': 'circulate', 'aph': 'aphanitic', 'oomol': 'oomoldic', 'brk': 'brackish', 'vit': 'vitreous', 'org': 'organic', 'n.v.p.': 'no visible porosity', 'w/': 'with', 'brd': 'bored', 'intxln': 'intercrystalline', 'Para': 'paraparchites*', 'Fp': 'flowing pressure', 'Ft': 'foot', 'perf': 'perforated', '&': 'and', 'fen': 'fenestraal', 'pred': 'predominantly', 'Phlog': 'phloaopite', 'perm': 'permeability', 'fibr': 'fibrous', 'msm': 'metasomatic', 'cht': 'chert', 'Fe': 'iron-ferruginous', 'dns': 'denser', 'vi': 'violet', 'fros': 'frosted', 'calc': 'calcitareous', 'Fm': 'formation', 'pres': 'preservation', 'cntrt': 'contorted', 'wvy': 'wavy', 'vps': 'very poor samples', 'ooc': 'oocastic', 'musc': 'muscovite', 'glas': 'glassy', 'Sh': 'shale', 'lchd': 'leached', 'rhb': 'rhombic', 'glau': 'glauconitic', 'Brac': 'brachiopod', 'choc': 'chocolate', 'chit': 'chitinous', 'Str': 'structure', 'Sl': 'slate', 'clus': 'cluster', 'Sa': 'salt', 'Cmt': 'cement', 'lmpy': 'lumpy', 'Sd': 'sand', 'intrapar': 'intraparticle', 'phos': 'phosphatic', 'prly': 'pearly', 'Lstr': 'lustre', 'tns': 'tension', 'f': 'finely', 'fls': 'flesh', 'des': 'descript', 'SW': 'salt water', 'flt': 'faulted', 'Cbl': 'cobble', 'plty': 'platy', 'lithgr': 'lithographic', 'flk': 'flake', 'W.R.': 'washed residue', 'SO': 'show of oil', 'v': 'very', 'deb': 'debris', 'slty': 'silty', 'fld': 'feldsparthic', 'flg': 'flaggy', 'ptch': 'patches', 'Lig': 'lignite', 'mica': 'micaeous', 'bent': 'bentonitic', 'Min': 'mineral', 'sy-Ca': 'sparry calcite', 'Lim': 'limonite', 'Invtb': 'invertebrate', 'sps': 'sparsly', 'Mid': 'middle', 'yelsh': 'ish', 'sph': 'spherules', 'spl': 'sample', 'Ls': 'limestone', 'tab': 'tabular', 'Plcy': 'palecypod', 'scat': 'scattered', 'psool': 'pseudo oolitic', 'GR': 'gamma ray', 'spsly': 'sparsly', 'Bdeye': 'birdseye', 'purp': 'purple', 'Pyr': 'pyrite', 'hom': 'homogeneous', 'Kao': 'kaolin', 'Spic': 'spicule', 'hor': 'horizontal', 'Belm': 'belemnites*', 'sid': 'sideritic', 'aft': 'after', 'Rhb': 'rhomb', 'Typ': 'type', 'sim': 'similar', 'sil': 'siliceous', 'frag': 'fragmental', 'lam': 'laminated', 'fr': 'fair', 'mar': 'maroon', 'frac': 'fractured', 'srt': 'sorting', 'Dol': 'dolomite', 'I.P.': 'in part', 'cpct': 'compact', 'max': 'maximum', 'insl': 'insoluble', 'lac': 'lacustrine', 'Mrl': 'marl', 'mag': 'magnetic', 'Ctc': 'contact', 'ireg': 'irregular', 'lav': 'lavender', 'IAB': 'initial air blow', 'fl': 'filled', 'Tril': 'trilobite', 'Foram': 'foraminifera', 'MMCFG': 'million cubic feet of gas', 'Clvg': 'cleavage', 'Alg': 'algal', 'sp': 'spotty', 'Deer': 'decrease', 'Microspr': 'microspar', 'su': 'sulphurous', 'or': 'orangish', 'strk': 'streaked', 'stri': 'striated', 'sh': 'shale', 'Moll': 'mollusc', 'spkld': 'speckled', 'sm': 'smooth', 'sl': 'slightly', 'sc': 'scales', 'sb': 'sub', 'sa': 'salt', 'strg': 'stringer', 'Trip': 'tripoli', 'Equiv': 'equivalent', 'lse': 'loose', 'mnut': 'minute', 'BHCS': 'bore hole compensated sonic', 'Cal': 'caliper', 'Chk': 'chalk', 'Biomi': 'biomicrite', 'brit': 'brittle', 'coln': 'colonial', 'Smwt': 'somewhat', 'Rf': 'reef', 'Cht': 'chert', '(D)': 'development', 'decr': 'decreasing', 'Rk': 'rock', 'RT': 'rotary table', 'fis': 'fissile', 'cln': 'clean', 'xl': 'crystalline', 'cbl': 'cobble (64-256 mm)', 'Aglm': 'agglomerate', 'Evap': 'evapourite', 'sa-c': 'salt castic', 'fib': 'fibrous', 'imp': 'impression', 'lt': 'lighter', 'eux': 'euxinic', 'cren': 'crenulated', 'gty': 'gravity', 'dess': 'dessiccation', 'clr': 'clear', 'TSTM': 'too small to measure', 'Bas': 'basalt', 'Shw': 'show', 'nod': 'nodule', 'uncons': 'unconsolidated', 'rexl': 'recrystallization', 'Cav': 'cavernous', 'FAB': 'fair air blow', 'aprox': 'approximately', '₵': 'core', 'Schm': 'schist', 'Shl': 'shell', 'xln': 'crystalline', 'Rad': 'radial', 'Oomol': 'oomold', 'Dist': 'distillate', 'extr': 'extremely', 'l': 'lower', 'Anhy': 'anhydrite', 'intv': 'interval', 'Stach': 'stachyodes*', 'crpxl': 'cryptocrystalline', 'Poln': 'pollen', 'Chtz': 'chitinozoa', 'MCFG': 'thousand cubic feet of gas', 'frmwk': 'framework', 'Lith': 'lithology', 'Macrofos': 'macrofossil', 'prphy': 'porphyry', 'Lut': 'lutite', 'OFM': 'oil flecked mud', 'Asph': 'assemblage', 'intpar': 'interparticle', 'Perm': 'permeability', 'Bdst': 'boundstone', 'chty': 'cherty', 'meta': 'metamorphic', 'ex': 'excellent', 'hrtl': 'horizontal', 'p-p': 'pin point', 'zeo': 'zeolite', 'n/s': 'no show', 'nac': 'nacerous', 'Wtr': 'water', 'apprx': 'approximate', 'rr': 'rare', 'Musc': 'muscovite', 'intclas': 'intraclastic', 'rep': 'replacedment', 'porcel': 'porcelaneous', 'BOPH': 'barrels of oil per hour', 'rd': 'rounded', 'rf': 'reefoid', 'sml': 'small', 'blk': 'black', 'IP': 'initial production', 'bld': 'bladed', 'Tub': 'tube', 'Pisol': 'pisolite', 'mtx': 'matrix', 'lmy': 'limy', 'Phos': 'phosphate', 'crd': 'cored', 'G': 'gas', 'Spo': 'spore', 'GCM': 'gas cut mud', 'SGCM': 'slight gas cut mud', 'OWWO': 'old well worked over', 'Novac': 'novaculite', 'rhmb': 'rhombic', 'argl': 'argillate', 'W': 'west', 'carb': 'carbonaceous', 'Frac': 'fracture', 'freq': 'frequent', 'ES': 'electric', 'Pyrxn': 'pyroxene', 'g': 'good', 'Contam': 'contamination', 'srtg': 'Sorteding', 'Chal': 'chalcedony', 'fspr': 'feldsparathic', 'Char': 'charophyte', 'SSO': 'slight show of oil', 'Hyde': 'hydrocarbon', 'w': 'well', 'intgn': 'inter grown', 'vrtb': 'vertebrate', 'Sphal': 'sphalerite', 'intpt': 'interpretation', 'cche': 'caliche', 'Frg': 'fringe', 'sacc': 'saccharoidal', 'onc': 'oncolites', 'Slick slick': 'slickenside', 'Diagn': 'diagenesis', 'zn': 'zone', 'Imp': 'impression', 'sblit': 'sublithic', 'Prod': 'production', 'Incl': 'inclusion', 'Frag': 'fragment', 'sphal': 'sphalerite', 'Iran': 'granule', 'dtrl': 'detritalus', 'wthd': 'weathered', 'WCM': 'water cut mud', 'GCW': 'gas cut water', 'Pet': 'petroleum', 'Microstyl': 'microstylolite', 'Volc': 'volcanic', 'BWPH': 'barrels of water per hour', 'thru': 'throughout', 'intcl': 'intraclasts', 'Biosp': 'biosparite', 'Girv': 'girvanella*', 'OWDD': 'oil well drilled deeper', 'consol': 'consolidated', 'Fus': 'fusulinid', 'sz': 'size', 'grysh': 'greyish', 'mrlst': 'marlstone', 'Strk': 'streak', 'SGCW': 'slight gas cut water', 'crnk': 'crinkled', 'Rbl': 'rubble', 'Fuc': 'fucoid', 'bdeye': 'birdseye', 'gyp': 'gypsumiferous', 'orng': 'orange', 'Endo': 'endothyra*', 'BHFP': 'bottom hole flow pressure', 'Xl': 'crystal', 'stn': 'staining', 'Qtz': 'quartz', 'csg': 'casing', 'Chlor': 'chlorite', 'r': 'rare', 'mky': 'milky', 'str': 'streak', 'Onc': 'oncolite', 'Btm': 'bottom', 'Slst': 'siltstone', 'dissem': 'disseminated', 'spr': 'sparry', 'Pap': 'paper', 'grnt': 'granite', 'Par': 'particle', 'ang': 'angular', 'Descr': 'description', 'intgwn': 'intergrown', 'Stylio': 'styliolina*', 'Intclas': 'intraclast', 'Rem': 'remains', 'chlor': 'chlorite', 'euhd': 'euhedral', 'Pend': 'pendularous', 'Rec': 'recovery', 'grnl': 'granule (2-4 mm)', 'Calc': 'calcite', 'p.d': 'pressure deformation', 'recem': 'recemented', 'strgr': 'stringer', 'lig': 'lignitic', 'Glauc': 'glauconite', 'intbd': 'interbedded', 'lim': 'itic', 'mic': 'micro', 'Db': 'diabase', 'Port por': 'porosity', 'Ech': 'echinoid', 'lit': 'lithic', 'Fluor': 'fluoresceince', 'vrvd': 'varved', 'Arag': 'aragonite', 'vgt': 'varigated', 'Clus': 'cluster', 'mot': 'mottled', 'surf': 'surface', 'pos': 'possibility', 'plas': 'plastic', 'pyr': 'pyritized', 'In': 'inch', 'kao': 'kaolin', 'Orbit': 'Orbitolina', 'MLL': 'microlaterolog', 'sdy': 'sandy', 'Mic': 'micaceous', 'Plt': 'plant', 'assoc': 'associated', 'rthy': 'earthy', 'Ivan': 'ivanovia*', 'suc': 'sucrosic', 'intercal': 'intercalated', 'glos': 'glossy', 'typ': 'typical', 'abv': 'above', 'MCO': 'mud cut oil', 'Unconf': 'unconformity', 'Bent': 'bentonite', 'dol': 'dolomitic', 'dom': 'dominant', 'flor': 'fluorescence', 'sltst': 'siltstone', 'brec': 'brecciated', 'Stri': 'striae', 'dism': 'disseminated', 'BHT': 'bottom hole temperature', 'exv': 'extrusive', 'Pol': 'polish', 'GTS': 'gas to surface', 'Mbr': 'member', 'exp': 'exposed', 'Pybit': 'pyrobitumen', 'a.a.': 'same as above sample', 'intlam': 'interlaminated', 'sd': 'sand (1/16-2 mm)', 'Rpl': 'ripple', 'dend': 'dendritic', 'pkr': 'packer', 'drlg': 'drilling', 'Spher': 'spherule', 'Hal': 'halitiferous', 'lstr': 'lustre', 'Exclas': 'extraclast', 'ML': 'microlog, minilog', 'anhy': 'anhydritic', 'drlr': 'driller', 'Rud': 'rudist', 'grapst': 'grapestone', 'Bubl': 'bubble', 'pris': 'prismatic', 'Bnd': 'band', 'och': 'ochre', 'spher': 'spherulitic', 'Jt': 'joint', 'occ': 'occasional', 'Wl': 'well', 'varic': 'varicolored', 'intrlam': 'interlaminated', 'O&G': 'oil and gas', 'mnrl': 'mineralized', 'Shlt por': 'shelter porosity', 'AOF': 'absolute open flow', 'Gyp': 'gypsumiferous', 'Bit': 'bitumen', 'Gast': 'gastropod', 'Pst': 'pumice-stone', 'PB': 'plugged back', 'Stromlt': 'stromatolite', 'BO': 'barrels of oil', 'dk': 'darker', 'CN': 'compensated neutron', 'KB': 'kelly bushing', 'dd': 'dead', 'Intvl': 'interval', 'stromlt': 'stromatolite', 'Fspr': 'feldspar', 'Milid': 'miliolid', 'cotg': 'coateding', 'cotd': 'coateding', 'repl': 'replacement', 'slily': 'slightly', 'struc': 'structure', 'SO&G': 'show of oil and gas', 'gen': 'generally', 'hetr': 'heterogeneous', 'crs': 'coarse', 'bar': 'baritic', 'bas': 'basaltic', '(W)': 'wildcat', 'shy': 'shaly', 'FDL': 'formation density log', 'w/o': 'without w/o', 'BW': 'barrels of water', 'rsns': 'resinous', 'PL': 'proximity log', 'gran': 'granular', 'BWPD': 'barrels of water per day', 'x': 'cross', 'grad': 'grading', 'Qtzt': 'quartzite', 'crm': 'cream', 'res': 'residuual', 'Pt': 'part', 'OTD': 'old total depth', 'contam': 'contaminated', 'S.W.C.': 'sidewall core', 'qtz': 'quartz', 'magnt': 'magnetite', 'Pel': 'pellet', 'num': 'numerous', 'sec': 'secondary', 'fnly': 'finly', 'arg': 'argillaceous', 'ark': 'arkosic', 'rmn': 'remainant', 'prim': 'primary', 'volat': 'volatile', 'SOCW': 'slight oil cut water', 'piso': 'pisolitic', 'pkish': 'pinkish', 'metaph': 'metamorphosed', 'trnsp': 'transparent', 'irr': 'irregular', 'hornbd': 'hornblend', \"'' or do\": 'ditto', 'biost': 'biostromal', 'gept': 'geopetal', 'trnsl': 'translucent', 'PD': 'per day', 'PH': 'per hour', 'SO&W': 'show of oil and water', 'Vnlet': 'veinlet', 'Tham': 'thamnopora*', 'wg': 'vuggy', 'C': 'coal', 'men': 'meniscus', 'exclas': 'extraclastic', 'lg': 'long', 'jt': 'jointing', 'comp': 'completion', 'gnsh': 'greenish', 'wk': 'weak', 'wi': 'with', 'wh': 'white', 'Exv': 'extrusive rock', 'S': 'sonic, acoustilog', 'magn': 'magnetic', 'gywk': 'graywacke', 'G.W.': 'granite wash', 'Satm sat': 'saturation', 'tub': 'tubular', 'tuf': 'tuffaceous', 'coq': 'coquina', 'vug': 'vugular', 'c': 'coarsely', 'fnt': 'faintly', 'dkr': 'darker', 'cov': 'covered', 'conch': 'conchoidal', 'intgran': 'intergranular', 'SI': 'shut in', 'Chit': 'chitinous', 's': 'small', 'Meta': 'metamorphic rock', 'Sst': 'sandstone', 'brak': 'brackish', 'uni': 'uniform', 'com': 'common', 'cotd gn': 'coated grains', 'Het': 'Heterostegina', 'foram': 'foraminiferal', 'chky': 'chalky', 'cl': 'clastic', 'cb': 'carbonized', 'Glas': 'glass', 'rad': 'radiating', 'poly': 'polygonal', 'hvy': 'heavy', 'pol': 'polished', 'Pent': 'pentamerus*', 'Hem': 'hematite', 'tgh': 'tough', 'cp': 'compare', 'Surf': 'surface', 'ps': 'pseudo-', 'frg': 'fringing', 'pt': 'partly', 'Bur': 'burrow', 'fri': 'friable', 'blsh': 'bluish', 'pch': 'patchy', 'stmg': 'streaming', 'frs': 'fresh', 'skel': 'skeletal', 'pyrbit': 'pyrobitumen', 'pk': 'pink', 'devit': 'devitrified', 'authg': 'authigenic', 'pl': 'plant', 'cly': 'clayey', 't.b.': 'thin-bedded', 'Tr': 'trace', 'IES': 'induction electric', 'WAB': 'weak air blow', 'lge': 'large', 'spic': 'spicular', 'psi': 'pounds per square inch', 'crbnt': 'carbonate', 'Tp': 'top', 'Pkst': 'packstone', 'Sedm': 'sediment', 'Cont': 'content', 'xbdg': 'cross-bedding', 'gns': 'gneiss', 'micgr': 'micrograined', 'Cl': 'clay', 'slt': 'silt', 'vcol': 'varicolored', 'undly': 'underlying', 'grnt.w': 'granite wash', 'n': 'no, none, non', 'contm': 'contaminated', 'sln': 'solution', 'rbl': 'rubblbly', 'fuc': 'fucoidal', 'Intr': 'intrusive', 'cvg': 'cavings', 'k': 'permeabilityable', 'slb': 'slabby', 'FTAB': 'faint air blow', 'DIL': 'dual induction laterolog', 'pyrcl': 'pyroclastic', 'cons': 'considerable', 'rndd': 'rounded', 'bot': 'botryoidal', 'Sel': 'selenite', 'vn': 'vein', 'Tf': 'tuffaceous', 'styl': 'stylotitic', 'conc': 'concretionary', 'mott': 'mottled', 'xlam': 'cross-laminated', 'x-strat': 'cross-stratified', 'Strom': 'stromatoporoid', 'ig': 'igneous', 'pap': 'papery', 'incr': 'increasing', 'litt': 'littoral', 'intstl': 'interstitial', 'bioturb': 'bioturbated', 'PPM': 'parts per million', 'GAP': 'good air blow', 'Repl': 'replaced', 'lith': 'lithographic', 'elong': 'elongate', 'Chara': 'charophytes', 'sat': 'saturated', 'incl': 'inclusion', 'Coq': 'coquina', 'Vug': 'vug', 'Cor': 'coral', 'intst': 'intersticitial', 'cncn': 'concentric', 'rng': 'range', 'orth': 'orthoclase', 'rdsh': 'redish', 'syn': 'syntaxial', 'Microfos': 'microfossilferous', 'phr': 'phreatic', 'Wkst': 'wackestone', 'pisol': 'pisolitic', 'Col': 'color', 'Jasp': 'jasper', 'Mat': 'material', 'Mbl': 'marble', 'intxl': 'intercrystalline', 'detr': 'detrital', 'sed': 'sedimentary', 'x-bd': 'cross-bedded', 'gsy': 'grasy', 'OWPB': 'oil well plugged back', 'min': 'mineralized', 'Sol': 'Soution', 'Vn': 'vein', 'col': 'colored', 'x-lam': 'cross-laminated', 'thn': 'thin', 'thk': 'thick', 'fltg': 'floating', 'Ig': 'igneous rock', 'imbd': 'imbedded', 'ck': 'choke', 'BHP': 'bottom hole pressure', 'yel': 'yellow', 'Orth': 'orthoclase', 'sptd': 'spottedy', 'spty': 'spottedy', 'Sphaer': 'sphaerocodium*', 'Pbl': 'pebble', 'intfrag': 'interfragmental', 'Scaph': 'scaphopod', 'resd': 'residual', 'Bd': 'bed', 'Fe-mag': 'ferro-magnesian', 'sks': 'slickensided', 'rexlzd': 'recrystallized', 'Bm': 'basement', 'Glob': 'globigerina*', 'elg': 'elongate', 'unident': 'unidentifiable', 'Fau': 'fauna', 'Gal': 'galeolaria*', 'cub': 'cubic', 'Fac': 'facet', 'Glos': 'gloss', 'Gab': 'gabbro', 'bnd': 'banded', 'Oo': 'ooid', 'Gns': 'gneiss', 'amb': 'amber', 'strat': 'strataified', 'amm': 'ammonite', 'vis': 'visible', 'mos': 'mosaic', 'por': 'poroussity', 'uncons.': 'unconsolidated', 'embd': 'embedded', 'Dia': 'diameter', 'rnd': 'rounded', 'sbang': 'subangular', 'cntr': 'centered', 'mol': 'moldic', 'Cvg': 'caving', 'bit': 'bitumeninous', 'Micropor': 'micropore', 'S.W.': 'salt water', 'amt': 'amount', 'mod': 'moderate', 'Crin': 'crinoidal', 'Lyr': 'layer', 'brn': 'brown', 'boudg': 'boudinage', 'OC': 'oil cut', 'Microol': 'micro-oolite', 'Ltl': 'little', 'V.op': 'valve open', 'amor': 'amorphous', 'Ark': 'arkose', 'clas': 'clastic', 'Psool': 'pseudo oolite', 'Strat': 'strata', 'Bdg': 'bedding', 'bri': 'bright', 'drsy': 'drusy', 'tstg': 'testing', 'Scol': 'scolecodonts', 'crpld': 'crumpled', 'SOCM': 'slight oil cut mud', 'rec': 'recovered', 'Fvst': 'favosites*', 'sbrndd': 'sub rounded', 'p.p.': 'pin-poin', 'HO': 'heavy oil', 'olv': 'olive', 'Mdst': 'mudstone', 's & p': 'salt and pepper', 'venn': 'vermillon', 'u': 'upper', 'gvl': 'gravel', 'fos': 'fossiliferous', 'pet': 'petroleumiferous', 'Clclt': 'calcilutite', 'OSR': 'oil source rock', 'Len': 'lens', 'pel': 'pellet', 'circ': 'circulation', 'prom': 'prominently', 'fol': 'foliated', 'peld': 'pelletoidal', 'Tent': 'tentaculites*', 'prob': 'probably', 'bd': 'bed', 'flky': 'flaky', 'bf': 'buff', 'LL8': 'laterolog-8', 'cgl': 'conglomerate', 'Gwke': 'graywacke', 'slky': 'silky', 'Grap': 'graptolite', 'Bor': 'bored', 'bo': 'bophaceous', 'Bot': 'botryoid', 'phen': 'phenocrysts', 'posa': 'possible', 'bu': 'buff', 'sel': 'selenite', 'Gran': 'granule', 'r.f.p': 'rounded frosted pitted', 'Clslt': 'calcisiltite', 'ss': 'sandstone', 'Uc': 'underclay', 'oo': 'ooidal', 'GOR': 'gas-to-oil ratio', 'Clcrd': 'calcirudite', 'euhed': 'euhedral', 'Solen': 'solenopora*', 'Euryamph': 'euryamphipora*', 'Ptg': 'parting', 'od': 'odor', 'eqnt': 'equant', 'Ost': 'ostracod', 'o': 'oil', 'Ceph': 'cephalopod', 'irid': 'iridescent', 'ox': 'oxidized', 'Casph': 'calcisphaera*', 'ti': 'tight', 'Foss': 'fossiliferous', 'sept': 'septate', 'marn': 'marine', 'Scs': 'scarce', 'op': 'open', 'chk': 'chalky', 'ahd': 'anhedral', 'Fen': 'fenestra', 'qtzc': 'quartzitic', 'sol': 'solitary', 'corln': 'coralline', 'mas': 'massive', 'ferr': 'ferruginous', 'Cub': 'cube', 'intr': 'intrusionive', 'Chaet': 'chaetetes*', 'OCM': 'oil cut mud', 'qtzs': 'quartzose', 'qtzt': 'quartzite', 'GIP': 'good initial puff', 'loc': 'location', 'blky': 'blocky', 'phyl': 'phyllitic', 'vrtl': 'vertical', 'Ooc': 'oolicast', 'anhed': 'anhedral', 'aren': 'arenaceous', 'Ool': 'oolite', 'bioh': 'biohermal', 'diagn': 'diagenesisetic', 'Pelec': 'pelecypod', 'biot': 'biotite', 'abnt': 'abundant', 'var': 'variable', 'hem': 'hematitic', 'gil': 'gilsonite', 'calctc': 'calcitic', 'clyst': 'claystone', 'fl/': 'flowing', 'bur': 'burrowed', 'ea': 'earthy', 'micr': 'micritic', 'grdg': 'grading', 'Flk': 'flake', 'hi': 'high', 's&p': 'salt & pepper', 'Flo': 'flora', 'Deb': 'debris', 'Splin': 'splintery', 'hd': 'hard', 'coqid': 'coquinaoid', 'Grst': 'grainstone', 'Phyl': 'phyllite', 'med.': 'medium', 'microxln': 'microcrystalline', 'Plag': 'plagioclase', 'mat': 'material, matter', 'bldr': 'boulder', 'up': 'upper', 'Tex': 'texture', 'mdy': 'muddy', 'WIP': 'weak initial puff', 'olvn': 'olivine', 'ab': 'above', 'mrl': 'marly', 'orsh': 'orangish', 'Allo': 'allochem', 'm': 'medium', 'deer': 'decreasing', 'chal': 'chalcedony', 'ovgth': 'overgrowth', 'ap': 'appears', 'Sid': 'siderite', 'ind': 'indurated', 'pit': 'pitted', 'trip': 'tripolic', 'DL': 'density log', 'Sil': 'silica', 'Lam': 'laminations', 'F.Q.G.': 'frosted quartz  grains', 'Cgl': 'conglomerate', 'hex': 'hexagonal', 'wxy': 'waxy', 'gry': 'greyish', 'Fe-st': 'ironstone', 'oom': 'oomoldic', 'grd': 'graded', 'BHSIP': 'bottom hole shut in pressure', 'Mag': 'magnetite', 'ool': 'oolitic', 'Lat': 'laterite', 'mass': 'massive', 'T.D.': 'total depth', 'Stn': 'stain', 'sqz': 'squeezed', 'E': 'east', 'BOPD': 'barrels of oil per day', 'aglm': 'agglomerate', 'evap': 'evapourititic', 'fluor': 'fluoresceincent', 'est': 'estimated', 'Su': 'sulphur', 'lent': 'lenticular', 'stal': 'stalactitic', 'N': 'Neutron', 'wtr': 'water', 'dolst': 'dolostone', 'bcm': 'becoming', 'OTS': 'oil to surface', 'SAB': 'strong air blow', 'Bry': 'bryozoa', 'O-Qtz': 'orthoquartzite', 'Styl': 'stylolite', 'crinal': 'crinoidal', 'Brk': 'break', 'mrly': 'marly', 'Av': 'average', 'xbd': 'cross-bedded', 'Radax': 'radiaxial', 'swbd': 'swabbed'}}"
            ]
          },
          "metadata": {
            "tags": []
          },
          "execution_count": 21
        }
      ]
    },
    {
      "cell_type": "code",
      "metadata": {
        "id": "wplg43oQzZsS",
        "colab_type": "code",
        "outputId": "8da0fb6c-b685-4839-cb2e-44ec33e2fec5",
        "colab": {
          "base_uri": "https://localhost:8080/",
          "height": 72
        }
      },
      "source": [
        "lexicon.synonyms"
      ],
      "execution_count": 0,
      "outputs": [
        {
          "output_type": "execute_result",
          "data": {
            "text/plain": [
              "{'Anhydrite': ['Gypsum'],\n",
              " 'Overburden': ['Drift'],\n",
              " 'Salt': ['Halite', 'Sylvite']}"
            ]
          },
          "metadata": {
            "tags": []
          },
          "execution_count": 22
        }
      ]
    },
    {
      "cell_type": "markdown",
      "metadata": {
        "id": "OlhXQJhOT_Sm",
        "colab_type": "text"
      },
      "source": [
        "These abbrevations are common for mudlogs, there is a great turtorial on the github if you are interested in that"
      ]
    },
    {
      "cell_type": "code",
      "metadata": {
        "id": "YrVURU9VzsVr",
        "colab_type": "code",
        "outputId": "8388839e-8a98-4242-b391-2139d981ee2e",
        "colab": {
          "base_uri": "https://localhost:8080/",
          "height": 35
        }
      },
      "source": [
        "s = \"grysh gn ss w/ sp gy sh\"\n",
        "lexicon.expand_abbreviations(s)"
      ],
      "execution_count": 0,
      "outputs": [
        {
          "output_type": "execute_result",
          "data": {
            "text/plain": [
              "'greyish green sandstone with spotty gray shale'"
            ]
          },
          "metadata": {
            "tags": []
          },
          "execution_count": 23
        }
      ]
    },
    {
      "cell_type": "markdown",
      "metadata": {
        "id": "chYLbMkC0IuB",
        "colab_type": "text"
      },
      "source": [
        "### Componet"
      ]
    },
    {
      "cell_type": "code",
      "metadata": {
        "id": "dVv1JwfczxvL",
        "colab_type": "code",
        "colab": {}
      },
      "source": [
        "from striplog import Component"
      ],
      "execution_count": 0,
      "outputs": []
    },
    {
      "cell_type": "code",
      "metadata": {
        "id": "UXZ8U4J_0NdL",
        "colab_type": "code",
        "outputId": "df18e772-e39b-476b-a1ac-42a33fe0eff4",
        "colab": {
          "base_uri": "https://localhost:8080/",
          "height": 220
        }
      },
      "source": [
        "print(Component.__doc__)"
      ],
      "execution_count": 0,
      "outputs": [
        {
          "output_type": "stream",
          "text": [
            "\n",
            "    Initialize with a dictionary of properties. You can use any\n",
            "    properties you want e.g.:\n",
            "\n",
            "        - lithology: a simple one-word rock type\n",
            "        - colour, e.g. 'grey'\n",
            "        - grainsize or range, e.g. 'vf-f'\n",
            "        - modifier, e.g. 'rippled'\n",
            "        - quantity, e.g. '35%', or 'stringers'\n",
            "        - description, e.g. from cuttings\n",
            "    \n"
          ],
          "name": "stdout"
        }
      ]
    },
    {
      "cell_type": "markdown",
      "metadata": {
        "id": "rDdBXxnK0z0g",
        "colab_type": "text"
      },
      "source": [
        "We define a new rock with a Python dict object:"
      ]
    },
    {
      "cell_type": "code",
      "metadata": {
        "id": "afhsP2F_0WFj",
        "colab_type": "code",
        "outputId": "765b2ff4-5334-41b3-d5b3-c036c9297c79",
        "colab": {
          "base_uri": "https://localhost:8080/",
          "height": 83
        }
      },
      "source": [
        "r = {'colour': 'grey',\n",
        "     'grainsize': 'vf-f',\n",
        "     'lithology': 'sand'}\n",
        "rock = Component(r)\n",
        "rock"
      ],
      "execution_count": 0,
      "outputs": [
        {
          "output_type": "execute_result",
          "data": {
            "text/html": [
              "<table><tr><td><strong>colour</strong></td><td>grey</td></tr><tr><td><strong>grainsize</strong></td><td>vf-f</td></tr><tr><td><strong>lithology</strong></td><td>sand</td></tr></table>"
            ],
            "text/plain": [
              "Component({'colour': 'grey', 'grainsize': 'vf-f', 'lithology': 'sand'})"
            ]
          },
          "metadata": {
            "tags": []
          },
          "execution_count": 79
        }
      ]
    },
    {
      "cell_type": "markdown",
      "metadata": {
        "id": "6DCRYRW409Sx",
        "colab_type": "text"
      },
      "source": [
        "You can now call these componets!"
      ]
    },
    {
      "cell_type": "code",
      "metadata": {
        "id": "ngMolD_Q0yao",
        "colab_type": "code",
        "outputId": "c626f8f2-1c35-4efc-cf6c-e05dbde7bab8",
        "colab": {
          "base_uri": "https://localhost:8080/",
          "height": 35
        }
      },
      "source": [
        "rock['colour'] # who spelled this?! < Matt Hall/>"
      ],
      "execution_count": 0,
      "outputs": [
        {
          "output_type": "execute_result",
          "data": {
            "text/plain": [
              "'grey'"
            ]
          },
          "metadata": {
            "tags": []
          },
          "execution_count": 80
        }
      ]
    },
    {
      "cell_type": "code",
      "metadata": {
        "id": "HBFGy1lw07YQ",
        "colab_type": "code",
        "outputId": "3c7e3d03-c495-43ef-efa9-e33c22198719",
        "colab": {
          "base_uri": "https://localhost:8080/",
          "height": 35
        }
      },
      "source": [
        "rock.summary()"
      ],
      "execution_count": 0,
      "outputs": [
        {
          "output_type": "execute_result",
          "data": {
            "text/plain": [
              "'Grey, vf-f, sand'"
            ]
          },
          "metadata": {
            "tags": []
          },
          "execution_count": 81
        }
      ]
    },
    {
      "cell_type": "code",
      "metadata": {
        "id": "I1EFdIy__Sue",
        "colab_type": "code",
        "outputId": "dd582436-6f83-4485-f49f-df32b84dd7bf",
        "colab": {
          "base_uri": "https://localhost:8080/",
          "height": 35
        }
      },
      "source": [
        "rock.summary(fmt=\"My rock: {lithology} ({colour}, {grainsize!u})\")"
      ],
      "execution_count": 0,
      "outputs": [
        {
          "output_type": "execute_result",
          "data": {
            "text/plain": [
              "'My rock: sand (grey, VF-F)'"
            ]
          },
          "metadata": {
            "tags": []
          },
          "execution_count": 82
        }
      ]
    },
    {
      "cell_type": "markdown",
      "metadata": {
        "id": "mqUDg4me_Zu-",
        "colab_type": "text"
      },
      "source": [
        "\n",
        "\n",
        "The formatting supports the usual s, r, and a:\n",
        "\n",
        "    s: str\n",
        "    r: repr\n",
        "    a: ascii\n",
        "\n",
        "Also some string functions:\n",
        "\n",
        "    u: str.upper\n",
        "    l: str.lower\n",
        "    c: str.capitalize\n",
        "    t: str.title\n",
        "\n",
        "And some numerical ones, for arrays of numbers:\n",
        "\n",
        "    + or ∑: np.sum\n",
        "    m or µ: np.mean\n",
        "    v: np.var\n",
        "    d: np.std\n",
        "    x: np.product\n",
        "\n"
      ]
    },
    {
      "cell_type": "markdown",
      "metadata": {
        "id": "_ZnIvwCOA3I8",
        "colab_type": "text"
      },
      "source": [
        "### Position"
      ]
    },
    {
      "cell_type": "markdown",
      "metadata": {
        "id": "i1HBWOlCBtwU",
        "colab_type": "text"
      },
      "source": [
        "Positions define points in the earth, like a top, but with uncertainty. You can define:\n",
        "\n",
        "    upper — the highest possible location\n",
        "    middle — the most likely location\n",
        "    lower — the lowest possible location\n",
        "    units — the units of measurement\n",
        "    x and y — the x and y location (these don't have uncertainty, sorry)\n",
        "    meta — a Python dictionary containing anything you want\n",
        "\n",
        "Positions don't have a 'way up'."
      ]
    },
    {
      "cell_type": "code",
      "metadata": {
        "id": "BVYJBakwAuno",
        "colab_type": "code",
        "outputId": "e88b5b65-5b34-454a-8693-0b2a6eb02ad7",
        "colab": {
          "base_uri": "https://localhost:8080/",
          "height": 146
        }
      },
      "source": [
        "from striplog import Position\n",
        "print(Position.__doc__)"
      ],
      "execution_count": 0,
      "outputs": [
        {
          "output_type": "stream",
          "text": [
            "\n",
            "    Used to represent a position: a top or base.\n",
            "\n",
            "    Not sure whether to go with upper-middle-lower or z_max, z_mid, z_min.\n",
            "    Sticking to upper and lower, because ordering in Intervals is already\n",
            "    based on 'above' and 'below'.\n",
            "    \n"
          ],
          "name": "stdout"
        }
      ]
    },
    {
      "cell_type": "code",
      "metadata": {
        "id": "KiRIlnIGBy_H",
        "colab_type": "code",
        "outputId": "c9b7cc1a-e624-43d6-f26e-d28b26de397b",
        "colab": {
          "base_uri": "https://localhost:8080/",
          "height": 83
        }
      },
      "source": [
        "params = {'upper': 95,\n",
        "          'middle': 100,\n",
        "          'lower': 110,\n",
        "          'meta': {'kind': 'erosive', 'source': 'DOE'}\n",
        "          }\n",
        "\n",
        "p = Position(**params)\n",
        "p"
      ],
      "execution_count": 0,
      "outputs": [
        {
          "output_type": "execute_result",
          "data": {
            "text/html": [
              "<table><tr><td><strong>upper</strong></td><td>95.0</td></tr><tr><td><strong>middle</strong></td><td>100.0</td></tr><tr><td><strong>lower</strong></td><td>110.0</td></tr></table>"
            ],
            "text/plain": [
              "Position({'middle': 100.0, 'upper': 95.0, 'lower': 110.0, 'units': 'm', 'meta': <striplog.position.Meta object at 0x7f181d5facf8>})"
            ]
          },
          "metadata": {
            "tags": []
          },
          "execution_count": 25
        }
      ]
    },
    {
      "cell_type": "markdown",
      "metadata": {
        "id": "YJe61woyB-dA",
        "colab_type": "text"
      },
      "source": [
        "Even if you don't give a middle, you can always get z: the central, most likely position:"
      ]
    },
    {
      "cell_type": "code",
      "metadata": {
        "id": "JdqZiqVJB2Ia",
        "colab_type": "code",
        "outputId": "c5584537-1af6-4823-b65f-8778c2d43858",
        "colab": {
          "base_uri": "https://localhost:8080/",
          "height": 83
        }
      },
      "source": [
        "params = {'upper': 75, 'lower': 85}\n",
        "p = Position(**params)\n",
        "p"
      ],
      "execution_count": 0,
      "outputs": [
        {
          "output_type": "execute_result",
          "data": {
            "text/html": [
              "<table><tr><td><strong>upper</strong></td><td>75.0</td></tr><tr><td><strong>middle</strong></td><td></td></tr><tr><td><strong>lower</strong></td><td>85.0</td></tr></table>"
            ],
            "text/plain": [
              "Position({'upper': 75.0, 'lower': 85.0, 'units': 'm'})"
            ]
          },
          "metadata": {
            "tags": []
          },
          "execution_count": 26
        }
      ]
    },
    {
      "cell_type": "code",
      "metadata": {
        "id": "aNY8bCnJB5pR",
        "colab_type": "code",
        "outputId": "f0d598a1-4587-4b4d-88e2-a0ad8710f892",
        "colab": {
          "base_uri": "https://localhost:8080/",
          "height": 35
        }
      },
      "source": [
        "p.z"
      ],
      "execution_count": 0,
      "outputs": [
        {
          "output_type": "execute_result",
          "data": {
            "text/plain": [
              "80.0"
            ]
          },
          "metadata": {
            "tags": []
          },
          "execution_count": 27
        }
      ]
    },
    {
      "cell_type": "markdown",
      "metadata": {
        "id": "BhRxFHfyD-IK",
        "colab_type": "text"
      },
      "source": [
        "## Let's make a striplog!"
      ]
    },
    {
      "cell_type": "markdown",
      "metadata": {
        "id": "J8J72ScVUgKr",
        "colab_type": "text"
      },
      "source": [
        "I just introduced a bunch of boring things about dictionaries, etc. What makes this nice once you get it setup, is you can make some templates for common formations and lithotypes. We are going to do a simple one from this [github](https://github.com/ThomasMGeo/CSV2Striplog)"
      ]
    },
    {
      "cell_type": "code",
      "metadata": {
        "id": "0XP_HqNOEA68",
        "colab_type": "code",
        "colab": {}
      },
      "source": [
        "from striplog import Lexicon, Decor, Component, Legend, Interval, Striplog"
      ],
      "execution_count": 0,
      "outputs": []
    },
    {
      "cell_type": "markdown",
      "metadata": {
        "id": "eZb0Cp87Xq0-",
        "colab_type": "text"
      },
      "source": [
        "\n",
        "### Make a legend\n",
        "\n",
        "Most of the stuff in the dicts you made were about display — so they are going to make Decor objects. A collection of Decors makes a Legend. A Legend determines how a striplog is displayed.\n",
        "\n",
        "First I'll make the components, since those are easy. I'll move 'train' into there too, since it is to do with the rocks, not the display. If it seems weird having 'train' in the Component (which is really supposed to be about direct descriptions of the rock, but the idea is that it's always the same for all specimens of that rock so it does fit here) then you could put it in data instead.\n"
      ]
    },
    {
      "cell_type": "code",
      "metadata": {
        "id": "pcknjhAREDMS",
        "colab_type": "code",
        "colab": {}
      },
      "source": [
        "facies = {\n",
        "    's': Component({'lithology': 'sandstone', 'train':'y'}),\n",
        "    'i': Component({'lithology': 'interbedded', 'train':'y'}),\n",
        "    'sh': Component({'lithology': 'shale', 'train':'y'}),\n",
        "}"
      ],
      "execution_count": 0,
      "outputs": []
    },
    {
      "cell_type": "markdown",
      "metadata": {
        "id": "E90MLt41QVum",
        "colab_type": "text"
      },
      "source": [
        "The next block of text could be less lines of code. The indenting is just a way to make it easier to read. Everyone has there own style of programming. We are just setting the decor of our future striplog plot. "
      ]
    },
    {
      "cell_type": "code",
      "metadata": {
        "id": "FAmbodZEGDub",
        "colab_type": "code",
        "colab": {}
      },
      "source": [
        "sandstone = Decor({\n",
        "    'component': facies['s'],\n",
        "    'colour': 'yellow',\n",
        "    'hatch': '.',\n",
        "    'width': '3',\n",
        "})\n",
        "\n",
        "interbedded = Decor({\n",
        "    'component': facies['i'],\n",
        "    'colour': 'darkseagreen',\n",
        "    'hatch': '--',\n",
        "    'width': '2',\n",
        "})\n",
        "\n",
        "shale = Decor({\n",
        "    'component': facies['sh'],\n",
        "    'colour': 'darkgray',\n",
        "    'hatch': '-',\n",
        "    'width': '1',\n",
        "})\n"
      ],
      "execution_count": 0,
      "outputs": []
    },
    {
      "cell_type": "code",
      "metadata": {
        "id": "vUkb8iyjEHsC",
        "colab_type": "code",
        "outputId": "6e181193-f894-4a1c-fcb6-2bd542c6d822",
        "colab": {
          "base_uri": "https://localhost:8080/",
          "height": 187
        }
      },
      "source": [
        "legend = Legend([sandstone, interbedded, shale])\n",
        "legend"
      ],
      "execution_count": 0,
      "outputs": [
        {
          "output_type": "execute_result",
          "data": {
            "text/html": [
              "<table><tr><th>width</th><th>component</th><th>hatch</th><th>colour</th></tr><tr><td style=\"color:black; background-color:white\">3.0</td><td style=\"color:black; background-color:white\"><table><tr><td><strong>lithology</strong></td><td>sandstone</td></tr><tr><td><strong>train</strong></td><td>y</td></tr></table></td><td style=\"color:black; background-color:white\">.</td><td style=\"color:#000000; background-color:#ffff00\">#ffff00</td></tr><tr><td style=\"color:black; background-color:white\">2.0</td><td style=\"color:black; background-color:white\"><table><tr><td><strong>lithology</strong></td><td>interbedded</td></tr><tr><td><strong>train</strong></td><td>y</td></tr></table></td><td style=\"color:black; background-color:white\">--</td><td style=\"color:#000000; background-color:#8fbc8f\">#8fbc8f</td></tr><tr><td style=\"color:black; background-color:white\">1.0</td><td style=\"color:black; background-color:white\"><table><tr><td><strong>lithology</strong></td><td>shale</td></tr><tr><td><strong>train</strong></td><td>y</td></tr></table></td><td style=\"color:black; background-color:white\">-</td><td style=\"color:#000000; background-color:#a9a9a9\">#a9a9a9</td></tr></table>"
            ],
            "text/plain": [
              "Legend(Decor({'component': Component({'lithology': 'sandstone', 'train': 'y'}), '_colour': '#ffff00', 'hatch': '.', 'width': 3.0})\n",
              "Decor({'component': Component({'lithology': 'interbedded', 'train': 'y'}), '_colour': '#8fbc8f', 'hatch': '--', 'width': 2.0})\n",
              "Decor({'component': Component({'lithology': 'shale', 'train': 'y'}), '_colour': '#a9a9a9', 'hatch': '-', 'width': 1.0}))"
            ]
          },
          "metadata": {
            "tags": []
          },
          "execution_count": 32
        }
      ]
    },
    {
      "cell_type": "code",
      "metadata": {
        "id": "kdZINUZ9FJ8C",
        "colab_type": "code",
        "outputId": "085563ca-ec08-4374-994a-dddc43c25a90",
        "colab": {
          "base_uri": "https://localhost:8080/",
          "height": 153
        }
      },
      "source": [
        "strip = Striplog.from_csv('t20-lith.csv')\n",
        "strip[0]"
      ],
      "execution_count": 0,
      "outputs": [
        {
          "output_type": "execute_result",
          "data": {
            "text/html": [
              "<table><tr><td style=\"width:2em; background-color:#DDDDDD\" rowspan=\"6\"></td><td><strong>top</strong></td><td>2200.0</td></tr><tr><td><strong>primary</strong></td><td>None</td></tr><tr><td><strong>summary</strong></td><td>None</td></tr><tr><td><strong>description</strong></td><td></td></tr><tr><td><strong>data</strong></td><td><table><tr><td><strong>lithology</strong></td><td>s</td></tr></table></td></tr><tr><td><strong>base</strong></td><td>2300.329</td></tr></table>"
            ],
            "text/plain": [
              "Interval({'top': Position({'middle': 2200.0, 'units': 'm'}), 'base': Position({'middle': 2300.329, 'units': 'm'}), 'description': '', 'data': {'lithology': 's'}, 'components': []})"
            ]
          },
          "metadata": {
            "tags": []
          },
          "execution_count": 38
        }
      ]
    },
    {
      "cell_type": "markdown",
      "metadata": {
        "id": "lIafor_hZmOo",
        "colab_type": "text"
      },
      "source": [
        "\n",
        "##Deal with lithology¶\n",
        "\n",
        "The lithology has been turned into a component, but it's using the abbreviation... I can't figure out an elegant way to deal with this so, for now, we'll just loop over the striplog and fix it. We read the data item's lithology ('s' in the top layer), then look up the correct lithology name in our abbreviation dictionary, then add the new component in the proper place. Finally, we delete the data we had.\n"
      ]
    },
    {
      "cell_type": "code",
      "metadata": {
        "id": "cQAFZ8TvbCj6",
        "colab_type": "code",
        "outputId": "e29dbda8-3833-471a-f7db-13f5e17961e0",
        "colab": {
          "base_uri": "https://localhost:8080/",
          "height": 35
        }
      },
      "source": [
        "strip[0].data"
      ],
      "execution_count": 0,
      "outputs": [
        {
          "output_type": "execute_result",
          "data": {
            "text/plain": [
              "{'lithology': 's'}"
            ]
          },
          "metadata": {
            "tags": []
          },
          "execution_count": 39
        }
      ]
    },
    {
      "cell_type": "code",
      "metadata": {
        "id": "2RfW9CKNN2jq",
        "colab_type": "code",
        "colab": {}
      },
      "source": [
        "for s in strip:\n",
        "    lith = s.data['lithology']\n",
        "    s.components = [facies[lith]]\n",
        "    s.data = {}\n",
        "# Run once, not twice"
      ],
      "execution_count": 0,
      "outputs": []
    },
    {
      "cell_type": "code",
      "metadata": {
        "id": "Ic1z-rx1sOr8",
        "colab_type": "code",
        "outputId": "28f31d83-8f94-4ae8-c910-d6d13017e95b",
        "colab": {
          "base_uri": "https://localhost:8080/",
          "height": 175
        }
      },
      "source": [
        "strip[0]"
      ],
      "execution_count": 0,
      "outputs": [
        {
          "output_type": "execute_result",
          "data": {
            "text/html": [
              "<table><tr><td style=\"width:2em; background-color:#DDDDDD\" rowspan=\"6\"></td><td><strong>top</strong></td><td>2200.0</td></tr><tr><td><strong>primary</strong></td><td><table><tr><td><strong>lithology</strong></td><td>sandstone</td></tr><tr><td><strong>train</strong></td><td>y</td></tr></table></td></tr><tr><td><strong>summary</strong></td><td>100.33 m of sandstone, y</td></tr><tr><td><strong>description</strong></td><td></td></tr><tr><td><strong>data</strong></td><td><table></table></td></tr><tr><td><strong>base</strong></td><td>2300.329</td></tr></table>"
            ],
            "text/plain": [
              "Interval({'top': Position({'middle': 2200.0, 'units': 'm'}), 'base': Position({'middle': 2300.329, 'units': 'm'}), 'description': '', 'data': {}, 'components': [Component({'lithology': 'sandstone', 'train': 'y'})]})"
            ]
          },
          "metadata": {
            "tags": []
          },
          "execution_count": 41
        }
      ]
    },
    {
      "cell_type": "code",
      "metadata": {
        "id": "OIDZuhx9QD9X",
        "colab_type": "code",
        "outputId": "dd4e8a60-703c-4890-bfe4-745ed80debc2",
        "colab": {
          "base_uri": "https://localhost:8080/",
          "height": 1000
        }
      },
      "source": [
        "strip.plot(legend)"
      ],
      "execution_count": 0,
      "outputs": [
        {
          "output_type": "display_data",
          "data": {
            "image/png": "[encoded data removed]",
            "text/plain": [
              "<Figure size 108x1080 with 1 Axes>"
            ]
          },
          "metadata": {
            "tags": [],
            "needs_background": "light"
          }
        }
      ]
    },
    {
      "cell_type": "markdown",
      "metadata": {
        "id": "omZz8U_esVcU",
        "colab_type": "text"
      },
      "source": [
        "Just plotted a simple strip log from a CSV! You can make striplogs 100 different ways, and I highly reccomend the turtorials on the github for more exploration. "
      ]
    },
    {
      "cell_type": "code",
      "metadata": {
        "id": "RSaKowW-aAOF",
        "colab_type": "code",
        "colab": {}
      },
      "source": [
        ""
      ],
      "execution_count": 0,
      "outputs": []
    },
    {
      "cell_type": "markdown",
      "metadata": {
        "id": "qX_LLr4PSj27",
        "colab_type": "text"
      },
      "source": [
        "# Closing Thoughts"
      ]
    },
    {
      "cell_type": "markdown",
      "metadata": {
        "id": "qF4CsEzYbdbF",
        "colab_type": "text"
      },
      "source": [
        "\n",
        "*   Start small, try to replicate current workflows\n",
        "*   Know that in the beginning that stuff will take longer amounts of time\n",
        "*   Try to work on a problem on your own for a little bit, but don't be afraid of asking for help on swung or stack overflow\n",
        "*   Colab is great for quick analysis and some machine learning workflows, but doing a normal install of [Anaconda](https://www.anaconda.com/) on your own machine is a good idea for more advanced analysis or specific packages. \n",
        "*   Have fun! Sometimes it can be frustrating, but a quick walk or sleeping on problems can also help\n",
        "*   Be excellent to each other\n",
        "\n",
        "*fin!*"
      ]
    },
    {
      "cell_type": "code",
      "metadata": {
        "id": "-JEcxBqIyR-C",
        "colab_type": "code",
        "colab": {}
      },
      "source": [
        ""
      ],
      "execution_count": 0,
      "outputs": []
    }
  ]
}